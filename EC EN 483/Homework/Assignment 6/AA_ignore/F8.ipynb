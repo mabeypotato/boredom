{
 "cells": [
  {
   "cell_type": "code",
   "execution_count": 16,
   "metadata": {},
   "outputs": [],
   "source": [
    "import sympy\n",
    "from sympy import *\n",
    "from sympy.physics.vector.printing import vlatex\n",
    "from IPython.display import Math, display\n",
    "\n",
    "init_printing()\n",
    "\n",
    "def dotprint(expr):\n",
    "    display(Math(vlatex(expr)))"
   ]
  },
  {
   "cell_type": "markdown",
   "metadata": {},
   "source": [
    "# constants"
   ]
  },
  {
   "cell_type": "code",
   "execution_count": 17,
   "metadata": {},
   "outputs": [],
   "source": [
    "m_c = 1\n",
    "m_r = 0.25\n",
    "d = 0.3\n",
    "mu_val = 0.1\n",
    "g = 9.81\n",
    "J_c = 0.0042"
   ]
  },
  {
   "cell_type": "markdown",
   "metadata": {},
   "source": [
    "# longitudinal"
   ]
  },
  {
   "cell_type": "code",
   "execution_count": 18,
   "metadata": {},
   "outputs": [],
   "source": [
    "mc, mr, kp_L, kd_L, s_L, A_L, Hr, H  = symbols('m_c, m_r, k_p_ell, k_d_ell, s_ell, A_ell, H_r, H')"
   ]
  },
  {
   "cell_type": "code",
   "execution_count": 19,
   "metadata": {},
   "outputs": [],
   "source": [
    "A_L_val = 1/(m_c + 2*m_r)\n",
    "k_p_L = 0.113\n",
    "k_d_L = 0.583"
   ]
  },
  {
   "cell_type": "code",
   "execution_count": null,
   "metadata": {},
   "outputs": [],
   "source": [
    "PD_long = (A_L * kp_L)/(s_L**2 + kd_L*A_L*s_L + kp_L*A_L)"
   ]
  },
  {
   "cell_type": "code",
   "execution_count": null,
   "metadata": {},
   "outputs": [],
   "source": [
    "LHS = H\n",
    "RHS = Hr*PD_long\n",
    "\n",
    "PD_long_eq = Eq(LHS, RHS)"
   ]
  },
  {
   "cell_type": "code",
   "execution_count": null,
   "metadata": {},
   "outputs": [],
   "source": [
    "PD_long_sub = PD_long_eq.subs({A_L: A_L_val, kp_L: k_p_L, kd_L: k_d_L})"
   ]
  },
  {
   "cell_type": "markdown",
   "metadata": {},
   "source": [
    "# inner"
   ]
  },
  {
   "cell_type": "code",
   "execution_count": 32,
   "metadata": {},
   "outputs": [],
   "source": [
    "A_inner = 20.325\n",
    "kp_inner = 0.372\n",
    "kd_inner = 0.191"
   ]
  },
  {
   "cell_type": "code",
   "execution_count": 29,
   "metadata": {},
   "outputs": [],
   "source": [
    "tau, theta, theta_r, z, kp_i, kd_i, s_i, A_i = symbols('\\\\tau, \\\\theta, \\\\theta_r, z, k_p_i, k_D_i, s_i, A_i')"
   ]
  },
  {
   "cell_type": "code",
   "execution_count": 30,
   "metadata": {},
   "outputs": [
    {
     "data": {
      "image/png": "[encoded data removed]",
      "text/latex": [
       "$\\displaystyle \\theta = \\frac{A_{i} \\theta_{r} k_{p i}}{A_{i} k_{D i} s_{i} + A_{i} k_{p i} + s_{i}^{2}}$"
      ],
      "text/plain": [
       "               Aᵢ⋅\\thetaᵣ⋅kₚ ᵢ      \n",
       "\\theta = ───────────────────────────\n",
       "                                   2\n",
       "         Aᵢ⋅k_D_i⋅sᵢ + Aᵢ⋅kₚ ᵢ + sᵢ "
      ]
     },
     "execution_count": 30,
     "metadata": {},
     "output_type": "execute_result"
    }
   ],
   "source": [
    "PD_inner = (kp_i*A_i)/(s_i**2 + s_i*A_i*kd_i + kp_i*A_i)\n",
    "RHS = theta_r*PD_inner\n",
    "LHS = theta\n",
    "\n",
    "PD_inner_eq = Eq(LHS, RHS)\n",
    "PD_inner_eq"
   ]
  },
  {
   "cell_type": "code",
   "execution_count": 33,
   "metadata": {},
   "outputs": [
    {
     "data": {
      "image/png": "[encoded data removed]",
      "text/latex": [
       "$\\displaystyle \\theta = \\frac{7.5609 \\theta_{r}}{s_{i}^{2} + 3.882075 s_{i} + 7.5609}$"
      ],
      "text/plain": [
       "               7.5609⋅\\thetaᵣ      \n",
       "\\theta = ──────────────────────────\n",
       "           2                       \n",
       "         sᵢ  + 3.882075⋅sᵢ + 7.5609"
      ]
     },
     "execution_count": 33,
     "metadata": {},
     "output_type": "execute_result"
    }
   ],
   "source": [
    "PD_inner_sub = PD_inner_eq.subs({kp_i: kp_inner, kd_i: kd_inner, A_i: A_inner})\n",
    "PD_inner_sub"
   ]
  },
  {
   "cell_type": "markdown",
   "metadata": {},
   "source": [
    "# outer"
   ]
  },
  {
   "cell_type": "code",
   "execution_count": 40,
   "metadata": {},
   "outputs": [],
   "source": [
    "b_0 = -9.8\n",
    "a_1 = 0.067\n",
    "a_0 = 0\n",
    "kp_outer = -0.0077\n",
    "kd_outer = -0.0328"
   ]
  },
  {
   "cell_type": "code",
   "execution_count": 36,
   "metadata": {},
   "outputs": [],
   "source": [
    "b0, a0, a1, kp_o, kd_o, s_o, Z= symbols('b_0, a_0, a_1, k_p_o, k_d_o, s_o, Z')"
   ]
  },
  {
   "cell_type": "code",
   "execution_count": 35,
   "metadata": {},
   "outputs": [
    {
     "data": {
      "image/png": "[encoded data removed]",
      "text/latex": [
       "$\\displaystyle \\frac{b_{0} k_{p o}}{a_{0} + b_{0} k_{p o} + s_{o}^{2} + s_{o} \\left(a_{1} + b_{0} k_{d o}\\right)}$"
      ],
      "text/plain": [
       "                b₀⋅kₚ ₒ                \n",
       "───────────────────────────────────────\n",
       "                 2                     \n",
       "a₀ + b₀⋅kₚ ₒ + sₒ  + sₒ⋅(a₁ + b₀⋅k_d_o)"
      ]
     },
     "execution_count": 35,
     "metadata": {},
     "output_type": "execute_result"
    }
   ],
   "source": [
    "PD_outer = (b0 * kp_o)/(s_o**2 + s_o*(a1 + b0*kd_o) + kp_o*b0 + a0)"
   ]
  },
  {
   "cell_type": "code",
   "execution_count": 38,
   "metadata": {},
   "outputs": [
    {
     "data": {
      "image/png": "[encoded data removed]",
      "text/latex": [
       "$\\displaystyle Z = \\frac{\\theta b_{0} k_{p o}}{a_{0} + b_{0} k_{p o} + s_{o}^{2} + s_{o} \\left(a_{1} + b_{0} k_{d o}\\right)}$"
      ],
      "text/plain": [
       "                \\theta⋅b₀⋅kₚ ₒ             \n",
       "Z = ───────────────────────────────────────\n",
       "                     2                     \n",
       "    a₀ + b₀⋅kₚ ₒ + sₒ  + sₒ⋅(a₁ + b₀⋅k_d_o)"
      ]
     },
     "execution_count": 38,
     "metadata": {},
     "output_type": "execute_result"
    }
   ],
   "source": [
    "LHS = Z\n",
    "RHS = theta * PD_outer\n",
    "\n",
    "PD_outer_eq = Eq(LHS, RHS)"
   ]
  },
  {
   "cell_type": "code",
   "execution_count": 41,
   "metadata": {},
   "outputs": [
    {
     "data": {
      "image/png": "[encoded data removed]",
      "text/latex": [
       "$\\displaystyle Z = \\frac{0.07546 \\theta}{s_{o}^{2} + 0.38844 s_{o} + 0.07546}$"
      ],
      "text/plain": [
       "          0.07546⋅\\theta      \n",
       "Z = ──────────────────────────\n",
       "      2                       \n",
       "    sₒ  + 0.38844⋅sₒ + 0.07546"
      ]
     },
     "execution_count": 41,
     "metadata": {},
     "output_type": "execute_result"
    }
   ],
   "source": [
    "PD_outer_subs = PD_outer_eq.subs({b0: b_0, a1: a_1, a0: a_0, kp_o: kp_outer, kd_o: kd_outer})\n",
    "PD_outer_subs"
   ]
  }
 ],
 "metadata": {
  "kernelspec": {
   "display_name": ".venv",
   "language": "python",
   "name": "python3"
  },
  "language_info": {
   "codemirror_mode": {
    "name": "ipython",
    "version": 3
   },
   "file_extension": ".py",
   "mimetype": "text/x-python",
   "name": "python",
   "nbconvert_exporter": "python",
   "pygments_lexer": "ipython3",
   "version": "3.12.5"
  }
 },
 "nbformat": 4,
 "nbformat_minor": 2
}
