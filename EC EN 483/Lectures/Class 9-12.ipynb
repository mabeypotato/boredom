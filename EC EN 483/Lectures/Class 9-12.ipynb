{
 "cells": [
  {
   "cell_type": "code",
   "execution_count": 17,
   "metadata": {},
   "outputs": [],
   "source": [
    "import numpy as np\n",
    "import sympy\n",
    "from sympy import *"
   ]
  },
  {
   "cell_type": "code",
   "execution_count": 18,
   "metadata": {},
   "outputs": [],
   "source": [
    "sympy.init_printing()"
   ]
  },
  {
   "cell_type": "code",
   "execution_count": 21,
   "metadata": {},
   "outputs": [
    {
     "name": "stderr",
     "output_type": "stream",
     "text": [
      "<>:2: SyntaxWarning: invalid escape sequence '\\d'\n",
      "<>:2: SyntaxWarning: invalid escape sequence '\\d'\n",
      "C:\\Users\\conno\\AppData\\Local\\Temp\\ipykernel_37512\\4214656121.py:2: SyntaxWarning: invalid escape sequence '\\d'\n",
      "  x_dot, x_ddot = symbols(\"\\dot{x}, \\ddot{x}\")\n"
     ]
    },
    {
     "data": {
      "text/latex": [
       "$\\displaystyle 0.166666666666667 \\ddot{x} + 0.5 \\dot{x}^{2} + t x$"
      ],
      "text/plain": [
       "                                        2      \n",
       "0.166666666666667⋅\\ddot{x} + 0.5⋅\\dot{x}  + t⋅x"
      ]
     },
     "execution_count": 21,
     "metadata": {},
     "output_type": "execute_result"
    }
   ],
   "source": [
    "x = sympy.Symbol('x')\n",
    "x_dot, x_ddot = symbols(\"\\dot{x}, \\ddot{x}\")\n",
    "\n",
    "eq = (x*t + 1/2*x_dot**2 + 1/6*x_ddot)\n",
    "eq.expand()"
   ]
  }
 ],
 "metadata": {
  "kernelspec": {
   "display_name": ".venv",
   "language": "python",
   "name": "python3"
  },
  "language_info": {
   "codemirror_mode": {
    "name": "ipython",
    "version": 3
   },
   "file_extension": ".py",
   "mimetype": "text/x-python",
   "name": "python",
   "nbconvert_exporter": "python",
   "pygments_lexer": "ipython3",
   "version": "3.12.5"
  }
 },
 "nbformat": 4,
 "nbformat_minor": 2
}
