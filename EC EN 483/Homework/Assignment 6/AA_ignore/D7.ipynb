{
 "cells": [
  {
   "cell_type": "code",
   "execution_count": 1,
   "metadata": {},
   "outputs": [],
   "source": [
    "import sympy\n",
    "from sympy import *\n",
    "from sympy.physics.vector.printing import vlatex\n",
    "from IPython.display import Math, display\n",
    "\n",
    "init_printing()\n",
    "\n",
    "def dotprint(expr):\n",
    "    display(Math(vlatex(expr)))"
   ]
  },
  {
   "cell_type": "code",
   "execution_count": 14,
   "metadata": {},
   "outputs": [],
   "source": [
    "b_d, kp, kd, k, m, s= symbols('b, k_p, k_D, k, m, s')"
   ]
  },
  {
   "cell_type": "code",
   "execution_count": 15,
   "metadata": {},
   "outputs": [
    {
     "data": {
      "text/latex": [
       "$\\displaystyle s = - \\frac{b}{2 m} - \\frac{k_{D}}{2 m} + \\frac{\\sqrt{- \\frac{4 k}{m} - \\frac{4 k_{p}}{m} + \\left(\\frac{b}{m} + \\frac{k_{D}}{m}\\right)^{2}}}{2}$"
      ],
      "text/plain": [
       "<IPython.core.display.Math object>"
      ]
     },
     "metadata": {},
     "output_type": "display_data"
    }
   ],
   "source": [
    "a = 1\n",
    "b = (b_d/m + kd/m)\n",
    "c = (kp/m + k/m)\n",
    "RHS = (-1*b + sqrt(b**2 - 4*a*c))/(2*a)\n",
    "LHS = s\n",
    "equation = Eq(LHS, RHS)\n",
    "dotprint(equation)\n"
   ]
  },
  {
   "cell_type": "code",
   "execution_count": 20,
   "metadata": {},
   "outputs": [
    {
     "data": {
      "image/png": "[encoded data removed]",
      "text/latex": [
       "$\\displaystyle s = - \\frac{k_{D}}{10} + \\frac{\\sqrt{- \\frac{4 k_{p}}{5} + \\frac{\\left(k_{D} + 0.5\\right)^{2}}{25} - \\frac{12}{5}}}{2} - 0.05$"
      ],
      "text/plain": [
       "                 ____________________________       \n",
       "                ╱                     2             \n",
       "               ╱    4⋅kₚ   (k_D + 0.5)    12        \n",
       "              ╱   - ──── + ──────────── - ──        \n",
       "      k_D   ╲╱       5          25        5         \n",
       "s = - ─── + ───────────────────────────────── - 0.05\n",
       "      10                    2                       "
      ]
     },
     "execution_count": 20,
     "metadata": {},
     "output_type": "execute_result"
    }
   ],
   "source": [
    "Pc_p = equation.subs({m: 5, k: 3, b_d: 0.5})\n",
    "Pc_p_ans = solve(Pc_p, -1)\n",
    "Pc_p"
   ]
  },
  {
   "cell_type": "code",
   "execution_count": 21,
   "metadata": {},
   "outputs": [],
   "source": [
    "Z, Zr, s = symbols('Z_r, Z, s')"
   ]
  },
  {
   "cell_type": "code",
   "execution_count": 32,
   "metadata": {},
   "outputs": [
    {
     "data": {
      "image/png": "[encoded data removed]",
      "text/latex": [
       "$\\displaystyle Z = \\frac{0.9 Z_{r}}{s^{2} + 0.7 s + 1.5}$"
      ],
      "text/plain": [
       "         0.9⋅Zᵣ     \n",
       "Z = ────────────────\n",
       "     2              \n",
       "    s  + 0.7⋅s + 1.5"
      ]
     },
     "execution_count": 32,
     "metadata": {},
     "output_type": "execute_result"
    }
   ],
   "source": [
    "H = (kp/m)/(s**2 + s*(b_d/m + k/m) + (kp/m + k/m))\n",
    "LHS = Zr\n",
    "RHS = Z * H\n",
    "\n",
    "PD_equation = Eq(LHS, RHS)\n",
    "\n",
    "PD_sub = PD_equation.subs({m: 5, k: 3, b_d: 0.5, kp: 4.5, kd: 12})\n",
    "PD_sub"
   ]
  }
 ],
 "metadata": {
  "kernelspec": {
   "display_name": ".venv",
   "language": "python",
   "name": "python3"
  },
  "language_info": {
   "codemirror_mode": {
    "name": "ipython",
    "version": 3
   },
   "file_extension": ".py",
   "mimetype": "text/x-python",
   "name": "python",
   "nbconvert_exporter": "python",
   "pygments_lexer": "ipython3",
   "version": "3.12.5"
  }
 },
 "nbformat": 4,
 "nbformat_minor": 2
}
