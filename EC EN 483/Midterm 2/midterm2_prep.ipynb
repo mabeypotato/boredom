{
 "cells": [
  {
   "cell_type": "code",
   "execution_count": 21,
   "metadata": {},
   "outputs": [],
   "source": [
    "import numpy as np\n",
    "import sympy\n",
    "from sympy import *\n",
    "from sympy.physics.vector.printing import vlatex\n",
    "from IPython.display import Math, display\n",
    "\n",
    "init_printing()\n",
    "\n",
    "def dotprint(expr):\n",
    "    display(Math(vlatex(expr)))"
   ]
  },
  {
   "cell_type": "code",
   "execution_count": null,
   "metadata": {},
   "outputs": [
    {
     "data": {
      "text/plain": [
       "array([[-1],\n",
       "       [ 1],\n",
       "       [ 4]])"
      ]
     },
     "execution_count": 29,
     "metadata": {},
     "output_type": "execute_result"
    }
   ],
   "source": [
    "Ac = np.array([[9, 7, -3],\n",
    "                  [-4, 2, 8],\n",
    "                  [0.5, 0.5, 4]])\n",
    "\n",
    "char_poly = np.poly(Ac)\n",
    "char_poly\n",
    "\n",
    "a_A = np.array([char_poly[1], char_poly[2], char_poly[3]])\n",
    "\n",
    "Bc = np.vstack([-1, 1, 4])\n",
    "\n",
    "Cc = np.hstack([0.1, 0.2, -0.3])\n",
    "\n",
    "cont = np.hstack([Bc, Ac@Bc, Ac @ Ac @ Bc])\n",
    "\n",
    "Ao = Ac.T\n",
    "Bo = Cc.T\n",
    "Co = Bc.T\n",
    "\n",
    "obs = np.vstack([Co, Co @ Ao, Co @ Ao @ Ao])"
   ]
  },
  {
   "cell_type": "code",
   "execution_count": 24,
   "metadata": {},
   "outputs": [
    {
     "data": {
      "text/plain": [
       "array([   1. ,  -15. ,   87.5, -185. ])"
      ]
     },
     "execution_count": 24,
     "metadata": {},
     "output_type": "execute_result"
    }
   ],
   "source": [
    "A = np.array([[9, 7, -3], [-4, 2, 8], [0.5, 0.5, 4]])\n",
    "poly = np.poly(A)\n",
    "poly"
   ]
  }
 ],
 "metadata": {
  "kernelspec": {
   "display_name": ".venv",
   "language": "python",
   "name": "python3"
  },
  "language_info": {
   "codemirror_mode": {
    "name": "ipython",
    "version": 3
   },
   "file_extension": ".py",
   "mimetype": "text/x-python",
   "name": "python",
   "nbconvert_exporter": "python",
   "pygments_lexer": "ipython3",
   "version": "3.12.5"
  }
 },
 "nbformat": 4,
 "nbformat_minor": 2
}
