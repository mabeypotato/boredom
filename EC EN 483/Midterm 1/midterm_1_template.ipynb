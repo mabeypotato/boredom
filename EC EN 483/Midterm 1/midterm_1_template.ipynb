{
 "cells": [
  {
   "attachments": {},
   "cell_type": "markdown",
   "metadata": {},
   "source": [
    "# Midterm 1 Template\n",
    "\n",
    "This template file may be used on the midterm exam _as written_. In other words, you won't be allowed to modify this file beforehand to use on the exam. However, you may take notes on your handwritten 8.5 x 11 sheet.\n",
    "\n",
    "The only Python libraries and documentation you may use on this exam are the `numpy` and `sympy` libraries and documentation. You may not use any others.\n",
    "\n",
    "You've got this! :)"
   ]
  },
  {
   "cell_type": "code",
   "execution_count": 2,
   "metadata": {},
   "outputs": [],
   "source": [
    "import numpy as np\n",
    "import sympy\n",
    "from sympy import *\n",
    "from sympy.physics.vector.printing import vlatex\n",
    "from IPython.display import Math, display\n",
    "\n",
    "init_printing()\n",
    "\n",
    "def dotprint(expr):\n",
    "    display(Math(vlatex(expr)))"
   ]
  },
  {
   "cell_type": "markdown",
   "metadata": {},
   "source": [
    "### Euler Lagrange Utilities"
   ]
  },
  {
   "cell_type": "code",
   "execution_count": 4,
   "metadata": {},
   "outputs": [],
   "source": [
    "def derive_Lagrangian(L, q, q_dot):\n",
    "    term_1 = (sympy.tensor.derive_by_array(L, q_dot)).diff(t)\n",
    "    term_2 = sympy.tensor.derive_by_array(L, q)\n",
    "    return term_1 - term_2"
   ]
  },
  {
   "cell_type": "markdown",
   "metadata": {},
   "source": [
    "# 1-6"
   ]
  },
  {
   "cell_type": "code",
   "execution_count": 3,
   "metadata": {},
   "outputs": [],
   "source": [
    "t = symbols('t')\n",
    "\n",
    "z = symbols('z', cls=Function)\n",
    "z = z(t)\n",
    "z_dot = z.diff(t)\n",
    "\n",
    "theta = symbols('\\\\theta', cls=Function)\n",
    "theta = theta(t)\n",
    "theta_dot = theta.diff(t)\n",
    "\n",
    "phi = symbols('\\\\phi', cls=Function)\n",
    "phi = phi(t)\n",
    "phi_dot = phi.diff(t)\n",
    "\n",
    "m1, m2, m3, el, K = symbols('m_1, m_2, m_3, ell, K_total')"
   ]
  },
  {
   "cell_type": "code",
   "execution_count": 5,
   "metadata": {},
   "outputs": [],
   "source": [
    "p3 = Matrix([z - el*sin(theta) - el/2*sin(theta + phi), el*cos(theta) + el/2*cos(theta + phi)])\n",
    "p2 = Matrix([z - el/2*sin(theta), el/2*cos(theta)])\n",
    "p1 = Matrix([z, 0])"
   ]
  },
  {
   "cell_type": "code",
   "execution_count": 7,
   "metadata": {},
   "outputs": [
    {
     "data": {
      "text/latex": [
       "$\\displaystyle \\left[\\begin{matrix}- \\frac{\\ell \\cos{\\left(\\theta \\right)} \\dot{\\theta}}{2} + \\dot{z}\\\\- \\frac{\\ell \\sin{\\left(\\theta \\right)} \\dot{\\theta}}{2}\\end{matrix}\\right]$"
      ],
      "text/plain": [
       "<IPython.core.display.Math object>"
      ]
     },
     "metadata": {},
     "output_type": "display_data"
    }
   ],
   "source": [
    "p3_dot = p3.diff(t)\n",
    "p2_dot = p2.diff(t)\n",
    "p1_dot = p1.diff(t)\n",
    "\n",
    "dotprint(p2_dot)"
   ]
  },
  {
   "cell_type": "code",
   "execution_count": null,
   "metadata": {},
   "outputs": [],
   "source": [
    "Kt = 1/2*m3*p3_dot.T @ p3_dot + 1/2*m2*p2_dot.T @ p2_dot + 1/2*m1*p1_dot.T @ p1_dot\n",
    "dotprint(Kt)"
   ]
  },
  {
   "cell_type": "code",
   "execution_count": null,
   "metadata": {},
   "outputs": [],
   "source": [
    "Kt_sub = Kt.subs({theta: pi/4, phi: 0, z_dot: 1, phi_dot: 1, theta_dot: 1, el: 1})\n",
    "dotprint(simplify(Kt_sub))"
   ]
  },
  {
   "cell_type": "markdown",
   "metadata": {},
   "source": [
    "# 8"
   ]
  },
  {
   "cell_type": "code",
   "execution_count": 17,
   "metadata": {},
   "outputs": [],
   "source": [
    "t = symbols('t')\n",
    "\n",
    "x = symbols('x', cls=Function)\n",
    "x = x(t)\n",
    "x_dot = x.diff(t)\n",
    "x_ddot = x_dot.diff(t)\n",
    "\n",
    "phi = symbols('\\\\phi', cls=Function)\n",
    "\n",
    "f1, f2 = symbols('F_1, F_2')"
   ]
  },
  {
   "cell_type": "code",
   "execution_count": null,
   "metadata": {},
   "outputs": [],
   "source": [
    "z = Matrix([1, 1, 1, 1])\n",
    "\n",
    "A = Matrix([[0, 1, 0, 0], [0, 0, 1, 0], [-3, 1.1, 6.8, -5], [-2.9, 0, 1.6, -7.1]])\n",
    "\n",
    "A @ z"
   ]
  },
  {
   "cell_type": "markdown",
   "metadata": {},
   "source": [
    "# 9"
   ]
  },
  {
   "cell_type": "code",
   "execution_count": 41,
   "metadata": {},
   "outputs": [],
   "source": [
    "t = symbols('t')\n",
    "i = symbols('i', cls=Function)\n",
    "i = i(t)\n",
    "i_dot = i.diff(t)\n",
    "\n",
    "v = symbols('V', cls=Function)\n",
    "v=v(t)\n",
    "\n",
    "z = symbols('z', cls=Function)\n",
    "z = z(t)\n",
    "z_dot = z.diff(t)\n",
    "z_ddot = z_dot.diff(t)\n",
    "\n",
    "m, g, L, R, k = symbols('m, g, L, R, k')"
   ]
  },
  {
   "cell_type": "code",
   "execution_count": null,
   "metadata": {},
   "outputs": [],
   "source": [
    "eq_1 = Eq((L*i_dot + R*i), (v))\n",
    "\n",
    "eq_2 = Eq((m*z_ddot), (k*(i/z)**2 - m*g))\n",
    "dotprint(eq_2)"
   ]
  },
  {
   "cell_type": "code",
   "execution_count": null,
   "metadata": {},
   "outputs": [],
   "source": [
    "eq2_sub = eq_2.subs()\n",
    "= solve(eq_2, (i,), simplify=True, dict=True)[0]"
   ]
  },
  {
   "cell_type": "markdown",
   "metadata": {},
   "source": [
    "# 15"
   ]
  },
  {
   "cell_type": "code",
   "execution_count": 85,
   "metadata": {},
   "outputs": [
    {
     "data": {
      "image/png": "[encoded data removed]",
      "text/latex": [
       "$\\displaystyle \\frac{P k_{p}}{P k_{p} + k_{D} s + 1}$"
      ],
      "text/plain": [
       "      P⋅kₚ      \n",
       "────────────────\n",
       "P⋅kₚ + k_D⋅s + 1"
      ]
     },
     "execution_count": 85,
     "metadata": {},
     "output_type": "execute_result"
    }
   ],
   "source": [
    "H, P, kp, kd, s = symbols('H, P, k_p, k_D, s')\n",
    "\n",
    "trans_fcn = P*kp/(1 + P*kp + kd*s)\n",
    "P_val = (7.1)/(s**2 - 8.5*s + 16.24)\n",
    "trans_fcn"
   ]
  },
  {
   "cell_type": "code",
   "execution_count": 87,
   "metadata": {},
   "outputs": [
    {
     "data": {
      "image/png": "[encoded data removed]",
      "text/latex": [
       "$\\displaystyle H = \\frac{7.1 k_{p}}{7.1 k_{p} + \\left(k_{D} s + 1\\right) \\left(s^{2} - 8.5 s + 16.24\\right)}$"
      ],
      "text/plain": [
       "                     7.1⋅kₚ                  \n",
       "H = ─────────────────────────────────────────\n",
       "                         ⎛ 2                ⎞\n",
       "    7.1⋅kₚ + (k_D⋅s + 1)⋅⎝s  - 8.5⋅s + 16.24⎠"
      ]
     },
     "execution_count": 87,
     "metadata": {},
     "output_type": "execute_result"
    }
   ],
   "source": [
    "eq = Eq(H, trans_fcn)\n",
    "\n",
    "eq_sub = eq.subs({P: P_val})\n",
    "simplify(eq_sub)"
   ]
  }
 ],
 "metadata": {
  "kernelspec": {
   "display_name": ".venv",
   "language": "python",
   "name": "python3"
  },
  "language_info": {
   "codemirror_mode": {
    "name": "ipython",
    "version": 3
   },
   "file_extension": ".py",
   "mimetype": "text/x-python",
   "name": "python",
   "nbconvert_exporter": "python",
   "pygments_lexer": "ipython3",
   "version": "3.12.5"
  }
 },
 "nbformat": 4,
 "nbformat_minor": 2
}
