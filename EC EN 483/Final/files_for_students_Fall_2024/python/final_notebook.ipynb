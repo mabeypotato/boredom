{
 "cells": [
  {
   "cell_type": "code",
   "execution_count": 1,
   "metadata": {},
   "outputs": [],
   "source": [
    "import numpy as np\n",
    "import sympy\n",
    "import control as cnt\n",
    "from sympy import *\n",
    "from sympy.physics.vector.printing import vlatex\n",
    "from IPython.display import Math, display\n",
    "\n",
    "init_printing()\n",
    "\n",
    "def dp(expr):\n",
    "    display(Math(vlatex(expr)))"
   ]
  },
  {
   "cell_type": "markdown",
   "metadata": {},
   "source": [
    "# Finding the Lagrangian\n",
    "\n",
    "defined as L = K - P, the difference between the kinetic and potential energy of the system\n",
    "\n",
    "use sympy to create equations for K and P and compute"
   ]
  },
  {
   "cell_type": "code",
   "execution_count": 2,
   "metadata": {},
   "outputs": [],
   "source": [
    "t = symbols('t') # defining t and theta/phi/other coords as functions of t is necessary to get proper EoMs\n",
    "\n",
    "x = symbols('x_1', cls=Function)\n",
    "x = x(t)\n",
    "x_dot = x.diff(t)\n",
    "x_ddot = x.diff(t,2)\n",
    "\n",
    "b, g, m, k1, k2, F, h, s, c = symbols('b, g, m, k_1, k_2, F, h, s, c')"
   ]
  },
  {
   "cell_type": "markdown",
   "metadata": {},
   "source": [
    "linear velocities..."
   ]
  },
  {
   "cell_type": "code",
   "execution_count": 3,
   "metadata": {},
   "outputs": [
    {
     "data": {
      "text/latex": [
       "$\\displaystyle \\left[\\begin{matrix}\\dot{x}_{1}\\\\0\\\\0\\end{matrix}\\right]$"
      ],
      "text/plain": [
       "<IPython.core.display.Math object>"
      ]
     },
     "metadata": {},
     "output_type": "display_data"
    }
   ],
   "source": [
    "q = Matrix([[x], [0], [0]]) # the z coord will be used by our angular velocity, here it's just 0\n",
    "q_dot = q.diff(t)\n",
    "dp(q_dot)\n",
    "v = q_dot"
   ]
  },
  {
   "cell_type": "markdown",
   "metadata": {},
   "source": [
    "now it's time for angular..."
   ]
  },
  {
   "cell_type": "code",
   "execution_count": 4,
   "metadata": {},
   "outputs": [],
   "source": [
    "w = Matrix([[0], [0], [0]]) # all zeros, linear movement only"
   ]
  },
  {
   "cell_type": "markdown",
   "metadata": {},
   "source": [
    "# potential and kinetic energy\n",
    "\n",
    "kinetic is given by $ K = {1/2 m_1 v_1^T v_1 + 1/2\\omega_1^T J_1 \\omega_1}$ for however many things you have\n",
    "\n",
    "potential is $ P = {m_1 g h_1} $ + whatever springs are present\n",
    "\n",
    "J matrices...\n",
    "\n",
    "point mass: $ J = 0 $ :steamhappy:\n",
    "\n",
    "thin rod: $ J = \\begin{pmatrix}\n",
    "0 & 0 & 0\\\\\n",
    "0 & \\frac{m l ^2}{12} & 0\\\\\n",
    "0 & 0 & \\frac{m l ^2}{12}\n",
    "\\end{pmatrix} $\n",
    "\n",
    "thin plate: $ J = \\begin{pmatrix}\n",
    "\\frac{m \\omega ^2}{12} & 0 & 0\\\\\n",
    "0 & \\frac{m l ^2}{12} & 0\\\\\n",
    "0 & 0 & \\frac{m l ^2}{12} + \\frac{m \\omega ^2}{12}\n",
    "\\end{pmatrix} $"
   ]
  },
  {
   "cell_type": "code",
   "execution_count": 5,
   "metadata": {},
   "outputs": [
    {
     "data": {
      "text/latex": [
       "$\\displaystyle - g m \\left(h - x_{1}\\right) + 0.5 k_{1} x_{1}^{2} + 0.25 k_{2} x_{1}^{4} + 0.5 m \\dot{x}_{1}^{2}$"
      ],
      "text/plain": [
       "<IPython.core.display.Math object>"
      ]
     },
     "metadata": {},
     "output_type": "display_data"
    }
   ],
   "source": [
    "K_total = 1/2*m*v.T @ v\n",
    "# dp(K_total)\n",
    "K = 0.5*m*x_dot**2\n",
    "# dp(K)\n",
    "P_spring = 1/2*k1*x**2 + 1/4*k2*x**4\n",
    "P = m*g*(h - x) - P_spring\n",
    "L = K - P\n",
    "dp(L)"
   ]
  },
  {
   "cell_type": "markdown",
   "metadata": {},
   "source": [
    "# lagrangian\n",
    "\n",
    "q and q_dot are for our generalized coordinates (in the practice final it's just theta and theta_dot, for 2 gen coords it will be different)"
   ]
  },
  {
   "cell_type": "code",
   "execution_count": 6,
   "metadata": {},
   "outputs": [],
   "source": [
    "# behold...\n",
    "def derive_Lagrangian(L, q, q_dot):\n",
    "    term_1 = (sympy.tensor.derive_by_array(L, q_dot)).diff(t)\n",
    "    term_2 = sympy.tensor.derive_by_array(L, q)\n",
    "    return term_1 - term_2\n",
    "\n",
    "# def derive_Lagrangian(L, z, theta, z_dot, theta_dot):\n",
    "#     term_1 = (sympy.tensor.derive_by_array(L, z_dot)).diff(t)\n",
    "#     term_2 = sympy.tensor.derive_by_array(L, z)\n",
    "#     term_3 = (sympy.tensor.derive_by_array(L, theta_dot)).diff(t)\n",
    "#     term_4 = sympy.tensor.derive_by_array(L, theta)\n",
    "#     ans = Matrix([term_1 - term_2, term_3 - term_4])\n",
    "#     return ans"
   ]
  },
  {
   "cell_type": "code",
   "execution_count": 7,
   "metadata": {},
   "outputs": [
    {
     "data": {
      "text/latex": [
       "$\\displaystyle - g m - 1.0 k_{1} x_{1} - 1.0 k_{2} x_{1}^{3} + 1.0 m \\ddot{x}_{1}$"
      ],
      "text/plain": [
       "<IPython.core.display.Math object>"
      ]
     },
     "metadata": {},
     "output_type": "display_data"
    }
   ],
   "source": [
    "LG = derive_Lagrangian(L, x, x_dot)\n",
    "dp(LG)"
   ]
  },
  {
   "cell_type": "markdown",
   "metadata": {},
   "source": [
    "# Euler Lagrange\n",
    "\n",
    "defined by \n",
    "# $ \\frac{d}{dt} (\\frac{\\delta L (q, \\dot{q})}{\\delta{\\dot{q}}}) - \\frac{\\delta L (q)}{\\delta q} = \\tau - B \\dot{q}$\n",
    "\n",
    "n = number of gen coords\n",
    "\n",
    "$ \\dot{q}$ is the dot for all n gen coords, should be n x 1\n",
    "\n",
    "$ B $ is the damping force for each gen coord, should be n x n\n",
    "\n",
    "$ \\tau $ has a force for each spatial gen coord and a torque for each angular gen coord, should be n x 1 "
   ]
  },
  {
   "cell_type": "code",
   "execution_count": 8,
   "metadata": {},
   "outputs": [
    {
     "data": {
      "text/latex": [
       "$\\displaystyle \\left[\\begin{matrix}- g m - 1.0 k_{1} x_{1} - 1.0 k_{2} x_{1}^{3} + 1.0 m \\ddot{x}_{1}\\end{matrix}\\right] = \\left[\\begin{matrix}F - \\left(b + c \\operatorname{sign}{\\left(\\dot{x}_{1} \\right)}\\right) \\dot{x}_{1}\\end{matrix}\\right]$"
      ],
      "text/plain": [
       "<IPython.core.display.Math object>"
      ]
     },
     "metadata": {},
     "output_type": "display_data"
    }
   ],
   "source": [
    "LHS = Matrix([[LG]])\n",
    "\n",
    "Tau = Matrix([[F]])\n",
    "B = Matrix([[b + c*sign(x_dot)]])\n",
    "q_d = Matrix([[x_dot]])\n",
    "RHS = Tau - B @ q_d\n",
    "\n",
    "dynamics = Eq(LHS, RHS) # this is also our euler lagrange eq\n",
    "dp(dynamics)"
   ]
  },
  {
   "cell_type": "markdown",
   "metadata": {},
   "source": [
    "# Equations of motion\n",
    "\n",
    "taking $ \\begin{pmatrix}\n",
    "        \\theta\\\\\n",
    "        \\dot{\\theta}        \n",
    "        \\end{pmatrix} $ and making it into \n",
    "        $ \\begin{pmatrix}\n",
    "        \\dot{\\theta}\\\\\n",
    "        \\ddot{\\theta}       \n",
    "        \\end{pmatrix} $\n",
    "\n",
    "essentially we solve for $ \\ddot{\\theta} $ and plug it into another matrix with $ \\dot{\\theta} $\n",
    "\n",
    "inside the `(theta_ddot,)` we can include however many variables we need to solve for, namely however many ddots are involved"
   ]
  },
  {
   "cell_type": "code",
   "execution_count": 9,
   "metadata": {},
   "outputs": [
    {
     "data": {
      "text/latex": [
       "$\\displaystyle \\left[\\begin{matrix}\\dot{x}_{1}\\\\\\begin{cases} \\frac{F + g m + k_{1} x_{1} + k_{2} x_{1}^{3}}{m} & \\text{for}\\: \\dot{x}_{1} = 0 \\\\\\frac{F}{m} - \\frac{b \\dot{x}_{1}}{m} - \\frac{c \\dot{x}_{1}^{2}}{m \\left|{\\dot{x}_{1}}\\right|} + g + \\frac{k_{1} x_{1}}{m} + \\frac{k_{2} x_{1}^{3}}{m} & \\text{otherwise} \\end{cases}\\end{matrix}\\right]$"
      ],
      "text/plain": [
       "<IPython.core.display.Math object>"
      ]
     },
     "metadata": {},
     "output_type": "display_data"
    }
   ],
   "source": [
    "solve_dict = solve(dynamics, (x_ddot,), simplify=True, dict=True)[0]\n",
    "# dp(solve_dict)\n",
    "\n",
    "x_ddot_expr = solve_dict[x_ddot]\n",
    "\n",
    "EoM = Matrix([x_dot, x_ddot_expr])\n",
    "dp(EoM)"
   ]
  },
  {
   "cell_type": "markdown",
   "metadata": {},
   "source": [
    "# Part 2\n",
    "# Linearizing and stuff\n",
    "\n",
    "first step of linearization is finding the equilibria, or where the system is at rest/balanced\n",
    "\n",
    "get $ \\theta_e $ and then find the $ \\tau_e $ to maintain $ \\theta_e $\n",
    "\n",
    "at equilibrium $ \\theta = 0 $ so $ \\dot{\\theta} $ and $ \\ddot{\\theta} $ also $ = 0 $ so we can plug in $ 0 $ for those and solve for tau   "
   ]
  },
  {
   "cell_type": "code",
   "execution_count": 10,
   "metadata": {},
   "outputs": [
    {
     "data": {
      "text/latex": [
       "$\\displaystyle - \\frac{\\sqrt{2} g m}{2} + k_{1} z + k_{2} z^{3} + m \\ddot{z} = F - b \\dot{z}$"
      ],
      "text/plain": [
       "<IPython.core.display.Math object>"
      ]
     },
     "metadata": {},
     "output_type": "display_data"
    }
   ],
   "source": [
    "# part 2 init\n",
    "z = symbols('z', cls=Function)\n",
    "z = z(t)\n",
    "z_dot = z.diff(t)\n",
    "z_ddot = z.diff(t,2)\n",
    "\n",
    "ze = symbols('z_e', cls=Function)\n",
    "ze = ze(t)\n",
    "ze_dot = ze.diff(t)\n",
    "ze_ddot = ze.diff(t,2)\n",
    "\n",
    "Fe = symbols('F_e')\n",
    "\n",
    "LHS2 = m*z_ddot + k1*z + k2*z**3 - 1/sqrt(2)*m*g\n",
    "RHS2 = F- b*z_dot\n",
    "EoM_p2 = Eq(LHS2, RHS2)\n",
    "\n",
    "dp(EoM_p2)"
   ]
  },
  {
   "cell_type": "code",
   "execution_count": 11,
   "metadata": {},
   "outputs": [],
   "source": [
    "subs_dict = {b: 0.1, m: 0.5, k1: 0.05, k2: 0.02, g: 9.8}\n",
    "subs_eq = {F: Fe, z: ze, z_dot: 0}\n",
    "subs_dict_eq = {F: Fe, z: ze, z_dot: ze_dot, b: 0.1, m: 0.5, k1: 0.05, k2: 0.02, g: 9.8}"
   ]
  },
  {
   "cell_type": "code",
   "execution_count": 12,
   "metadata": {},
   "outputs": [
    {
     "data": {
      "text/latex": [
       "$\\displaystyle \\left\\{ F_{e} : - \\frac{\\sqrt{2} g m}{2}\\right\\}$"
      ],
      "text/plain": [
       "<IPython.core.display.Math object>"
      ]
     },
     "metadata": {},
     "output_type": "display_data"
    }
   ],
   "source": [
    "# 2.1\n",
    "EoM_p2_eq = EoM_p2.subs(subs_eq)\n",
    "F_e = solve(EoM_p2_eq.subs({ze: 0}), (Fe,), simplify = True, dict = True)[0] # the subs here is to set theta_e = 0, it isn't done for EoM_eq for symbolic porpoises\n",
    "dp(F_e)"
   ]
  },
  {
   "cell_type": "code",
   "execution_count": 13,
   "metadata": {},
   "outputs": [
    {
     "data": {
      "text/latex": [
       "$\\displaystyle \\left[\\begin{matrix}\\dot{z}\\\\\\frac{F - b \\dot{z} + \\frac{\\sqrt{2} g m}{2} - k_{1} z - k_{2} z^{3}}{m}\\end{matrix}\\right]$"
      ],
      "text/plain": [
       "<IPython.core.display.Math object>"
      ]
     },
     "metadata": {},
     "output_type": "display_data"
    }
   ],
   "source": [
    "# 2.2 dynamics stuff\n",
    "solve_dict_p2 = solve(EoM_p2, (z_ddot,), simplify=True, dict=True)[0]\n",
    "z_ddot_expr = solve_dict_p2[z_ddot]\n",
    "dynamics_p2 = Matrix([[z_dot], [z_ddot_expr]])\n",
    "dp(dynamics_p2)"
   ]
  },
  {
   "cell_type": "code",
   "execution_count": 14,
   "metadata": {},
   "outputs": [
    {
     "data": {
      "text/latex": [
       "$\\displaystyle \\ddot{\\tilde{z}} m - \\frac{\\sqrt{2} g m}{2} + k_{1} \\left(\\tilde{z} + z_{e}\\right) + k_{2} \\left(\\tilde{z} + z_{e}\\right)^{3} = - \\dot{\\tilde{z}} b + \\tilde{F}$"
      ],
      "text/plain": [
       "<IPython.core.display.Math object>"
      ]
     },
     "metadata": {},
     "output_type": "display_data"
    }
   ],
   "source": [
    "# 2.3 linearizing\n",
    "ze_tilde, ze_tilde_dot, ze_tilde_ddot, z_tilde, z_tilde_dot, z_tilde_ddot = symbols('\\\\tilde{z_e}, \\\\dot{\\\\tilde{z_e}}, \\\\ddot{\\\\tilde{z_e}}, \\\\tilde{z}, \\\\dot{\\\\tilde{z}}, \\\\ddot{\\\\tilde{z}}') \n",
    "F_tilde = symbols('\\\\tilde{F}')\n",
    "linear_dict = {z: ze + z_tilde, z_dot: 0 + z_tilde_dot, z_ddot: 0 + z_tilde_ddot, F: F_tilde}\n",
    "\n",
    "LHS2_lin = LHS2.subs(linear_dict)\n",
    "RHS2_lin = RHS2.subs(linear_dict)\n",
    "\n",
    "dynamics_p2_lin = Eq(LHS2_lin, RHS2_lin)\n",
    "dp(dynamics_p2_lin)"
   ]
  },
  {
   "cell_type": "markdown",
   "metadata": {},
   "source": [
    "we want\n",
    "\n",
    "$ \\dot{x} = Ax + B\\tilde{u} $\n",
    "\n",
    "$ y = Cx + D\\tilde{u} $\n",
    "\n",
    "note: these are the un-equilibrized (not a word) equations because otherwise it won't work. there's probably a work around but it's 10pm and i don't want to work any harder on this than i have to. i will `.subs({theta: 0})` later on for the transfer function"
   ]
  },
  {
   "cell_type": "code",
   "execution_count": 15,
   "metadata": {},
   "outputs": [
    {
     "data": {
      "text/latex": [
       "$\\displaystyle \\ddot{\\tilde{z}} m + \\tilde{z}^{3} k_{2} + \\tilde{z} k_{1} - \\frac{\\sqrt{2} g m}{2} = - \\dot{\\tilde{z}} b + \\tilde{F}$"
      ],
      "text/plain": [
       "<IPython.core.display.Math object>"
      ]
     },
     "metadata": {},
     "output_type": "display_data"
    },
    {
     "data": {
      "text/latex": [
       "$\\displaystyle \\left[\\begin{matrix}\\dot{\\tilde{z}}\\\\\\frac{- \\dot{\\tilde{z}} b + \\tilde{F} - \\tilde{z}^{3} k_{2} - \\tilde{z} k_{1} + \\frac{\\sqrt{2} g m}{2}}{m}\\end{matrix}\\right]$"
      ],
      "text/plain": [
       "<IPython.core.display.Math object>"
      ]
     },
     "metadata": {},
     "output_type": "display_data"
    }
   ],
   "source": [
    "dynamics_p24 = dynamics_p2_lin.subs({ze: 0})\n",
    "dp(dynamics_p24)\n",
    "\n",
    "solve_p24 = solve(dynamics_p24, (z_tilde_ddot,), simplify=True, dict=True)[0]\n",
    "z_tilde_ddot_expr = solve_p24[z_tilde_ddot]\n",
    "\n",
    "EoM_p24 = Matrix([[z_tilde_dot],[z_tilde_ddot_expr]])\n",
    "dp(EoM_p24)"
   ]
  },
  {
   "cell_type": "code",
   "execution_count": 19,
   "metadata": {},
   "outputs": [
    {
     "data": {
      "text/latex": [
       "$\\displaystyle \\left[\\begin{matrix}0 & 1\\\\- \\frac{k_{1}}{m} & - \\frac{b}{m}\\end{matrix}\\right]$"
      ],
      "text/plain": [
       "<IPython.core.display.Math object>"
      ]
     },
     "metadata": {},
     "output_type": "display_data"
    }
   ],
   "source": [
    "# define state variables\n",
    "state = Matrix([z_tilde, z_tilde_dot])\n",
    "\n",
    "A = EoM_p24.jacobian(state)\n",
    "\n",
    "dp(A.subs({z_tilde: 0}))"
   ]
  },
  {
   "cell_type": "code",
   "execution_count": 20,
   "metadata": {},
   "outputs": [
    {
     "data": {
      "text/latex": [
       "$\\displaystyle \\left[\\begin{matrix}0\\\\\\frac{1}{m}\\end{matrix}\\right]$"
      ],
      "text/plain": [
       "<IPython.core.display.Math object>"
      ]
     },
     "metadata": {},
     "output_type": "display_data"
    }
   ],
   "source": [
    "inputs = Matrix([[F_tilde]])\n",
    "\n",
    "B = EoM_p24.jacobian(inputs)\n",
    "dp(B)"
   ]
  },
  {
   "cell_type": "markdown",
   "metadata": {},
   "source": [
    "We still need C and D equations, \n",
    "\n",
    "$ y = Cx + Du $\n",
    "\n",
    "$C$ is used to select the variables present in your output $y$, it will be a 1 x n where $x$ is a n x 1\n",
    "\n",
    "$D$ is normally zero... so stick with that I guess"
   ]
  },
  {
   "cell_type": "code",
   "execution_count": 21,
   "metadata": {},
   "outputs": [],
   "source": [
    "C = Matrix([[1, 0]])\n",
    "D = Matrix([0])\n",
    "\n",
    "# C_eq and D_eq aren't going to be any different..."
   ]
  },
  {
   "cell_type": "markdown",
   "metadata": {},
   "source": [
    "we can use these matrices to write our linearized state space equations, and find our transfer function"
   ]
  },
  {
   "cell_type": "markdown",
   "metadata": {},
   "source": [
    "Now we get to use the control library which makes life 10000000000000000x better!!!!\n",
    "\n",
    "plug in real values into your A B C and D matrices and pass them into `cnt.StateSpace()`"
   ]
  },
  {
   "cell_type": "code",
   "execution_count": 75,
   "metadata": {},
   "outputs": [
    {
     "data": {
      "text/latex": [
       "$\\displaystyle \\left[\\begin{matrix}0\\\\2.0\\end{matrix}\\right]$"
      ],
      "text/plain": [
       "<IPython.core.display.Math object>"
      ]
     },
     "metadata": {},
     "output_type": "display_data"
    }
   ],
   "source": [
    "mass_subs = subs_dict\n",
    "\n",
    "A_sub = A.subs({z_tilde: 0})\n",
    "A_sub2 = A_sub.subs(mass_subs)\n",
    "B_sub = B.subs(mass_subs)\n",
    "C_sub = C\n",
    "D_sub = D\n",
    "A_sub2\n",
    "\n",
    "mass = cnt.ss(A_sub2, B_sub, C_sub, D_sub, False)\n",
    "\n",
    "dp(B_sub)"
   ]
  },
  {
   "cell_type": "markdown",
   "metadata": {},
   "source": [
    "\n",
    "now do `cnt.ss2tf` (state space to transfer func)"
   ]
  },
  {
   "cell_type": "code",
   "execution_count": 76,
   "metadata": {},
   "outputs": [
    {
     "data": {
      "text/latex": [
       "$$\\frac{2}{s^2 + 0.2 s + 0.1}$$"
      ],
      "text/plain": [
       "TransferFunction(array([2.]), array([1. , 0.2, 0.1]))"
      ]
     },
     "execution_count": 76,
     "metadata": {},
     "output_type": "execute_result"
    }
   ],
   "source": [
    "cnt.ss2tf(mass)"
   ]
  },
  {
   "cell_type": "markdown",
   "metadata": {},
   "source": [
    "i'm not sure why that s term is in the top. it's  .0000000000000035553 so we're just going to ignore it... ok?\n",
    "\n",
    "we can also put the entire system in canonical observable or controller form with a single function"
   ]
  },
  {
   "cell_type": "markdown",
   "metadata": {},
   "source": [
    "we find our transfer function symbolically with the following equation:\n",
    "\n",
    "$ H(s) = C(sI-A)^{-1}B+D $\n",
    "\n",
    "$I$ is n x n (same as $A$)"
   ]
  },
  {
   "cell_type": "code",
   "execution_count": 36,
   "metadata": {},
   "outputs": [
    {
     "data": {
      "text/latex": [
       "$\\displaystyle \\left[\\begin{matrix}\\frac{1}{b s + k_{1} + m s^{2}}\\end{matrix}\\right]$"
      ],
      "text/plain": [
       "<IPython.core.display.Math object>"
      ]
     },
     "metadata": {},
     "output_type": "display_data"
    }
   ],
   "source": [
    "I = eye(2)\n",
    "\n",
    "H = C.subs({z_tilde: 0}) @ (s*I - A.subs({z_tilde: 0})).inv() @ B.subs({z_tilde: 0}) + D.subs({z_tilde: 0})\n",
    "\n",
    "dp(H)"
   ]
  },
  {
   "cell_type": "markdown",
   "metadata": {},
   "source": [
    "add a kd*s and kp to the denominator, then divide by ml**2 resultant fraction for gain stuff should be:"
   ]
  },
  {
   "cell_type": "code",
   "execution_count": 50,
   "metadata": {},
   "outputs": [
    {
     "data": {
      "text/latex": [
       "$\\displaystyle \\frac{2.0}{2.0 k_{p} + s^{2} + 2.0 s \\left(k_{d} + 0.1\\right) + 0.1}$"
      ],
      "text/plain": [
       "<IPython.core.display.Math object>"
      ]
     },
     "metadata": {},
     "output_type": "display_data"
    }
   ],
   "source": [
    "kp, kd = symbols('k_p, k_d')\n",
    "top = 1/(m)\n",
    "bottom = (kp + k1)/(m) + s*(kd + b)/(m) + s**2\n",
    "\n",
    "tf_gains = top/bottom\n",
    "tf_gains_sub = tf_gains.subs(mass_subs)\n",
    "dp(tf_gains_sub)"
   ]
  },
  {
   "cell_type": "markdown",
   "metadata": {},
   "source": [
    "# Finding the gains"
   ]
  },
  {
   "cell_type": "code",
   "execution_count": 62,
   "metadata": {},
   "outputs": [
    {
     "data": {
      "text/latex": [
       "$\\displaystyle 0.707 \\omega_{n} - 0.1$"
      ],
      "text/plain": [
       "<IPython.core.display.Math object>"
      ]
     },
     "metadata": {},
     "output_type": "display_data"
    }
   ],
   "source": [
    "wn = symbols('\\\\omega_n')\n",
    "\n",
    "zeta_val = 0.707\n",
    "kp_val = 5/1\n",
    "\n",
    "wn_eq = sqrt((kp_val + k1)/(m))\n",
    "wn_val = wn_eq.subs(mass_subs)\n",
    "\n",
    "kd_eqtn = Eq(2*wn*zeta_val,(b+kd)/(m)) # change the RHS to \n",
    "\n",
    "kd_val = solve(kd_eqtn.subs(mass_subs), kd)[0]\n",
    "\n",
    "\n",
    "dp(kd_val)\n",
    "# kd_val.subs({wn: wn_val})\n",
    "\n",
    "# tf_gains_sub.subs({kd: kd_val, kp: kp_val, wn: 3.178})"
   ]
  },
  {
   "cell_type": "markdown",
   "metadata": {},
   "source": [
    "with this we can directly solve for kd and wn"
   ]
  },
  {
   "cell_type": "code",
   "execution_count": null,
   "metadata": {},
   "outputs": [],
   "source": [
    "cnt.canonical_form(rodmass, 'reachable') \n",
    "\n",
    "# the string tells it what canonical form to find.\n",
    "# observable is observer canonical form\n",
    "# reachable is controller canonical form\n",
    "# modal is some other thing we never went over, don't use it"
   ]
  },
  {
   "cell_type": "markdown",
   "metadata": {},
   "source": [
    "there are once again really tiny values in this, no doubt from the $ 3.553 \\times 10^{-15} $ term... i'm just evaluating it at 0"
   ]
  },
  {
   "cell_type": "markdown",
   "metadata": {},
   "source": [
    "producing controllability and observability matrices"
   ]
  },
  {
   "cell_type": "code",
   "execution_count": null,
   "metadata": {},
   "outputs": [],
   "source": [
    "cnt.ctrb(A_sub, B_sub)\n",
    "cnt.obsv(A_sub, B_sub)"
   ]
  },
  {
   "cell_type": "markdown",
   "metadata": {},
   "source": [
    "# PID and PD Controllers"
   ]
  },
  {
   "cell_type": "code",
   "execution_count": null,
   "metadata": {},
   "outputs": [],
   "source": [
    "# PD setup\n",
    "\n",
    "def __init__(self):\n",
    "        tr = 0.699\n",
    "        zeta = 0.707\n",
    "\n",
    "        # desired natural frequency\n",
    "        wn = 2.2 / tr\n",
    "        alpha1 = 2.0 * zeta * wn\n",
    "        alpha0 = wn**2\n",
    "\n",
    "        b0 = \n",
    "        a0 =            # solve for these\n",
    "        a1 =\n",
    "        self.kp = (alpha0 - a0) / b0\n",
    "        self.kd = (alpha1 - a1) / b0\n",
    "        # PD gains\n",
    "        print('kp: ', self.kp)\n",
    "        print('kd: ', self.kd)"
   ]
  },
  {
   "cell_type": "markdown",
   "metadata": {},
   "source": [
    "alternative init method with poles instead of wn, tr, and zeta"
   ]
  },
  {
   "cell_type": "code",
   "execution_count": null,
   "metadata": {},
   "outputs": [],
   "source": [
    "    def __init__(self):\n",
    "        # Declare pole locations\n",
    "        p1 = -1\n",
    "        p2 = -1.5\n",
    "        alpha0 = (-p1) * (-p2) # Coefficient in front of s^0 in desired characteristic equation\n",
    "        alpha1 = (-p1) + (-p2) # Coefficient in front of s^1 in desired characteristic equation\n",
    "        b0 = 1/P.m\n",
    "        a0 = P.k/P.m\n",
    "        a1 = P.b/P.m\n",
    "        self.kp = (alpha0 - a0) / b0\n",
    "        self.kd = (alpha1 - a1) / b0\n",
    "        # PD gains\n",
    "        print('kp: ', self.kp)\n",
    "        print('kd: ', self.kd)"
   ]
  },
  {
   "cell_type": "code",
   "execution_count": null,
   "metadata": {},
   "outputs": [],
   "source": [
    "# PD update functions have the form:\n",
    "\n",
    "def update(self, theta_r, x):\n",
    "        theta = x[0][0]\n",
    "        thetadot = x[1][0]\n",
    "        # compute the linearized torque using PD control\n",
    "        tau_tilde = self.kp * (theta_r - theta) - self.kd * thetadot\n",
    "\n",
    "        tau_sat = saturate(tau_tilde, P.F_max)\n",
    "        return tau_sat\n",
    "\n",
    "# saturation isn't as"
   ]
  },
  {
   "cell_type": "code",
   "execution_count": null,
   "metadata": {},
   "outputs": [],
   "source": [
    "# PID setup\n",
    "def __init__(self):\n",
    "        #  tuning parameters\n",
    "        tr = 2.0\n",
    "        zeta = 0.707\n",
    "        self.ki = 1.5  # integrator gain, tune this\n",
    "\n",
    "        # desired natural frequency\n",
    "        wn = 2.2 / tr\n",
    "        alpha1 = 2.0 * zeta * wn\n",
    "        alpha0 = wn**2\n",
    "\n",
    "        b0 = \n",
    "        a0 =            # solve for these\n",
    "        a1 = \n",
    "        self.kp = (alpha0 - a0) / b0\n",
    "        self.kd = (alpha1 - a1) / b0\n",
    "        print('kp: ', self.kp)\n",
    "        print('ki: ', self.ki)\n",
    "        print('kd: ', self.kd)\n",
    "\n",
    "        # dirty derivative gainss\n",
    "        self.beta = (2.0 * P.sigma - P.Ts) / (2.0 * P.sigma + P.Ts)  # dirty derivative gain\n",
    "\n",
    "        #----------------------------------------------------------\n",
    "        # variables for integrator and differentiator\n",
    "        self.z_dot = 0.0             # estimated derivative of y\n",
    "        self.z_d1 = 0.0              # Signal y delayed by one sample\n",
    "        self.error_dot = 0.0         # estimated derivative of error\n",
    "        self.error_d1 = 0.0          # Error delayed by one sample\n",
    "        self.integrator = 0.0        # integrator"
   ]
  },
  {
   "cell_type": "code",
   "execution_count": null,
   "metadata": {},
   "outputs": [],
   "source": [
    "# PID updates are like this:\n",
    "def update(self, z_r, y):\n",
    "        z = y[0][0]\n",
    "        \n",
    "        # Compute the current error\n",
    "        error = z_r - z\n",
    "\n",
    "        # integrate error\n",
    "        self.integrator = self.integrator + (P.Ts / 2) * (error + self.error_d1)\n",
    "\n",
    "        # differentiate z\n",
    "        self.z_dot = self.beta * self.z_dot + (1 - self.beta) * ((z - self.z_d1) / P.Ts)\n",
    "        \n",
    "        # PID control\n",
    "        F_unsat = self.kp * error + self.ki * self.integrator - self.kd * self.z_dot\n",
    "        F = saturate(F_unsat, P.F_max)\n",
    "\n",
    "        # integrator anti - windup\n",
    "        if self.ki != 0.0:\n",
    "            self.integrator = self.integrator + P.Ts / self.ki * (F - F_unsat)\n",
    "            \n",
    "        # update delayed variables\n",
    "        self.error_d1 = error\n",
    "        self.z_d1 = z\n",
    "        return F"
   ]
  },
  {
   "cell_type": "code",
   "execution_count": null,
   "metadata": {},
   "outputs": [],
   "source": [
    "# saturation function in case you lose it\n",
    "\n",
    "def saturate(self, u):\n",
    "    if abs(u) > self.limit:\n",
    "        u = self.limit*np.sign(u)\n",
    "    return u\n",
    "\n",
    "# also anti-windup just in case\n",
    "\n",
    "if np.abs(self.h_dot) < 0.5:\n",
    "    self.integrator_h = self.integrator_h + (P.Ts / 2) * (error_h + self.error_h_d1)\n",
    "\n"
   ]
  },
  {
   "cell_type": "markdown",
   "metadata": {},
   "source": [
    "# observer controllers\n",
    "these update both a PID controller and an observer so there's 2 update functions "
   ]
  },
  {
   "cell_type": "markdown",
   "metadata": {},
   "source": [
    "this code is for a disturbance observer. idk the difference between this and just a regular observer so... cool"
   ]
  },
  {
   "cell_type": "code",
   "execution_count": null,
   "metadata": {},
   "outputs": [],
   "source": [
    "class ctrlObserver:\n",
    "    def __init__(self):\n",
    "        #--------------------------------------------------\n",
    "        # State Feedback Control Design\n",
    "        #--------------------------------------------------\n",
    "        #  tuning parameters\n",
    "        tr = 1.5\n",
    "        zeta = 0.707\n",
    "        integrator_pole = -1\n",
    "        tr_obs = tr/10  # rise time frequency for observer\n",
    "        zeta_obs = 0.707  # damping ratio for observer\n",
    "\n",
    "\n",
    "        # State Space Equations\n",
    "        # xdot = A*x + B*u\n",
    "        # y = C*x\n",
    "        self.A = np.array([[0.0, 0.0],\n",
    "                           [0.0, 0.0]])\n",
    "        self.B = np.array([[0.0],\n",
    "                           [0.0]])       \n",
    "        self.C = np.array([[0.0, 0.0]])\n",
    "        # form augmented system\n",
    "        A1 = np.vstack((np.hstack((self.A, np.zeros((2,1)))), # np.zeros matches A\n",
    "                        np.hstack((-self.C, np.zeros((1,1)))) )) #np.zeros matches C\n",
    "        B1 = np.vstack( (self.B, 0.0) )\n",
    "\n",
    "        # gain calculation\n",
    "        wn = 2.2 / tr  # natural frequency\n",
    "        des_char_poly = np.convolve([1, 2*zeta*wn, wn**2],\n",
    "                                    [1, -integrator_pole])\n",
    "        des_poles = np.roots(des_char_poly)\n",
    "        # Compute the gains if the system is controllable\n",
    "        if np.linalg.matrix_rank(cnt.ctrb(A1, B1)) != 3: # rank will be n + 1, where A is a n x n matrix\n",
    "            print(\"The system is not controllable\")\n",
    "        else:\n",
    "            K1 = cnt.place(A1, B1, des_poles)\n",
    "            self.K = K1[0][0:2]\n",
    "            self.ki = K1[0][2]\n",
    "\n",
    "\n",
    "        # observer design\n",
    "        wn_obs = 2.2 / tr_obs\n",
    "        des_obsv_char_poly = [1, 2*zeta_obs*wn_obs, wn_obs**2]\n",
    "        des_obsv_poles = np.roots(des_obsv_char_poly)\n",
    "        # Compute the gains if the system is controllable\n",
    "        if np.linalg.matrix_rank(cnt.ctrb(self.A.T, self.C.T)) != 2:\n",
    "            print(\"The system is not observerable\")\n",
    "        else:\n",
    "            self.L = cnt.acker(self.A.T, self.C.T, des_obsv_poles).T\n",
    "        print('K: ', self.K)\n",
    "        print('ki ', self.ki)\n",
    "        print('L^T: ', self.L.T)\n",
    "        #--------------------------------------------------\n",
    "        # variables to implement integrator\n",
    "        self.integrator = 0.0  # integrator\n",
    "        self.error_d1 = 0.0  # error signal delayed by 1 sample\n",
    "        self.x_hat = np.array([\n",
    "            [0.0],  # z_hat_0\n",
    "            [0.0],  # zdot_hat_0\n",
    "        ])\n",
    "        self.tau_d1 = 0.0  # control torque, delayed 1 sample\n",
    "\n",
    "    def update(self, z_r, y):\n",
    "        # update the observer and extract z_hat\n",
    "        x_hat = self.update_observer(y)\n",
    "        z_hat = x_hat[0][0]\n",
    "        # integrate error\n",
    "        error = z_r - z_hat\n",
    "        self.integrator = self.integrator \\\n",
    "                          + (P.Ts / 2.0) * (error + self.error_d1)\n",
    "        self.error_d1 = error\n",
    "        # Compute the state feedback controller\n",
    "        f_tilde = -self.K @ x_hat - self.ki * self.integrator\n",
    "        # compute total torque\n",
    "        F = saturate(f_tilde[0], P.F_max)\n",
    "        self.tau_d1 = F\n",
    "        return F, x_hat\n",
    "\n",
    "    def update_observer(self, y_m):\n",
    "        # update the observer using RK4 integration\n",
    "        F1 = self.observer_f(self.x_hat, y_m)\n",
    "        F2 = self.observer_f(self.x_hat + P.Ts / 2 * F1, y_m)\n",
    "        F3 = self.observer_f(self.x_hat + P.Ts / 2 * F2, y_m)\n",
    "        F4 = self.observer_f(self.x_hat + P.Ts * F3, y_m)\n",
    "        self.x_hat = self.x_hat + P.Ts / 6 * (F1 + 2*F2 + 2*F3 + F4)\n",
    "        return self.x_hat\n",
    "\n",
    "    def observer_f(self, x_hat, y_m):\n",
    "        # xhatdot = A*(xhat-xe) + B*(u-ue) + L(y-C*xhat)\n",
    "        xhat_dot = self.A @ x_hat\\\n",
    "                   + self.B * (self.tau_d1)\\\n",
    "                   + self.L * (y_m - self.C @ x_hat)\n",
    "        return xhat_dot\n",
    "\n",
    "\n",
    "def saturate(u, limit):\n",
    "    if abs(u) > limit:\n",
    "        u = limit * np.sign(u)\n",
    "    return u"
   ]
  },
  {
   "cell_type": "markdown",
   "metadata": {},
   "source": [
    "# finding feedback gains\n",
    "\n",
    "the augmented feedback gain $K$ is defined by this equation:\n",
    "\n",
    "$ K = (\\alpha - \\textbf{a}_A) \\mathcal{A}_A^{-1} \\mathcal{C}_{AB}^{-1}$\n",
    "\n",
    "$\\alpha$ is an array of the n-1, n-2, etc coefficients of $ \\Delta_{cl}^{d} $ (desired close loop char polynom)\n",
    "\n",
    "you can find $ \\Delta_{cl}^{d} $ by foiling out the desired poles\n",
    "\n",
    "$ \\textbf{a}_A $ is an array of the n-1, n-2, n-3 etc coefficients of $ \\Delta_{ol} $ (open loop char polynom) \n",
    "\n",
    "you can find $ \\Delta_{ol} = \\text{det} (sI - A)$\n",
    "\n",
    "(skip the coefficients of the highest power s terms of the characteristic polynomials. that's what i mean by n-1, n-2 coeff but i want to be very clear)\n",
    "\n",
    "\n",
    "$\\mathcal{A}_A$ is a matrix of the form \n",
    "\n",
    "$ \\begin{pmatrix}\n",
    "1 & a & b\\\\\n",
    "0 & 1 & a\\\\\n",
    "0 & 0 & 1\n",
    "\\end{pmatrix} $\n",
    "\n",
    "where $ a_A = \\begin{pmatrix}\n",
    "a & b & c\n",
    "\\end{pmatrix} $\n",
    "\n",
    "\n",
    "you will have to `.inv` $ \\mathcal{A}_A $ to get $\\mathcal{A}_A^{-1}$\n",
    "\n",
    "\n",
    "$\\mathcal{C}_{AB}^{-1}$ is your controllability matrix. use `cnt.ctrb(A,B)` to find $\\mathcal{C}_{AB}$ and then .inv it\n"
   ]
  },
  {
   "cell_type": "markdown",
   "metadata": {},
   "source": [
    "# note\n",
    "\n",
    "feedback gain that places poles at desired location is given by $ K_c = \\alpha - \\textbf{a}_A $ but this is only when in controller canonic form"
   ]
  },
  {
   "cell_type": "markdown",
   "metadata": {},
   "source": [
    "# reference gain\n",
    "\n",
    "$ k_r = \\frac{-1}{C_r (A-BK)^{-1}B} $\n",
    "\n",
    "$C_r$ is the $C$ matrix required to for the reference output, a la $y_r = C_r x$"
   ]
  },
  {
   "cell_type": "code",
   "execution_count": 66,
   "metadata": {},
   "outputs": [
    {
     "data": {
      "image/png": "[encoded data removed]",
      "text/latex": [
       "$\\displaystyle 1.0 s^{2} - 4.0 s + 8.0$"
      ],
      "text/plain": [
       "     2              \n",
       "1.0⋅s  - 4.0⋅s + 8.0"
      ]
     },
     "execution_count": 66,
     "metadata": {},
     "output_type": "execute_result"
    }
   ],
   "source": [
    "simplify((s-2+2j)*(s-2-2j))"
   ]
  },
  {
   "cell_type": "code",
   "execution_count": 71,
   "metadata": {},
   "outputs": [
    {
     "data": {
      "text/latex": [
       "$\\displaystyle 2.0 K_{1} + 2.0 K_{2} s + s^{2} + 0.2 s + 0.1$"
      ],
      "text/plain": [
       "<IPython.core.display.Math object>"
      ]
     },
     "metadata": {},
     "output_type": "display_data"
    }
   ],
   "source": [
    "K1, K2 = symbols('K_1, K_2')\n",
    "K = Matrix([[K1, K2]])\n",
    "des_cl_bk = det(s*I - (A_sub2 - B_sub @ K))\n",
    "dp(des_cl_bk)\n"
   ]
  },
  {
   "cell_type": "code",
   "execution_count": 112,
   "metadata": {},
   "outputs": [
    {
     "data": {
      "text/plain": [
       "array([[0, 1, 0.0],\n",
       "       [-0.100000000000000, -0.200000000000000, 0.0],\n",
       "       [-1.00000000000000, 0, 0.0]], dtype=object)"
      ]
     },
     "execution_count": 112,
     "metadata": {},
     "output_type": "execute_result"
    }
   ],
   "source": [
    "# augmenting\n",
    "\n",
    "Cr = Matrix([[1.0, 0.0]])\n",
    "\n",
    "A_1 = np.vstack((np.hstack((A_sub2, np.zeros((np.size(A_sub2,1),1)))), \n",
    "                        np.hstack((-Cr, np.array([[0.0]])))))\n",
    "B_1 = np.vstack((B_sub, 0.0))\n",
    "\n",
    "ctrb = cnt.ctrb(A_sub2, B_sub)\n",
    "obsv = cnt.obsv(A_sub2, C_sub)\n",
    "\n",
    "ctrb\n",
    "ctrb_np = np.array([[0.,2.],[2.,-0.4]])\n",
    "\n",
    "A_1\n",
    "\n",
    "A_1_np = np.array([[0.0, 1.0, 0.0], [-0.1, -0.2, 0,0], [-1.0, 0.0, 0.0]])"
   ]
  },
  {
   "cell_type": "code",
   "execution_count": 81,
   "metadata": {},
   "outputs": [
    {
     "data": {
      "text/latex": [
       "$\\displaystyle s^{3} + 0.2 s^{2} + 0.1 s$"
      ],
      "text/plain": [
       "<IPython.core.display.Math object>"
      ]
     },
     "metadata": {},
     "output_type": "display_data"
    }
   ],
   "source": [
    "ol_char = det(s*eye(3) - A_1)\n",
    "dp(ol_char)"
   ]
  },
  {
   "cell_type": "code",
   "execution_count": 111,
   "metadata": {},
   "outputs": [
    {
     "ename": "UFuncTypeError",
     "evalue": "Cannot cast ufunc 'inv' input from dtype('O') to dtype('float64') with casting rule 'same_kind'",
     "output_type": "error",
     "traceback": [
      "\u001b[1;31m---------------------------------------------------------------------------\u001b[0m",
      "\u001b[1;31mUFuncTypeError\u001b[0m                            Traceback (most recent call last)",
      "Cell \u001b[1;32mIn[111], line 12\u001b[0m\n\u001b[0;32m      8\u001b[0m \u001b[38;5;66;03m# dp(simplify(cl_des_char))\u001b[39;00m\n\u001b[0;32m     10\u001b[0m alpha \u001b[38;5;241m=\u001b[39m np\u001b[38;5;241m.\u001b[39marray([[\u001b[38;5;241m-\u001b[39m\u001b[38;5;241m4\u001b[39m, \u001b[38;5;241m8\u001b[39m, \u001b[38;5;241m0\u001b[39m]])\n\u001b[1;32m---> 12\u001b[0m L \u001b[38;5;241m=\u001b[39m (alpha \u001b[38;5;241m-\u001b[39m a_A) \u001b[38;5;241m@\u001b[39m \u001b[43mnp\u001b[49m\u001b[38;5;241;43m.\u001b[39;49m\u001b[43mlinalg\u001b[49m\u001b[38;5;241;43m.\u001b[39;49m\u001b[43minv\u001b[49m\u001b[43m(\u001b[49m\u001b[43mA_1\u001b[49m\u001b[43m)\u001b[49m \u001b[38;5;241m@\u001b[39m np\u001b[38;5;241m.\u001b[39mlinalg\u001b[38;5;241m.\u001b[39minv(ctrb_np)\n\u001b[0;32m     14\u001b[0m A_K \u001b[38;5;241m=\u001b[39m np\u001b[38;5;241m.\u001b[39marray([[\u001b[38;5;241m0\u001b[39m, \u001b[38;5;241m1\u001b[39m],[\u001b[38;5;241m-\u001b[39m\u001b[38;5;241m.1\u001b[39m, \u001b[38;5;241m-\u001b[39m\u001b[38;5;241m.2\u001b[39m]])\n\u001b[0;32m     15\u001b[0m B_K \u001b[38;5;241m=\u001b[39m np\u001b[38;5;241m.\u001b[39marray([[\u001b[38;5;241m0\u001b[39m],[\u001b[38;5;241m2\u001b[39m]])\n",
      "File \u001b[1;32mc:\\Users\\conno\\Documents\\BYU\\F24\\EC EN 483\\.venv\\Lib\\site-packages\\numpy\\linalg\\_linalg.py:615\u001b[0m, in \u001b[0;36minv\u001b[1;34m(a)\u001b[0m\n\u001b[0;32m    612\u001b[0m signature \u001b[38;5;241m=\u001b[39m \u001b[38;5;124m'\u001b[39m\u001b[38;5;124mD->D\u001b[39m\u001b[38;5;124m'\u001b[39m \u001b[38;5;28;01mif\u001b[39;00m isComplexType(t) \u001b[38;5;28;01melse\u001b[39;00m \u001b[38;5;124m'\u001b[39m\u001b[38;5;124md->d\u001b[39m\u001b[38;5;124m'\u001b[39m\n\u001b[0;32m    613\u001b[0m \u001b[38;5;28;01mwith\u001b[39;00m errstate(call\u001b[38;5;241m=\u001b[39m_raise_linalgerror_singular, invalid\u001b[38;5;241m=\u001b[39m\u001b[38;5;124m'\u001b[39m\u001b[38;5;124mcall\u001b[39m\u001b[38;5;124m'\u001b[39m,\n\u001b[0;32m    614\u001b[0m               over\u001b[38;5;241m=\u001b[39m\u001b[38;5;124m'\u001b[39m\u001b[38;5;124mignore\u001b[39m\u001b[38;5;124m'\u001b[39m, divide\u001b[38;5;241m=\u001b[39m\u001b[38;5;124m'\u001b[39m\u001b[38;5;124mignore\u001b[39m\u001b[38;5;124m'\u001b[39m, under\u001b[38;5;241m=\u001b[39m\u001b[38;5;124m'\u001b[39m\u001b[38;5;124mignore\u001b[39m\u001b[38;5;124m'\u001b[39m):\n\u001b[1;32m--> 615\u001b[0m     ainv \u001b[38;5;241m=\u001b[39m \u001b[43m_umath_linalg\u001b[49m\u001b[38;5;241;43m.\u001b[39;49m\u001b[43minv\u001b[49m\u001b[43m(\u001b[49m\u001b[43ma\u001b[49m\u001b[43m,\u001b[49m\u001b[43m \u001b[49m\u001b[43msignature\u001b[49m\u001b[38;5;241;43m=\u001b[39;49m\u001b[43msignature\u001b[49m\u001b[43m)\u001b[49m\n\u001b[0;32m    616\u001b[0m \u001b[38;5;28;01mreturn\u001b[39;00m wrap(ainv\u001b[38;5;241m.\u001b[39mastype(result_t, copy\u001b[38;5;241m=\u001b[39m\u001b[38;5;28;01mFalse\u001b[39;00m))\n",
      "\u001b[1;31mUFuncTypeError\u001b[0m: Cannot cast ufunc 'inv' input from dtype('O') to dtype('float64') with casting rule 'same_kind'"
     ]
    }
   ],
   "source": [
    "a_A = np.array([[0.2, 0.1, 0]])\n",
    "\n",
    "A_A = np.array([[1, 0.2, 0.1],\n",
    "                [0, 1, 0.2],\n",
    "                [0, 0, 1]])\n",
    "\n",
    "cl_des_char = (s - 2 + 2j)*(s - 2 - 2j)\n",
    "# dp(simplify(cl_des_char))\n",
    "\n",
    "alpha = np.array([[-4, 8, 0]])\n",
    "\n",
    "L = (alpha - a_A) @ np.linalg.inv(A_1_np) @ np.linalg.inv(ctrb_np)\n",
    "\n",
    "A_K = np.array([[0, 1],[-.1, -.2]])\n",
    "B_K = np.array([[0],[2]])\n",
    "\n",
    "p1 = -2.0 + 2.0j\n",
    "p2 = -2.0 - 2.0j\n",
    "pi = -5.0\n",
    "\n",
    "K = cnt.place(A_K, B_K, [p1, p2])\n",
    "\n",
    "Kl = cnt.acker(A_1, B_1, [p1, p2, pi])\n",
    "\n",
    "K"
   ]
  },
  {
   "cell_type": "code",
   "execution_count": null,
   "metadata": {},
   "outputs": [],
   "source": [
    "np.linalg.eigvals(A_K - )"
   ]
  },
  {
   "cell_type": "markdown",
   "metadata": {},
   "source": [
    "# finding observer gains\n",
    "\n",
    "augmented observer gain defined as \n",
    "\n",
    "$ L = \\mathcal{O}_{A,C}^{-1} \\mathcal{A}_{A}^{-T} (\\beta - \\textbf{a}_A)^{T} $\n",
    "\n",
    "$ \\mathcal{O}_{A,C} $ is your observability matrix, use `cnt.obsv(A,B)` to find it\n",
    "$ \\beta $ is an array of the n-1, n-2, etc coefficients of $ \\Delta_{cl,obs}^{d} $ (desired close loop char polynom)\n",
    "\n",
    "$ \\Delta_{cl,obs}^{d} = \\text{det}(sI - (A_o - L_o C_o))$\n",
    "\n",
    "$ \\textbf{a}_A $ is an array of the n-1, n-2, n-3 etc coefficients of $ \\Delta_{ol} $ (open loop char polynom) \n",
    "\n",
    "$ \\Delta_{ol} = \\text{det}(sI - A_o) $\n",
    "\n",
    "once again, $\\mathcal{A}_A$ is a matrix of the form \n",
    "\n",
    "$ \\begin{pmatrix}\n",
    "1 & a & b\\\\\n",
    "0 & 1 & a\\\\\n",
    "0 & 0 & 1\n",
    "\\end{pmatrix} $\n",
    "\n",
    "where $ a_A = \\begin{pmatrix}\n",
    "a & b & c\n",
    "\\end{pmatrix} $\n",
    "\n",
    "you will have to take the transpose, inv transpose, or inv of some things to make it work right\n"
   ]
  },
  {
   "cell_type": "markdown",
   "metadata": {},
   "source": [
    "# notes\n",
    "observer gain $ L_o $ that places the poles at the desired locations is given by: $ A_o − L_o C_o $ but this is only when in observer canonic form\n",
    "\n",
    "`o` subscript gains mean the array is in observer canonical form"
   ]
  },
  {
   "cell_type": "code",
   "execution_count": null,
   "metadata": {},
   "outputs": [],
   "source": []
  }
 ],
 "metadata": {
  "kernelspec": {
   "display_name": ".venv",
   "language": "python",
   "name": "python3"
  },
  "language_info": {
   "codemirror_mode": {
    "name": "ipython",
    "version": 3
   },
   "file_extension": ".py",
   "mimetype": "text/x-python",
   "name": "python",
   "nbconvert_exporter": "python",
   "pygments_lexer": "ipython3",
   "version": "3.12.5"
  }
 },
 "nbformat": 4,
 "nbformat_minor": 2
}
