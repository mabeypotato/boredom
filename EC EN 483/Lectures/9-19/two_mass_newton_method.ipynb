{
 "cells": [
  {
   "cell_type": "markdown",
   "metadata": {},
   "source": [
    "# Two Mass-Spring-Damper System"
   ]
  },
  {
   "cell_type": "code",
   "execution_count": 11,
   "metadata": {},
   "outputs": [],
   "source": [
    "import sympy\n",
    "from sympy import *\n",
    "from sympy.physics.vector.printing import vlatex\n",
    "from IPython.display import Math, display\n",
    "\n",
    "init_printing()\n",
    "\n",
    "def dotprint(expr):\n",
    "    display(Math(vlatex(expr)))"
   ]
  },
  {
   "cell_type": "markdown",
   "metadata": {},
   "source": [
    "### Define Symbols and Configuration Variables"
   ]
  },
  {
   "cell_type": "code",
   "execution_count": 12,
   "metadata": {},
   "outputs": [],
   "source": [
    "# Time symbol\n",
    "t = symbols('t')"
   ]
  },
  {
   "cell_type": "code",
   "execution_count": 13,
   "metadata": {},
   "outputs": [],
   "source": [
    "# Generalized coordinates\n",
    "\n",
    "z1, z2 = symbols(r'z_1, z_2', cls=Function)\n",
    "z1 = z1(t)\n",
    "z2 = z2(t)"
   ]
  },
  {
   "cell_type": "code",
   "execution_count": 14,
   "metadata": {},
   "outputs": [],
   "source": [
    "# Derivatives of Generalized Coordinates\n",
    "\n",
    "# TODO: Change this!\n",
    "z1_dot = z1.diff(t)\n",
    "z2_dot = z2.diff(t)"
   ]
  },
  {
   "cell_type": "code",
   "execution_count": 15,
   "metadata": {},
   "outputs": [],
   "source": [
    "# Other symbols (mass, forces, damping coefficients, torques...)\n",
    "\n",
    "m1, m2, k1, k2, b1, b2, F  = symbols(r'm_1, m_2, k_1, k_2, b_1, b_2, F', real=True)"
   ]
  },
  {
   "cell_type": "markdown",
   "metadata": {},
   "source": [
    "### Newton's Second Law Method\n",
    "\n",
    "Let's use Newton's 2nd law $\\left(\\sum F = ma \\right)$ to derive the equations of motion for the two mass system."
   ]
  },
  {
   "cell_type": "code",
   "execution_count": null,
   "metadata": {},
   "outputs": [],
   "source": [
    "a1 = z1_dot.diff(t)\n",
    "a2 = z2_dot.diff(t)\n",
    "\n",
    "dotprint(a1)"
   ]
  },
  {
   "cell_type": "markdown",
   "metadata": {},
   "source": [
    "#### Forces on Mass 1"
   ]
  },
  {
   "cell_type": "code",
   "execution_count": null,
   "metadata": {},
   "outputs": [],
   "source": [
    "# Springs\n",
    "F_m1_k1 = -k1*z1\n",
    "F_m1_k2 = k2*(z2 - z1)\n",
    "\n",
    "# Dampers\n",
    "F_m1_b1 = -b1*z1_dot\n",
    "F_m1_b2 = -b2*(z1_dot - z2_dot)\n",
    "\n",
    "F_m1_total = F_m1_k1 + F_m1_k2 + F_m1_b1 + F_m1_b2\n",
    "\n",
    "dotprint(F_m1_total)"
   ]
  },
  {
   "cell_type": "markdown",
   "metadata": {},
   "source": [
    "#### Forces on Mass 2"
   ]
  },
  {
   "cell_type": "code",
   "execution_count": null,
   "metadata": {},
   "outputs": [],
   "source": [
    "# Springs\n",
    "F_m2_k2 = -k2*(z2 - z1) # Sign flip\n",
    "\n",
    "# Dampers\n",
    "F_m2_b2 = b2*(z1_dot - z2_dot) # Sign flip\n",
    "\n",
    "# External force: F\n",
    "\n",
    "F_m2_total = F_m2_k2 + F_m2_b2 + F\n",
    "\n",
    "dotprint(F_m2_total)"
   ]
  },
  {
   "cell_type": "markdown",
   "metadata": {},
   "source": [
    "#### Total Force Vector\n",
    "\n",
    "We need to create a vector organizing our forces by variable.\n",
    "\n",
    "Since we have 2 configuration variables, we'll have a vector in $\\mathbb{R}^2$. The first entry will be for mass 1 and the second for mass 2."
   ]
  },
  {
   "cell_type": "code",
   "execution_count": null,
   "metadata": {},
   "outputs": [],
   "source": [
    "F_vector = Matrix([F_m1_total, F_m2_total])\n",
    "\n",
    "dotprint(F_vector)"
   ]
  },
  {
   "cell_type": "markdown",
   "metadata": {},
   "source": [
    "#### Total Equations of Motion\n",
    "\n",
    "We simply set the sum of our forces equal to $m a$ for each coordinate."
   ]
  },
  {
   "cell_type": "code",
   "execution_count": null,
   "metadata": {},
   "outputs": [],
   "source": [
    "MA = Matrix([m1*a1, m2*a2])\n",
    "\n",
    "EOM = Eq(F_vector, MA)\n",
    "\n",
    "dotprint(simplify(EOM))"
   ]
  }
 ],
 "metadata": {
  "kernelspec": {
   "display_name": "controls",
   "language": "python",
   "name": "python3"
  },
  "language_info": {
   "codemirror_mode": {
    "name": "ipython",
    "version": 3
   },
   "file_extension": ".py",
   "mimetype": "text/x-python",
   "name": "python",
   "nbconvert_exporter": "python",
   "pygments_lexer": "ipython3",
   "version": "3.12.5"
  }
 },
 "nbformat": 4,
 "nbformat_minor": 2
}
