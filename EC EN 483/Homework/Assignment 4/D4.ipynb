{
 "cells": [
  {
   "cell_type": "markdown",
   "metadata": {},
   "source": [
    "# D.4 Lagrangian Calculations"
   ]
  },
  {
   "cell_type": "code",
   "execution_count": 1,
   "metadata": {},
   "outputs": [],
   "source": [
    "import sympy\n",
    "from sympy import *\n",
    "from sympy.physics.vector.printing import vlatex\n",
    "from IPython.display import Math, display\n",
    "\n",
    "init_printing()\n",
    "\n",
    "def dotprint(expr):\n",
    "    display(Math(vlatex(expr)))"
   ]
  },
  {
   "cell_type": "markdown",
   "metadata": {},
   "source": [
    "### Define Symbols and Configuration Variables"
   ]
  },
  {
   "cell_type": "code",
   "execution_count": 2,
   "metadata": {},
   "outputs": [],
   "source": [
    "# Time symbol\n",
    "t = symbols('t')"
   ]
  },
  {
   "cell_type": "code",
   "execution_count": 3,
   "metadata": {},
   "outputs": [],
   "source": [
    "# Generalized coordinates\n",
    "\n",
    "# TODO: Change this!\n",
    "z = symbols('z', cls=Function)\n",
    "z = z(t)"
   ]
  },
  {
   "cell_type": "code",
   "execution_count": 4,
   "metadata": {},
   "outputs": [],
   "source": [
    "# Derivatives of Generalized Coordinates\n",
    "\n",
    "# TODO: Change this!\n",
    "z_dot = z.diff(t)\n",
    "z_ddot = z_dot.diff(t)"
   ]
  },
  {
   "cell_type": "code",
   "execution_count": 5,
   "metadata": {},
   "outputs": [],
   "source": [
    "# Other symbols (mass, forces, damping coefficients, torques...)\n",
    "\n",
    "# TODO: Change this!\n",
    "k, b, m, F  = symbols('k, b, m, F')"
   ]
  },
  {
   "cell_type": "markdown",
   "metadata": {},
   "source": [
    "### Kinetic Energy\n",
    "\n",
    "#### Translational Kinetic Energy"
   ]
  },
  {
   "cell_type": "code",
   "execution_count": 6,
   "metadata": {},
   "outputs": [
    {
     "data": {
      "text/latex": [
       "$\\displaystyle 0.5 m \\dot{z}^{2}$"
      ],
      "text/plain": [
       "<IPython.core.display.Math object>"
      ]
     },
     "metadata": {},
     "output_type": "display_data"
    }
   ],
   "source": [
    "# TODO: Change this!\n",
    "K_T = 1/2*m*z_dot**2\n",
    "\n",
    "dotprint(K_T)"
   ]
  },
  {
   "cell_type": "markdown",
   "metadata": {},
   "source": [
    "#### Rotational Kinetic Energy"
   ]
  },
  {
   "cell_type": "code",
   "execution_count": 7,
   "metadata": {},
   "outputs": [
    {
     "data": {
      "text/latex": [
       "$\\displaystyle 0$"
      ],
      "text/plain": [
       "<IPython.core.display.Math object>"
      ]
     },
     "metadata": {},
     "output_type": "display_data"
    }
   ],
   "source": [
    "# TODO: Change this!\n",
    "K_R = 0\n",
    "\n",
    "dotprint(K_R)"
   ]
  },
  {
   "cell_type": "markdown",
   "metadata": {},
   "source": [
    "#### Total Kinetic Energy"
   ]
  },
  {
   "cell_type": "code",
   "execution_count": 8,
   "metadata": {},
   "outputs": [
    {
     "data": {
      "text/latex": [
       "$\\displaystyle 0.5 m \\dot{z}^{2}$"
      ],
      "text/plain": [
       "<IPython.core.display.Math object>"
      ]
     },
     "metadata": {},
     "output_type": "display_data"
    }
   ],
   "source": [
    "K = K_T #+ K_R\n",
    "\n",
    "dotprint(K)"
   ]
  },
  {
   "cell_type": "markdown",
   "metadata": {},
   "source": [
    "### Potential Energy"
   ]
  },
  {
   "cell_type": "code",
   "execution_count": 9,
   "metadata": {},
   "outputs": [
    {
     "data": {
      "text/latex": [
       "$\\displaystyle 0.5 k z^{2}$"
      ],
      "text/plain": [
       "<IPython.core.display.Math object>"
      ]
     },
     "metadata": {},
     "output_type": "display_data"
    }
   ],
   "source": [
    "# TODO: Change this!\n",
    "P = 1/2*k*z**2\n",
    "\n",
    "dotprint(P)"
   ]
  },
  {
   "cell_type": "markdown",
   "metadata": {},
   "source": [
    "### Define the Lagrangian\n",
    "\n",
    "For this class, the Lagrangian will in general be a scalar value equal to the difference between kinetic and potential energy."
   ]
  },
  {
   "cell_type": "code",
   "execution_count": 10,
   "metadata": {},
   "outputs": [
    {
     "data": {
      "text/latex": [
       "$\\displaystyle - 0.5 k z^{2} + 0.5 m \\dot{z}^{2}$"
      ],
      "text/plain": [
       "<IPython.core.display.Math object>"
      ]
     },
     "metadata": {},
     "output_type": "display_data"
    }
   ],
   "source": [
    "L = K - P\n",
    "\n",
    "dotprint(L)"
   ]
  },
  {
   "cell_type": "markdown",
   "metadata": {},
   "source": [
    "### Define the Forces\n",
    "\n",
    "#### Generalized Forces\n",
    "\n",
    "The forces will form a vector with the same length as the number of configuration variables. \n",
    "\n",
    "The first entry corresponds to the first configuration variable, the second entry to the second, etc.\n",
    "\n",
    "Each entry should contain the generalized forces acting on the corresponding configuration variable."
   ]
  },
  {
   "cell_type": "code",
   "execution_count": 11,
   "metadata": {},
   "outputs": [
    {
     "data": {
      "text/latex": [
       "$\\displaystyle \\left[\\begin{matrix}F\\end{matrix}\\right]$"
      ],
      "text/plain": [
       "<IPython.core.display.Math object>"
      ]
     },
     "metadata": {},
     "output_type": "display_data"
    }
   ],
   "source": [
    "# TODO: Change this!\n",
    "tau = Matrix([F])\n",
    "\n",
    "dotprint(tau)"
   ]
  },
  {
   "cell_type": "markdown",
   "metadata": {},
   "source": [
    "#### Non-conservative Forces (e.g. Damping)\n",
    "\n",
    "Similar to the generalized forces, this will be a vector with the same length as the number of configuration variables.\n",
    "\n",
    "Each entry should contain the nonconservative forces acting on the corresponding configuration variable."
   ]
  },
  {
   "cell_type": "code",
   "execution_count": 12,
   "metadata": {},
   "outputs": [
    {
     "data": {
      "text/latex": [
       "$\\displaystyle \\left[\\begin{matrix}- b \\dot{z}\\end{matrix}\\right]$"
      ],
      "text/plain": [
       "<IPython.core.display.Math object>"
      ]
     },
     "metadata": {},
     "output_type": "display_data"
    }
   ],
   "source": [
    "# TODO: Change this!\n",
    "B = Matrix([-b])\n",
    "q_dot = Matrix([z_dot])\n",
    "\n",
    "Bqdot = B @ q_dot\n",
    "\n",
    "dotprint(Bqdot)"
   ]
  },
  {
   "cell_type": "code",
   "execution_count": 13,
   "metadata": {},
   "outputs": [
    {
     "data": {
      "text/latex": [
       "$\\displaystyle \\left[\\begin{matrix}F - b \\dot{z}\\end{matrix}\\right]$"
      ],
      "text/plain": [
       "<IPython.core.display.Math object>"
      ]
     },
     "metadata": {},
     "output_type": "display_data"
    }
   ],
   "source": [
    "F_total = tau + Bqdot\n",
    "\n",
    "dotprint(F_total)"
   ]
  },
  {
   "cell_type": "markdown",
   "metadata": {},
   "source": [
    "### Compute the Lagrangian Derivatives / Partial Derivatives\n",
    "\n",
    "The following function computes these two terms:\n",
    "\n",
    "* $\\frac{d}{dt} \\left(\\frac{\\partial L(q, \\dot{q})}{\\partial \\dot{q}} \\right)$\n",
    "* $\\frac{\\partial L(q,\\dot{q})}{\\partial q}$\n",
    "\n",
    "Things to note:\n",
    "\n",
    "* `q` and `q_dot` should be Python tuples containing your configuration variables (e.g. `(x, theta)`)\n",
    "* The function returns a Python list. You probably want to wrap the output in a Sympy `Matrix()`. For example,\n",
    "\n",
    "```python\n",
    "out = derive_Lagrangian(...)\n",
    "out = Matrix(out)\n",
    "```"
   ]
  },
  {
   "cell_type": "code",
   "execution_count": 14,
   "metadata": {},
   "outputs": [],
   "source": [
    "def derive_Lagrangian(L, q, q_dot):\n",
    "    term_1 = (sympy.tensor.derive_by_array(L, q_dot)).diff(t)\n",
    "    term_2 = sympy.tensor.derive_by_array(L, q)\n",
    "    return term_1 - term_2"
   ]
  },
  {
   "cell_type": "markdown",
   "metadata": {},
   "source": [
    "### Get the final Euler Lagrange Equations of Motion\n",
    "\n",
    "Remember that the Euler Lagrange Equations used in class are:\n",
    "\n",
    "$$\n",
    "\\underbrace{\\frac{d}{dt} \\left(\\frac{\\partial L(q, \\dot{q})}{\\partial \\dot{q}} \\right) - \\frac{\\partial L(q,\\dot{q})}{\\partial q}}_\\text{Left Hand Side (LHS)} = \\underbrace{\\tau - B \\dot{q}}_\\text{Right Hand Side (RHS)}.\n",
    "$$\n",
    "\n",
    "In Sympy, we use the `Eq(LHS, RHS)` class to get a symbolic equation $\\text{LHS} = \\text{RHS}$.\n",
    "\n",
    "Both the left and right expressions should be Sympy vectors (i.e. Matrices with 1 column). \n",
    "\n",
    "The length of the left and right vectors must both be equal to the number of configuration variables."
   ]
  },
  {
   "cell_type": "code",
   "execution_count": 15,
   "metadata": {},
   "outputs": [
    {
     "data": {
      "text/latex": [
       "$\\displaystyle \\left[\\begin{matrix}1.0 k z + 1.0 m \\ddot{z}\\end{matrix}\\right] = \\left[\\begin{matrix}F - b \\dot{z}\\end{matrix}\\right]$"
      ],
      "text/plain": [
       "<IPython.core.display.Math object>"
      ]
     },
     "metadata": {},
     "output_type": "display_data"
    }
   ],
   "source": [
    "# TODO: Change this!\n",
    "LHS = Matrix([derive_Lagrangian(L, z, z_dot)])\n",
    "RHS = F_total\n",
    "\n",
    "dynamics = Eq(LHS, RHS)\n",
    "\n",
    "dotprint(dynamics)"
   ]
  },
  {
   "cell_type": "markdown",
   "metadata": {},
   "source": [
    "# D.4 Start"
   ]
  },
  {
   "cell_type": "code",
   "execution_count": 16,
   "metadata": {},
   "outputs": [
    {
     "data": {
      "text/latex": [
       "$\\displaystyle \\left\\{ \\ddot{z} : \\frac{F - b \\dot{z} - k z}{m}\\right\\}$"
      ],
      "text/plain": [
       "<IPython.core.display.Math object>"
      ]
     },
     "metadata": {},
     "output_type": "display_data"
    }
   ],
   "source": [
    "solve_dynamics = solve(dynamics, (z_ddot,), simplify = True, dict = True)[0]\n",
    "dotprint(solve_dynamics)"
   ]
  },
  {
   "cell_type": "code",
   "execution_count": 28,
   "metadata": {},
   "outputs": [
    {
     "data": {
      "image/png": "[encoded data removed]",
      "text/latex": [
       "$\\displaystyle x$"
      ],
      "text/plain": [
       "x"
      ]
     },
     "execution_count": 28,
     "metadata": {},
     "output_type": "execute_result"
    }
   ],
   "source": [
    "state = MatrixSymbol('x', 2,1)"
   ]
  },
  {
   "cell_type": "code",
   "execution_count": 18,
   "metadata": {},
   "outputs": [
    {
     "data": {
      "text/latex": [
       "$\\displaystyle \\left[\\begin{matrix}\\dot{z}\\\\\\frac{F - b \\dot{z} - k z}{m}\\end{matrix}\\right]$"
      ],
      "text/plain": [
       "<IPython.core.display.Math object>"
      ]
     },
     "metadata": {},
     "output_type": "display_data"
    }
   ],
   "source": [
    "z_ddot_expr = solve_dynamics[z_ddot]\n",
    "state_deriv = Matrix([z_dot, z_ddot_expr])\n",
    "dotprint(state_deriv)"
   ]
  },
  {
   "cell_type": "code",
   "execution_count": 19,
   "metadata": {},
   "outputs": [],
   "source": [
    "subs_dict = {\n",
    "    z: state[0],\n",
    "    z_dot: state[1]\n",
    "}"
   ]
  },
  {
   "cell_type": "code",
   "execution_count": 20,
   "metadata": {},
   "outputs": [
    {
     "data": {
      "text/latex": [
       "$\\displaystyle \\left[\\begin{matrix}{x}_{1,0}\\\\\\frac{F - b {x}_{1,0} - k {x}_{0,0}}{m}\\end{matrix}\\right]$"
      ],
      "text/plain": [
       "<IPython.core.display.Math object>"
      ]
     },
     "metadata": {},
     "output_type": "display_data"
    }
   ],
   "source": [
    "f_expr = state_deriv.subs(subs_dict)\n",
    "dotprint(f_expr)"
   ]
  },
  {
   "cell_type": "markdown",
   "metadata": {},
   "source": [
    "finding equilibrium things"
   ]
  },
  {
   "cell_type": "code",
   "execution_count": 21,
   "metadata": {},
   "outputs": [
    {
     "data": {
      "text/latex": [
       "$\\displaystyle \\left\\{ {x}_{0,0} : \\frac{F}{k}, \\  {x}_{1,0} : 0\\right\\}$"
      ],
      "text/plain": [
       "<IPython.core.display.Math object>"
      ]
     },
     "metadata": {},
     "output_type": "display_data"
    }
   ],
   "source": [
    "equilibrium_equation = Eq(f_expr, Matrix([0,0]))\n",
    "\n",
    "eq_solve_dict = solve(equilibrium_equation, (state[0], state[1], F), simplify=True, dict=True)[0]\n",
    "dotprint(eq_solve_dict)"
   ]
  },
  {
   "cell_type": "code",
   "execution_count": 22,
   "metadata": {},
   "outputs": [],
   "source": [
    "u_eq = eq_solve_dict[state[1]]\n",
    "z_dot_eq = eq_solve_dict[state[0]]"
   ]
  },
  {
   "cell_type": "code",
   "execution_count": 23,
   "metadata": {},
   "outputs": [
    {
     "data": {
      "text/latex": [
       "$\\displaystyle \\left[\\begin{matrix}0\\\\\\frac{F}{m}\\end{matrix}\\right]$"
      ],
      "text/plain": [
       "<IPython.core.display.Math object>"
      ]
     },
     "metadata": {},
     "output_type": "display_data"
    }
   ],
   "source": [
    "dotprint(f_expr.subs({state[0]: 0, state[1]: 0}))"
   ]
  },
  {
   "cell_type": "markdown",
   "metadata": {},
   "source": [
    "# jacobians..."
   ]
  },
  {
   "cell_type": "code",
   "execution_count": 24,
   "metadata": {},
   "outputs": [
    {
     "data": {
      "text/latex": [
       "$\\displaystyle \\left[\\begin{matrix}0 & 1\\\\- \\frac{k}{m} & - \\frac{b}{m}\\end{matrix}\\right]$"
      ],
      "text/plain": [
       "<IPython.core.display.Math object>"
      ]
     },
     "metadata": {},
     "output_type": "display_data"
    }
   ],
   "source": [
    "A = f_expr.jacobian(state)\n",
    "dotprint(A)"
   ]
  },
  {
   "cell_type": "code",
   "execution_count": 25,
   "metadata": {},
   "outputs": [
    {
     "data": {
      "text/latex": [
       "$\\displaystyle \\left[\\begin{matrix}0 & 1\\\\- \\frac{k}{m} & - \\frac{b}{m}\\end{matrix}\\right]$"
      ],
      "text/plain": [
       "<IPython.core.display.Math object>"
      ]
     },
     "metadata": {},
     "output_type": "display_data"
    }
   ],
   "source": [
    "z_desired = F/m\n",
    "\n",
    "A_eq = A.subs({state[0]: 0, state[1]: 0})\n",
    "dotprint(A_eq)"
   ]
  },
  {
   "cell_type": "code",
   "execution_count": 26,
   "metadata": {},
   "outputs": [
    {
     "data": {
      "text/latex": [
       "$\\displaystyle \\left[\\begin{matrix}0\\\\\\frac{1}{m}\\end{matrix}\\right]$"
      ],
      "text/plain": [
       "<IPython.core.display.Math object>"
      ]
     },
     "metadata": {},
     "output_type": "display_data"
    }
   ],
   "source": [
    "B = f_expr.jacobian([F])\n",
    "dotprint(B)"
   ]
  },
  {
   "cell_type": "markdown",
   "metadata": {},
   "source": [
    "# H = Ax + Bu"
   ]
  },
  {
   "cell_type": "code",
   "execution_count": 27,
   "metadata": {},
   "outputs": [
    {
     "data": {
      "text/latex": [
       "$\\displaystyle \\left[\\begin{matrix}\\dot{z}\\\\- \\frac{F}{m} - \\frac{b \\dot{z}}{m} - \\frac{k z}{m}\\end{matrix}\\right]$"
      ],
      "text/plain": [
       "<IPython.core.display.Math object>"
      ]
     },
     "metadata": {},
     "output_type": "display_data"
    }
   ],
   "source": [
    "H = A @ Matrix([z, z_dot]) - B @ Matrix([tau])\n",
    "dotprint(H)"
   ]
  }
 ],
 "metadata": {
  "kernelspec": {
   "display_name": ".venv",
   "language": "python",
   "name": "python3"
  },
  "language_info": {
   "codemirror_mode": {
    "name": "ipython",
    "version": 3
   },
   "file_extension": ".py",
   "mimetype": "text/x-python",
   "name": "python",
   "nbconvert_exporter": "python",
   "pygments_lexer": "ipython3",
   "version": "3.12.5"
  }
 },
 "nbformat": 4,
 "nbformat_minor": 2
}
