{
 "cells": [
  {
   "cell_type": "code",
   "execution_count": 26,
   "metadata": {},
   "outputs": [],
   "source": [
    "import sympy\n",
    "from sympy import *\n",
    "from sympy.physics.vector.printing import vlatex\n",
    "from IPython.display import Math, display\n",
    "\n",
    "init_printing()\n",
    "\n",
    "def dotprint(expr):\n",
    "    display(Math(vlatex(expr)))"
   ]
  },
  {
   "cell_type": "code",
   "execution_count": 27,
   "metadata": {},
   "outputs": [],
   "source": [
    "s = symbols('s')\n",
    "\n",
    "theta, z = symbols('\\\\theta, Z', cls=Function)\n",
    "theta = theta(s)\n",
    "z = z(s)\n",
    "\n",
    "m1, m2, g, F, el, s, A, ze = symbols('m_1, m_2, g, F, ell, s, A, z_e')"
   ]
  },
  {
   "cell_type": "code",
   "execution_count": 28,
   "metadata": {},
   "outputs": [],
   "source": [
    "theta_to_z = -1*s**2/g*z\n",
    "z_to_theta = -1*g/s**2*theta\n",
    "A_real = m2*el**2/3 + m1*ze**2"
   ]
  },
  {
   "cell_type": "code",
   "execution_count": 29,
   "metadata": {},
   "outputs": [
    {
     "data": {
      "image/png": "[encoded data removed]",
      "text/latex": [
       "$\\displaystyle - \\frac{3 \\ell g}{3 g^{2} m_{1} - s^{4} \\left(\\ell^{2} m_{2} + 3 m_{1} z_{e}^{2}\\right)}$"
      ],
      "text/plain": [
       "            -3⋅ell⋅g             \n",
       "─────────────────────────────────\n",
       "   2       4 ⎛   2             2⎞\n",
       "3⋅g ⋅m₁ - s ⋅⎝ell ⋅m₂ + 3⋅m₁⋅zₑ ⎠"
      ]
     },
     "execution_count": 29,
     "metadata": {},
     "output_type": "execute_result"
    }
   ],
   "source": [
    "trans_fcn = -el*g/(-1*(m2*el**2/3 + m1*ze**2)*s**4 + m1*g**2)\n",
    "simplify(trans_fcn)"
   ]
  },
  {
   "cell_type": "code",
   "execution_count": 37,
   "metadata": {},
   "outputs": [
    {
     "data": {
      "image/png": "[encoded data removed]",
      "text/latex": [
       "$\\displaystyle A s^{2} \\theta{\\left(s \\right)} = F \\ell$"
      ],
      "text/plain": [
       "   2                  \n",
       "A⋅s ⋅\\theta(s) = F⋅ell"
      ]
     },
     "execution_count": 37,
     "metadata": {},
     "output_type": "execute_result"
    }
   ],
   "source": [
    "lower_left = theta*A*s**2\n",
    "lower_right = el*F\n",
    "\n",
    "lower = Eq(lower_left, lower_right)\n",
    "\n",
    "lower"
   ]
  },
  {
   "cell_type": "markdown",
   "metadata": {},
   "source": [
    "# f to z transfer fcn"
   ]
  },
  {
   "cell_type": "code",
   "execution_count": 38,
   "metadata": {},
   "outputs": [
    {
     "data": {
      "image/png": "[encoded data removed]",
      "text/latex": [
       "$\\displaystyle \\left[ - \\frac{3 F \\ell g}{s^{4} \\left(\\ell^{2} m_{2} + 3 m_{1} z_{e}^{2}\\right)}\\right]$"
      ],
      "text/plain": [
       "⎡      -3⋅F⋅ell⋅g       ⎤\n",
       "⎢───────────────────────⎥\n",
       "⎢ 4 ⎛   2             2⎞⎥\n",
       "⎣s ⋅⎝ell ⋅m₂ + 3⋅m₁⋅zₑ ⎠⎦"
      ]
     },
     "execution_count": 38,
     "metadata": {},
     "output_type": "execute_result"
    }
   ],
   "source": [
    "lower_theta_subs = lower.subs({A: A_real, theta:theta_to_z})\n",
    "lower_theta_subs\n",
    "\n",
    "lower_theta_solve = solve(lower_theta_subs, z)\n",
    "lower_theta_solve"
   ]
  },
  {
   "cell_type": "markdown",
   "metadata": {},
   "source": [
    "# f to theta transfer fcn"
   ]
  },
  {
   "cell_type": "code",
   "execution_count": 39,
   "metadata": {},
   "outputs": [
    {
     "data": {
      "image/png": "[encoded data removed]",
      "text/latex": [
       "$\\displaystyle \\left[ \\frac{3 F \\ell}{s^{2} \\left(\\ell^{2} m_{2} + 3 m_{1} z_{e}^{2}\\right)}\\right]$"
      ],
      "text/plain": [
       "⎡        3⋅F⋅ell        ⎤\n",
       "⎢───────────────────────⎥\n",
       "⎢ 2 ⎛   2             2⎞⎥\n",
       "⎣s ⋅⎝ell ⋅m₂ + 3⋅m₁⋅zₑ ⎠⎦"
      ]
     },
     "execution_count": 39,
     "metadata": {},
     "output_type": "execute_result"
    }
   ],
   "source": [
    "lower_z_subs = lower.subs({A: A_real, z:z_to_theta})\n",
    "\n",
    "lower_z_solve = solve(lower_z_subs, theta)\n",
    "lower_z_solve"
   ]
  }
 ],
 "metadata": {
  "kernelspec": {
   "display_name": ".venv",
   "language": "python",
   "name": "python3"
  },
  "language_info": {
   "codemirror_mode": {
    "name": "ipython",
    "version": 3
   },
   "file_extension": ".py",
   "mimetype": "text/x-python",
   "name": "python",
   "nbconvert_exporter": "python",
   "pygments_lexer": "ipython3",
   "version": "3.12.5"
  }
 },
 "nbformat": 4,
 "nbformat_minor": 2
}
