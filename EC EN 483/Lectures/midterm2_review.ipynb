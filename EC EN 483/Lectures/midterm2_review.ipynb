{
 "cells": [
  {
   "cell_type": "code",
   "execution_count": 1,
   "metadata": {},
   "outputs": [],
   "source": [
    "import numpy as np\n",
    "import sympy\n",
    "from sympy import *\n",
    "from sympy.physics.vector.printing import vlatex\n",
    "from IPython.display import Math, display\n",
    "\n",
    "init_printing()\n",
    "\n",
    "def dotprint(expr):\n",
    "    display(Math(vlatex(expr)))"
   ]
  },
  {
   "cell_type": "code",
   "execution_count": 12,
   "metadata": {},
   "outputs": [
    {
     "data": {
      "text/plain": [
       "array([[ 1,  0,  0,  0],\n",
       "       [ 3,  1,  0,  0],\n",
       "       [ 9,  3,  1,  0],\n",
       "       [25,  9,  3,  1]])"
      ]
     },
     "execution_count": 12,
     "metadata": {},
     "output_type": "execute_result"
    }
   ],
   "source": [
    "A = np.array([[3, 1, 0, 0], [0, 0, 1, 0], [-2, 0, 0, 1], [4, 0, 0, 0]])\n",
    "B = np.array([0, -1/3, -1/3, -2])\n",
    "C0 = np.array([1, 0, 0, 0]).T\n",
    "\n",
    "observ = np.array([C0, C0 @ A, C0 @ A @ A, C0 @ A @ A @ A]) #np.linalg.matrix_power(A, 2 (or 3))\n",
    "observ\n"
   ]
  },
  {
   "cell_type": "code",
   "execution_count": 13,
   "metadata": {},
   "outputs": [
    {
     "data": {
      "image/png": "[encoded data removed]",
      "text/latex": [
       "$\\displaystyle 1$"
      ],
      "text/plain": [
       "1"
      ]
     },
     "execution_count": 13,
     "metadata": {},
     "output_type": "execute_result"
    }
   ],
   "source": [
    "controlability_matrix = np.hstack([B, A @ B, np.linalg.matrix_power(A,2) @ B, np.linalg.matrix_power(A,3) @ B])\n",
    "controlability_matrix\n",
    "np.linalg.matrix_rank(controlability_matrix)"
   ]
  },
  {
   "cell_type": "markdown",
   "metadata": {},
   "source": [
    "# 11/14"
   ]
  },
  {
   "cell_type": "code",
   "execution_count": 9,
   "metadata": {},
   "outputs": [
    {
     "data": {
      "text/plain": [
       "array([   1. ,  -15. ,   87.5, -185. ])"
      ]
     },
     "execution_count": 9,
     "metadata": {},
     "output_type": "execute_result"
    }
   ],
   "source": [
    "A = np.array([[9, 7, -3], [-4, 2, 8], [0.5, 0.5, 4]])\n",
    "B = np.array([[-1], [1], [4]])\n",
    "\n",
    "delta = np.poly(A)\n",
    "delta"
   ]
  }
 ],
 "metadata": {
  "kernelspec": {
   "display_name": ".venv",
   "language": "python",
   "name": "python3"
  },
  "language_info": {
   "codemirror_mode": {
    "name": "ipython",
    "version": 3
   },
   "file_extension": ".py",
   "mimetype": "text/x-python",
   "name": "python",
   "nbconvert_exporter": "python",
   "pygments_lexer": "ipython3",
   "version": "3.12.5"
  }
 },
 "nbformat": 4,
 "nbformat_minor": 2
}
