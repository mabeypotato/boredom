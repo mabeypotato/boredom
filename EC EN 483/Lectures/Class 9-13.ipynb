{
 "cells": [
  {
   "cell_type": "code",
   "execution_count": 2,
   "metadata": {},
   "outputs": [],
   "source": [
    "import numpy as np\n",
    "import sympy\n",
    "from sympy import *"
   ]
  },
  {
   "cell_type": "code",
   "execution_count": 13,
   "metadata": {},
   "outputs": [],
   "source": [
    "sympy.init_printing()"
   ]
  },
  {
   "cell_type": "code",
   "execution_count": 49,
   "metadata": {},
   "outputs": [],
   "source": [
    "theta, theta_dot, z, z_dot, L1, L2, t, m1, m2 = symbols('{\\\\theta}, \\\\dot{\\\\theta}, z, \\\\dot{z}, L_1, L_2, t, m_1, m_2')"
   ]
  },
  {
   "cell_type": "code",
   "execution_count": 24,
   "metadata": {},
   "outputs": [
    {
     "data": {
      "text/latex": [
       "$\\displaystyle L_{1}$"
      ],
      "text/plain": [
       "L₁"
      ]
     },
     "execution_count": 24,
     "metadata": {},
     "output_type": "execute_result"
    }
   ],
   "source": []
  },
  {
   "cell_type": "code",
   "execution_count": 55,
   "metadata": {},
   "outputs": [],
   "source": [
    "# linear position matrices\n",
    "p1 = Matrix([z-L1*cos(theta), L1*cos(theta), 0])\n",
    "p2 = Matrix([z-L2*cos(theta), -L2*sin(theta), 0])\n"
   ]
  },
  {
   "cell_type": "code",
   "execution_count": 56,
   "metadata": {},
   "outputs": [],
   "source": [
    "# linear velocity matrices\n",
    "v1 = p1.diff(theta)*theta_dot + p1.diff(z)*z_dot\n",
    "v2 = p2.diff(theta)*theta_dot + p2.diff(z)*z_dot\n"
   ]
  },
  {
   "cell_type": "code",
   "execution_count": 58,
   "metadata": {},
   "outputs": [
    {
     "data": {
      "text/latex": [
       "$\\displaystyle \\left[\\begin{matrix}0.5 L_{1}^{2} \\dot{\\theta}^{2} m_{1} \\sin^{2}{\\left({\\theta} \\right)} + 0.5 L_{2}^{2} \\dot{\\theta}^{2} m_{2} \\cos^{2}{\\left({\\theta} \\right)} + 0.5 m_{1} \\left(L_{1} \\dot{\\theta} \\sin{\\left({\\theta} \\right)} + \\dot{z}\\right)^{2} + 0.5 m_{2} \\left(L_{2} \\dot{\\theta} \\sin{\\left({\\theta} \\right)} + \\dot{z}\\right)^{2}\\end{matrix}\\right]$"
      ],
      "text/plain": [
       "⎡      2             2       2                   2             2       2       ↪\n",
       "⎣0.5⋅L₁ ⋅\\dot{\\theta} ⋅m₁⋅sin ({\\theta}) + 0.5⋅L₂ ⋅\\dot{\\theta} ⋅m₂⋅cos ({\\the ↪\n",
       "\n",
       "↪                                                        2                     ↪\n",
       "↪ ta}) + 0.5⋅m₁⋅(L₁⋅\\dot{\\theta}⋅sin({\\theta}) + \\dot{z})  + 0.5⋅m₂⋅(L₂⋅\\dot{\\ ↪\n",
       "\n",
       "↪                                2⎤\n",
       "↪ theta}⋅sin({\\theta}) + \\dot{z}) ⎦"
      ]
     },
     "execution_count": 58,
     "metadata": {},
     "output_type": "execute_result"
    }
   ],
   "source": [
    "# KE matrix\n",
    "\n",
    "k1 = (1/2)*(m1*v1.T @ v1) + (1/2)*(m2*v2.T @ v2)\n",
    "k1"
   ]
  }
 ],
 "metadata": {
  "kernelspec": {
   "display_name": ".venv",
   "language": "python",
   "name": "python3"
  },
  "language_info": {
   "codemirror_mode": {
    "name": "ipython",
    "version": 3
   },
   "file_extension": ".py",
   "mimetype": "text/x-python",
   "name": "python",
   "nbconvert_exporter": "python",
   "pygments_lexer": "ipython3",
   "version": "3.12.5"
  }
 },
 "nbformat": 4,
 "nbformat_minor": 2
}
