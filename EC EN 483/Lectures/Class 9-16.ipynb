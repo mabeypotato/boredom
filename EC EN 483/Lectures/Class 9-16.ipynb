{
 "cells": [
  {
   "cell_type": "code",
   "execution_count": 1,
   "metadata": {},
   "outputs": [],
   "source": [
    "import numpy as np\n",
    "import sympy\n",
    "from sympy import *"
   ]
  },
  {
   "cell_type": "code",
   "execution_count": 2,
   "metadata": {},
   "outputs": [],
   "source": [
    "sympy.init_printing()"
   ]
  },
  {
   "cell_type": "code",
   "execution_count": 8,
   "metadata": {},
   "outputs": [],
   "source": [
    "# single link arm\n",
    "m, theta, theta_dot, el = symbols(\"m, \\\\theta, \\\\dot{\\\\theta}, \\\\ell\") "
   ]
  },
  {
   "cell_type": "code",
   "execution_count": 15,
   "metadata": {},
   "outputs": [
    {
     "data": {
      "text/latex": [
       "$\\displaystyle \\left[\\begin{matrix}\\frac{\\ell \\cos{\\left(\\theta \\right)}}{2}\\\\\\frac{\\ell \\sin{\\left(\\theta \\right)}}{2}\\\\0\\end{matrix}\\right]$"
      ],
      "text/plain": [
       "⎡\\ell⋅cos(\\theta)⎤\n",
       "⎢────────────────⎥\n",
       "⎢       2        ⎥\n",
       "⎢                ⎥\n",
       "⎢\\ell⋅sin(\\theta)⎥\n",
       "⎢────────────────⎥\n",
       "⎢       2        ⎥\n",
       "⎢                ⎥\n",
       "⎣       0        ⎦"
      ]
     },
     "execution_count": 15,
     "metadata": {},
     "output_type": "execute_result"
    }
   ],
   "source": [
    "p = Matrix([(el/2)*cos(theta), (el/2)*sin(theta), 0])\n",
    "p"
   ]
  },
  {
   "cell_type": "code",
   "execution_count": 16,
   "metadata": {},
   "outputs": [
    {
     "data": {
      "text/latex": [
       "$\\displaystyle \\left[\\begin{matrix}- \\frac{\\dot{\\theta} \\ell \\sin{\\left(\\theta \\right)}}{2}\\\\\\frac{\\dot{\\theta} \\ell \\cos{\\left(\\theta \\right)}}{2}\\\\0\\end{matrix}\\right]$"
      ],
      "text/plain": [
       "⎡-\\dot{\\theta}⋅\\ell⋅sin(\\theta) ⎤\n",
       "⎢───────────────────────────────⎥\n",
       "⎢               2               ⎥\n",
       "⎢                               ⎥\n",
       "⎢ \\dot{\\theta}⋅\\ell⋅cos(\\theta) ⎥\n",
       "⎢ ───────────────────────────── ⎥\n",
       "⎢               2               ⎥\n",
       "⎢                               ⎥\n",
       "⎣               0               ⎦"
      ]
     },
     "execution_count": 16,
     "metadata": {},
     "output_type": "execute_result"
    }
   ],
   "source": [
    "# this is purely linear velocity\n",
    "v = p.diff(theta)*theta_dot\n",
    "v"
   ]
  },
  {
   "cell_type": "code",
   "execution_count": 17,
   "metadata": {},
   "outputs": [
    {
     "data": {
      "text/latex": [
       "$\\displaystyle \\left[\\begin{matrix}\\frac{\\dot{\\theta}^{2} \\ell^{2} m}{8}\\end{matrix}\\right]$"
      ],
      "text/plain": [
       "⎡            2     2  ⎤\n",
       "⎢\\dot{\\theta} ⋅\\ell ⋅m⎥\n",
       "⎢─────────────────────⎥\n",
       "⎣          8          ⎦"
      ]
     },
     "execution_count": 17,
     "metadata": {},
     "output_type": "execute_result"
    }
   ],
   "source": [
    "# linear Ke\n",
    "kl = Rational(1,2)*(m*v.T @ v)\n",
    "simplify(kl)"
   ]
  },
  {
   "cell_type": "code",
   "execution_count": 20,
   "metadata": {},
   "outputs": [],
   "source": [
    "# omega vector\n",
    "w = Matrix([0, 0, theta_dot])"
   ]
  },
  {
   "cell_type": "code",
   "execution_count": 21,
   "metadata": {},
   "outputs": [
    {
     "data": {
      "text/latex": [
       "$\\displaystyle \\left[\\begin{matrix}0 & 0 & 0\\\\0 & \\frac{\\ell^{2} m}{12} & 0\\\\0 & 0 & \\frac{\\ell^{2} m}{12}\\end{matrix}\\right]$"
      ],
      "text/plain": [
       "⎡0     0        0   ⎤\n",
       "⎢                   ⎥\n",
       "⎢       2           ⎥\n",
       "⎢   \\ell ⋅m         ⎥\n",
       "⎢0  ───────     0   ⎥\n",
       "⎢     12            ⎥\n",
       "⎢                   ⎥\n",
       "⎢                2  ⎥\n",
       "⎢            \\ell ⋅m⎥\n",
       "⎢0     0     ───────⎥\n",
       "⎣              12   ⎦"
      ]
     },
     "execution_count": 21,
     "metadata": {},
     "output_type": "execute_result"
    }
   ],
   "source": [
    "# we need our inertia matrix\n",
    "J = Matrix([[0, 0, 0], [0, m*el**2/12, 0], [0, 0, m*el**2/12]])\n",
    "J"
   ]
  },
  {
   "cell_type": "code",
   "execution_count": 22,
   "metadata": {},
   "outputs": [],
   "source": [
    "# angular Ke\n",
    "kw = (Rational(1,2))*(w.T @ J @ w)"
   ]
  },
  {
   "cell_type": "code",
   "execution_count": 39,
   "metadata": {},
   "outputs": [
    {
     "data": {
      "text/latex": [
       "$\\displaystyle \\left[\\begin{matrix}0.166666666666667 \\dot{\\theta}^{2} \\ell^{2} m\\end{matrix}\\right]$"
      ],
      "text/plain": [
       "⎡                              2     2  ⎤\n",
       "⎣0.166666666666667⋅\\dot{\\theta} ⋅\\ell ⋅m⎦"
      ]
     },
     "execution_count": 39,
     "metadata": {},
     "output_type": "execute_result"
    }
   ],
   "source": [
    "# total Ke\n",
    "kt = kl + kw\n",
    "simplify(kt)"
   ]
  },
  {
   "cell_type": "code",
   "execution_count": 6,
   "metadata": {},
   "outputs": [],
   "source": [
    "# pendulum on a cart\n",
    "z, z_dot, theta, theta_dot, el, m1, m2 = symbols(\"z, \\\\dot{z}, \\\\theta, \\\\dot{\\\\theta}, \\\\ell, m_1, m_2\")"
   ]
  },
  {
   "cell_type": "code",
   "execution_count": 7,
   "metadata": {},
   "outputs": [
    {
     "data": {
      "text/latex": [
       "$\\displaystyle \\dot{z}$"
      ],
      "text/plain": [
       "\\dot{z}"
      ]
     },
     "execution_count": 7,
     "metadata": {},
     "output_type": "execute_result"
    }
   ],
   "source": [
    "# positional stuff\n",
    "\n",
    "# position of block\n",
    "pb = Matrix([z, 0, 0])\n",
    "\n",
    "# position of rod (cos and sin are flipped because theta is measured from the pendulum and not the cart)\n",
    "pr = Matrix([z + el/2 * sin(theta), el/2 * cos(theta), 0])"
   ]
  }
 ],
 "metadata": {
  "kernelspec": {
   "display_name": ".venv",
   "language": "python",
   "name": "python3"
  },
  "language_info": {
   "codemirror_mode": {
    "name": "ipython",
    "version": 3
   },
   "file_extension": ".py",
   "mimetype": "text/x-python",
   "name": "python",
   "nbconvert_exporter": "python",
   "pygments_lexer": "ipython3",
   "version": "3.12.5"
  }
 },
 "nbformat": 4,
 "nbformat_minor": 2
}
