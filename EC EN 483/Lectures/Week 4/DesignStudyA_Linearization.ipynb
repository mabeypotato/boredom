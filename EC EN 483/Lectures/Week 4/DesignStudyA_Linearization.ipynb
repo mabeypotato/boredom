{
 "cells": [
  {
   "cell_type": "markdown",
   "metadata": {},
   "source": [
    "# Template File: Linearization"
   ]
  },
  {
   "cell_type": "code",
   "execution_count": 1,
   "metadata": {},
   "outputs": [],
   "source": [
    "import sympy\n",
    "from sympy import *\n",
    "from sympy.physics.vector.printing import vlatex\n",
    "from IPython.display import Math, display\n",
    "\n",
    "init_printing()\n",
    "\n",
    "def dotprint(expr):\n",
    "    display(Math(vlatex(expr)))"
   ]
  },
  {
   "cell_type": "code",
   "execution_count": 2,
   "metadata": {},
   "outputs": [],
   "source": [
    "t = symbols('t')\n",
    "theta = symbols(r'\\theta', cls=Function)\n",
    "theta = theta(t)\n",
    "theta\n",
    "\n",
    "theta_dot = theta.diff(t)\n",
    "theta_ddot = theta.diff(t,2)\n",
    "\n",
    "ell, m, g, P_0, tau, b = symbols(r'\\ell, m, g, P_0, \\tau, b', real=True)"
   ]
  },
  {
   "cell_type": "code",
   "execution_count": 13,
   "metadata": {},
   "outputs": [
    {
     "data": {
      "text/latex": [
       "$\\displaystyle \\frac{\\ell^{2} m \\ddot{\\theta}}{3} + \\frac{\\ell g m \\cos{\\left(\\theta \\right)}}{2} = \\tau - b \\dot{\\theta}$"
      ],
      "text/plain": [
       "<IPython.core.display.Math object>"
      ]
     },
     "metadata": {},
     "output_type": "display_data"
    }
   ],
   "source": [
    "LHS = Rational(1,3)*m*ell**2*theta_ddot + Rational(1,2)*m*g*ell*cos(theta)\n",
    "RHS = tau - b*theta_dot\n",
    "\n",
    "dynamics = Eq(LHS, RHS)\n",
    "dotprint(dynamics)"
   ]
  },
  {
   "cell_type": "markdown",
   "metadata": {},
   "source": [
    "## Deriving Nonlinear State Space Equations\n",
    "\n",
    "Solve for our highest derivative, $\\ddot{\\theta}$:"
   ]
  },
  {
   "cell_type": "code",
   "execution_count": 4,
   "metadata": {},
   "outputs": [
    {
     "data": {
      "text/latex": [
       "$\\displaystyle \\left\\{ \\ddot{\\theta} : \\frac{3 \\left(- \\ell g m \\cos{\\left(\\theta \\right)} + 2 \\tau - 2 b \\dot{\\theta}\\right)}{2 \\ell^{2} m}\\right\\}$"
      ],
      "text/plain": [
       "<IPython.core.display.Math object>"
      ]
     },
     "metadata": {},
     "output_type": "display_data"
    }
   ],
   "source": [
    "solve_dict = solve(dynamics, (theta_ddot,), simplify=True, dict=True)[0]\n",
    "dotprint(solve_dict)"
   ]
  },
  {
   "cell_type": "markdown",
   "metadata": {},
   "source": [
    "Create our state vector $x = [x_1, x_2]$:"
   ]
  },
  {
   "cell_type": "code",
   "execution_count": 5,
   "metadata": {},
   "outputs": [
    {
     "data": {
      "text/latex": [
       "$\\displaystyle x$"
      ],
      "text/plain": [
       "<IPython.core.display.Math object>"
      ]
     },
     "metadata": {},
     "output_type": "display_data"
    }
   ],
   "source": [
    "state = MatrixSymbol('x', 2,1)\n",
    "dotprint(state)"
   ]
  },
  {
   "cell_type": "code",
   "execution_count": 6,
   "metadata": {},
   "outputs": [
    {
     "data": {
      "text/latex": [
       "$\\displaystyle \\left[\\begin{matrix}\\dot{\\theta}\\\\\\frac{3 \\left(- \\ell g m \\cos{\\left(\\theta \\right)} + 2 \\tau - 2 b \\dot{\\theta}\\right)}{2 \\ell^{2} m}\\end{matrix}\\right]$"
      ],
      "text/plain": [
       "<IPython.core.display.Math object>"
      ]
     },
     "metadata": {},
     "output_type": "display_data"
    }
   ],
   "source": [
    "theta_ddot_expr = solve_dict[theta_ddot]\n",
    "state_deriv = Matrix([theta_dot, theta_ddot_expr])\n",
    "dotprint(state_deriv)"
   ]
  },
  {
   "cell_type": "markdown",
   "metadata": {},
   "source": [
    "Now we can substitute in our $x_1, x_2$ values in!"
   ]
  },
  {
   "cell_type": "code",
   "execution_count": 7,
   "metadata": {},
   "outputs": [
    {
     "data": {
      "text/latex": [
       "$\\displaystyle \\left[\\begin{matrix}{x}_{1,0}\\\\\\frac{3 \\left(- \\ell g m \\cos{\\left({x}_{0,0} \\right)} + 2 \\tau - 2 b {x}_{1,0}\\right)}{2 \\ell^{2} m}\\end{matrix}\\right]$"
      ],
      "text/plain": [
       "<IPython.core.display.Math object>"
      ]
     },
     "metadata": {},
     "output_type": "display_data"
    }
   ],
   "source": [
    "# Dictionary for substitutions\n",
    "subs_dict = {\n",
    "    theta: state[0],\n",
    "    theta_dot: state[1],\n",
    "    \n",
    "}\n",
    "\n",
    "f_expr = state_deriv.subs(subs_dict)\n",
    "dotprint(f_expr)"
   ]
  },
  {
   "cell_type": "markdown",
   "metadata": {},
   "source": [
    "We now have our nonlinear state space equations!\n",
    "\n",
    "## Linearization\n",
    "\n",
    "First, we need to find an equilibrium point. We can either do this by hand or use Sympy's `solve` function to do this.\n",
    "\n",
    "**Note:** It's a good idea to practice doing this by hand in addition to using Sympy!"
   ]
  },
  {
   "cell_type": "code",
   "execution_count": 8,
   "metadata": {},
   "outputs": [
    {
     "data": {
      "text/latex": [
       "$\\displaystyle \\left\\{ \\tau : \\frac{\\ell g m \\cos{\\left({x}_{0,0} \\right)}}{2}, \\  {x}_{1,0} : 0\\right\\}$"
      ],
      "text/plain": [
       "<IPython.core.display.Math object>"
      ]
     },
     "metadata": {},
     "output_type": "display_data"
    }
   ],
   "source": [
    "# This equation represents f(x,u) = 0\n",
    "equilibrium_equation = Eq(f_expr, Matrix([0,0]))\n",
    "\n",
    "eq_solve_dict = solve(equilibrium_equation, (state[0], state[1], tau), simplify=True, dict=True)[0]\n",
    "dotprint(eq_solve_dict)"
   ]
  },
  {
   "cell_type": "code",
   "execution_count": 9,
   "metadata": {},
   "outputs": [],
   "source": [
    "u_eq = eq_solve_dict[tau]\n",
    "theta_dot_eq = eq_solve_dict[state[1]]"
   ]
  },
  {
   "cell_type": "markdown",
   "metadata": {},
   "source": [
    "Excellent! We have equilibrium solutions for $u = \\tau$ and $x_2 = \\dot{\\theta}$. \n",
    "\n",
    "But think for a second: Why didn't Sympy give us an equilibrium solution for $x_1 = \\theta$?\n",
    "\n",
    "#### Define A, B Jacobians\n",
    "\n",
    "We can use Sympy's `jacobian` function to find the jacobians of `f(x,u)`.\n",
    "\n",
    "First we find $A = \\frac{\\partial f}{\\partial x}$:"
   ]
  },
  {
   "cell_type": "code",
   "execution_count": 10,
   "metadata": {},
   "outputs": [
    {
     "data": {
      "text/latex": [
       "$\\displaystyle \\left[\\begin{matrix}0 & 1\\\\\\frac{3 g \\sin{\\left({x}_{0,0} \\right)}}{2 \\ell} & - \\frac{3 b}{\\ell^{2} m}\\end{matrix}\\right]$"
      ],
      "text/plain": [
       "<IPython.core.display.Math object>"
      ]
     },
     "metadata": {},
     "output_type": "display_data"
    }
   ],
   "source": [
    "A = f_expr.jacobian(state)\n",
    "dotprint(A)"
   ]
  },
  {
   "cell_type": "markdown",
   "metadata": {},
   "source": [
    "We can evaluate at our specific $(x_e, u_e)$ point using `subs`.\n",
    "\n",
    "Since $\\theta$ can be \"anything\", we choose it and compute everything else based off of that. Here we'll choose $\\theta = 0$."
   ]
  },
  {
   "cell_type": "code",
   "execution_count": 11,
   "metadata": {},
   "outputs": [
    {
     "data": {
      "text/latex": [
       "$\\displaystyle \\left[\\begin{matrix}0 & 1\\\\0 & - \\frac{3 b}{\\ell^{2} m}\\end{matrix}\\right]$"
      ],
      "text/plain": [
       "<IPython.core.display.Math object>"
      ]
     },
     "metadata": {},
     "output_type": "display_data"
    }
   ],
   "source": [
    "theta_desired = 0\n",
    "\n",
    "A_eq = A.subs({state[0]: theta_desired})\n",
    "dotprint(A_eq)"
   ]
  },
  {
   "cell_type": "markdown",
   "metadata": {},
   "source": [
    "Now we do a similar process to find $B = \\frac{\\partial f}{\\partial u}$"
   ]
  },
  {
   "cell_type": "code",
   "execution_count": 12,
   "metadata": {},
   "outputs": [
    {
     "data": {
      "text/latex": [
       "$\\displaystyle \\left[\\begin{matrix}0\\\\\\frac{3}{\\ell^{2} m}\\end{matrix}\\right]$"
      ],
      "text/plain": [
       "<IPython.core.display.Math object>"
      ]
     },
     "metadata": {},
     "output_type": "display_data"
    }
   ],
   "source": [
    "B = f_expr.jacobian([tau])\n",
    "dotprint(B)"
   ]
  },
  {
   "cell_type": "markdown",
   "metadata": {},
   "source": [
    "Since B is not a function of the states or control inputs _in this case_, we don't have to substitute. But in general we would have to substitute in values!\n",
    "\n",
    "Now we are ready to make our final equations of motion."
   ]
  },
  {
   "cell_type": "code",
   "execution_count": null,
   "metadata": {},
   "outputs": [],
   "source": []
  }
 ],
 "metadata": {
  "kernelspec": {
   "display_name": ".venv",
   "language": "python",
   "name": "python3"
  },
  "language_info": {
   "codemirror_mode": {
    "name": "ipython",
    "version": 3
   },
   "file_extension": ".py",
   "mimetype": "text/x-python",
   "name": "python",
   "nbconvert_exporter": "python",
   "pygments_lexer": "ipython3",
   "version": "3.12.5"
  }
 },
 "nbformat": 4,
 "nbformat_minor": 2
}
