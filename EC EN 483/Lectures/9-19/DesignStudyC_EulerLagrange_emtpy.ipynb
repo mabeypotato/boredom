{
 "cells": [
  {
   "cell_type": "markdown",
   "metadata": {},
   "source": [
    "# Design Study C: Satellite"
   ]
  },
  {
   "cell_type": "code",
   "execution_count": 1,
   "metadata": {},
   "outputs": [],
   "source": [
    "import sympy\n",
    "from sympy import *\n",
    "from sympy.physics.vector.printing import vlatex\n",
    "from IPython.display import Math, display\n",
    "\n",
    "init_printing()\n",
    "\n",
    "def dotprint(expr):\n",
    "    display(Math(vlatex(expr)))"
   ]
  },
  {
   "cell_type": "markdown",
   "metadata": {},
   "source": [
    "### Define Symbols and Configuration Variables"
   ]
  },
  {
   "cell_type": "code",
   "execution_count": 2,
   "metadata": {},
   "outputs": [],
   "source": [
    "# Time symbol\n",
    "t = symbols('t')"
   ]
  },
  {
   "cell_type": "code",
   "execution_count": 3,
   "metadata": {},
   "outputs": [],
   "source": [
    "# Generalized coordinates\n",
    "\n",
    "theta, phi = symbols(r'theta, phi', cls=Function)\n",
    "theta = theta(t)\n",
    "phi = phi(t)"
   ]
  },
  {
   "cell_type": "code",
   "execution_count": 4,
   "metadata": {},
   "outputs": [],
   "source": [
    "# Derivatives of Generalized Coordinates\n",
    "\n",
    "theta_dot = theta.diff(t)\n",
    "phi_dot = phi.diff(t)"
   ]
  },
  {
   "cell_type": "code",
   "execution_count": 5,
   "metadata": {},
   "outputs": [],
   "source": [
    "# Other symbols (mass, forces, damping coefficients, torques...)\n",
    "\n",
    "Js, Jp, k, tau_theta, b  = symbols(r'J_s, J_p, k, tau_\\theta, b', real=True)"
   ]
  },
  {
   "cell_type": "markdown",
   "metadata": {},
   "source": [
    "### Kinetic Energy\n",
    "\n",
    "#### Translational Kinetic Energy"
   ]
  },
  {
   "cell_type": "code",
   "execution_count": 13,
   "metadata": {},
   "outputs": [
    {
     "data": {
      "text/latex": [
       "$\\displaystyle 0.5 J_{s} \\dot{\\theta}^{2}$"
      ],
      "text/plain": [
       "<IPython.core.display.Math object>"
      ]
     },
     "metadata": {},
     "output_type": "display_data"
    }
   ],
   "source": [
    "K_T = 1/2*Js*theta_dot**2\n",
    "\n",
    "dotprint(K_T)"
   ]
  },
  {
   "cell_type": "markdown",
   "metadata": {},
   "source": [
    "#### Rotational Kinetic Energy"
   ]
  },
  {
   "cell_type": "code",
   "execution_count": 14,
   "metadata": {},
   "outputs": [
    {
     "data": {
      "text/latex": [
       "$\\displaystyle 0.5 J_{p} \\dot{\\theta}^{2}$"
      ],
      "text/plain": [
       "<IPython.core.display.Math object>"
      ]
     },
     "metadata": {},
     "output_type": "display_data"
    }
   ],
   "source": [
    "K_R = 1/2*Jp*theta_dot**2\n",
    "\n",
    "dotprint(K_R)"
   ]
  },
  {
   "cell_type": "markdown",
   "metadata": {},
   "source": [
    "#### Total Kinetic Energy"
   ]
  },
  {
   "cell_type": "code",
   "execution_count": 15,
   "metadata": {},
   "outputs": [
    {
     "data": {
      "text/latex": [
       "$\\displaystyle 0.5 J_{p} \\dot{\\theta}^{2} + 0.5 J_{s} \\dot{\\theta}^{2}$"
      ],
      "text/plain": [
       "<IPython.core.display.Math object>"
      ]
     },
     "metadata": {},
     "output_type": "display_data"
    }
   ],
   "source": [
    "K = K_T + K_R\n",
    "\n",
    "dotprint(K)"
   ]
  },
  {
   "cell_type": "markdown",
   "metadata": {},
   "source": [
    "### Potential Energy"
   ]
  },
  {
   "cell_type": "code",
   "execution_count": 16,
   "metadata": {},
   "outputs": [
    {
     "data": {
      "text/latex": [
       "$\\displaystyle \\left(0.25 J_{p} \\dot{\\theta}^{2} + 0.25 J_{s} \\dot{\\theta}^{2}\\right) \\left(\\phi - \\theta\\right)^{2}$"
      ],
      "text/plain": [
       "<IPython.core.display.Math object>"
      ]
     },
     "metadata": {},
     "output_type": "display_data"
    }
   ],
   "source": [
    "P = 1/2*K*(phi-theta)**2\n",
    "\n",
    "dotprint(P)"
   ]
  },
  {
   "cell_type": "markdown",
   "metadata": {},
   "source": [
    "### Define the Lagrangian\n",
    "\n",
    "For this class, the Lagrangian will in general be a scalar value equal to the difference between kinetic and potential energy."
   ]
  },
  {
   "cell_type": "code",
   "execution_count": 17,
   "metadata": {},
   "outputs": [
    {
     "data": {
      "text/latex": [
       "$\\displaystyle 0.5 J_{p} \\dot{\\theta}^{2} + 0.5 J_{s} \\dot{\\theta}^{2} - \\left(0.25 J_{p} \\dot{\\theta}^{2} + 0.25 J_{s} \\dot{\\theta}^{2}\\right) \\left(\\phi - \\theta\\right)^{2}$"
      ],
      "text/plain": [
       "<IPython.core.display.Math object>"
      ]
     },
     "metadata": {},
     "output_type": "display_data"
    }
   ],
   "source": [
    "L = K - P\n",
    "\n",
    "dotprint(L)"
   ]
  },
  {
   "cell_type": "markdown",
   "metadata": {},
   "source": [
    "### Define the Forces\n",
    "\n",
    "#### Generalized Forces\n",
    "\n",
    "The forces will form a vector with the same length as the number of configuration variables. \n",
    "\n",
    "The first entry corresponds to the first configuration variable, the second entry to the second, etc.\n",
    "\n",
    "Each entry should contain the generalized forces acting on the corresponding configuration variable."
   ]
  },
  {
   "cell_type": "code",
   "execution_count": 8,
   "metadata": {},
   "outputs": [
    {
     "data": {
      "text/latex": [
       "$\\displaystyle \\left[\\begin{matrix}\\tau_{\\theta}\\\\\\theta\\end{matrix}\\right]$"
      ],
      "text/plain": [
       "<IPython.core.display.Math object>"
      ]
     },
     "metadata": {},
     "output_type": "display_data"
    }
   ],
   "source": [
    "tau = Matrix([tau_theta, theta])\n",
    "\n",
    "dotprint(tau)"
   ]
  },
  {
   "cell_type": "markdown",
   "metadata": {},
   "source": [
    "#### Non-conservative Forces (e.g. Damping)\n",
    "\n",
    "Similar to the generalized forces, this will be a vector with the same length as the number of configuration variables.\n",
    "\n",
    "Each entry should contain the nonconservative forces acting on the corresponding configuration variable."
   ]
  },
  {
   "cell_type": "code",
   "execution_count": 9,
   "metadata": {},
   "outputs": [
    {
     "data": {
      "text/latex": [
       "$\\displaystyle \\left[\\begin{matrix}- b \\dot{\\phi} + b \\dot{\\theta}\\\\b \\dot{\\phi} - b \\dot{\\theta}\\end{matrix}\\right]$"
      ],
      "text/plain": [
       "<IPython.core.display.Math object>"
      ]
     },
     "metadata": {},
     "output_type": "display_data"
    }
   ],
   "source": [
    "B = Matrix([[b , -b], [-b, b]])\n",
    "q_dot = Matrix([theta_dot, phi_dot])\n",
    "\n",
    "Bqdot = B @ q_dot\n",
    "\n",
    "dotprint(Bqdot)"
   ]
  },
  {
   "cell_type": "code",
   "execution_count": 10,
   "metadata": {},
   "outputs": [
    {
     "data": {
      "text/latex": [
       "$\\displaystyle \\left[\\begin{matrix}- b \\dot{\\phi} + b \\dot{\\theta} + \\tau_{\\theta}\\\\b \\dot{\\phi} - b \\dot{\\theta} + \\theta\\end{matrix}\\right]$"
      ],
      "text/plain": [
       "<IPython.core.display.Math object>"
      ]
     },
     "metadata": {},
     "output_type": "display_data"
    }
   ],
   "source": [
    "F_total = tau + Bqdot\n",
    "\n",
    "dotprint(F_total)"
   ]
  },
  {
   "cell_type": "markdown",
   "metadata": {},
   "source": [
    "### Compute the Lagrangian Derivatives / Partial Derivatives\n",
    "\n",
    "The following function computes these two terms:\n",
    "\n",
    "* $\\frac{d}{dt} \\left(\\frac{\\partial L(q, \\dot{q})}{\\partial \\dot{q}} \\right)$\n",
    "* $\\frac{\\partial L(q,\\dot{q})}{\\partial q}$\n",
    "\n",
    "Things to note:\n",
    "\n",
    "* `q` and `q_dot` should be Python tuples containing your configuration variables (e.g. `(x, theta)`)\n",
    "* The function returns a Python list. You probably want to wrap the output in a Sympy `Matrix()`. For example,\n",
    "\n",
    "```python\n",
    "out = derive_Lagrangian(...)\n",
    "out = Matrix(out)\n",
    "```"
   ]
  },
  {
   "cell_type": "code",
   "execution_count": 11,
   "metadata": {},
   "outputs": [],
   "source": [
    "def derive_Lagrangian(L, q, q_dot):\n",
    "    term_1 = (sympy.tensor.derive_by_array(L, q_dot)).diff(t)\n",
    "    term_2 = sympy.tensor.derive_by_array(L, q)\n",
    "    return term_1 - term_2"
   ]
  },
  {
   "cell_type": "markdown",
   "metadata": {},
   "source": [
    "### Get the final Euler Lagrange Equations of Motion\n",
    "\n",
    "Remember that the Euler Lagrange Equations used in class are:\n",
    "\n",
    "$$\n",
    "\\underbrace{\\frac{d}{dt} \\left(\\frac{\\partial L(q, \\dot{q})}{\\partial \\dot{q}} \\right) - \\frac{\\partial L(q,\\dot{q})}{\\partial q}}_\\text{Left Hand Side (LHS)} = \\underbrace{\\tau - B \\dot{q}}_\\text{Right Hand Side (RHS)}.\n",
    "$$\n",
    "\n",
    "In Sympy, we use the `Eq(LHS, RHS)` class to get a symbolic equation $\\text{LHS} = \\text{RHS}$.\n",
    "\n",
    "Both the left and right expressions should be Sympy vectors (i.e. Matrices with 1 column). \n",
    "\n",
    "The length of the left and right vectors must both be equal to the number of configuration variables."
   ]
  },
  {
   "cell_type": "code",
   "execution_count": 18,
   "metadata": {},
   "outputs": [
    {
     "data": {
      "text/latex": [
       "$\\displaystyle \\left[\\begin{matrix}1.0 J_{p} \\ddot{\\theta} + 1.0 J_{s} \\ddot{\\theta} - 0.5 \\left(J_{p} + J_{s}\\right) \\left(\\phi - \\theta\\right)^{2} \\ddot{\\theta} - 1.0 \\left(J_{p} + J_{s}\\right) \\left(\\phi - \\theta\\right) \\left(\\dot{\\phi} - \\dot{\\theta}\\right) \\dot{\\theta} - 0.5 \\left(J_{p} + J_{s}\\right) \\left(\\phi - \\theta\\right) \\dot{\\theta}^{2} & 0.5 \\left(J_{p} + J_{s}\\right) \\left(\\phi - \\theta\\right) \\dot{\\theta}^{2}\\end{matrix}\\right] = \\left[\\begin{matrix}- b \\dot{\\phi} + b \\dot{\\theta} + \\tau_{\\theta}\\\\b \\dot{\\phi} - b \\dot{\\theta} + \\theta\\end{matrix}\\right]$"
      ],
      "text/plain": [
       "<IPython.core.display.Math object>"
      ]
     },
     "metadata": {},
     "output_type": "display_data"
    }
   ],
   "source": [
    "LHS = derive_Lagrangian(L, [theta, phi], [theta_dot, phi_dot])\n",
    "RHS = F_total\n",
    "Euler_Lagrange = Eq(LHS, RHS)\n",
    "\n",
    "dotprint(simplify(Euler_Lagrange))"
   ]
  }
 ],
 "metadata": {
  "kernelspec": {
   "display_name": "controls",
   "language": "python",
   "name": "python3"
  },
  "language_info": {
   "codemirror_mode": {
    "name": "ipython",
    "version": 3
   },
   "file_extension": ".py",
   "mimetype": "text/x-python",
   "name": "python",
   "nbconvert_exporter": "python",
   "pygments_lexer": "ipython3",
   "version": "3.12.5"
  }
 },
 "nbformat": 4,
 "nbformat_minor": 2
}
