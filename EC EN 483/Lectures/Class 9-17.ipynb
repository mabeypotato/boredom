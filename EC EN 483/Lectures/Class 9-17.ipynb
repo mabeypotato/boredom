{
 "cells": [
  {
   "cell_type": "code",
   "execution_count": 1,
   "metadata": {},
   "outputs": [],
   "source": [
    "import numpy as np\n",
    "import sympy \n",
    "from sympy import *\n",
    "from sympy.physics.vector.printing import vlatex\n",
    "from IPython.display import Math, display"
   ]
  },
  {
   "cell_type": "code",
   "execution_count": 2,
   "metadata": {},
   "outputs": [],
   "source": [
    "init_printing()"
   ]
  },
  {
   "cell_type": "code",
   "execution_count": 3,
   "metadata": {},
   "outputs": [],
   "source": [
    "def dotprint(expr):\n",
    "    display(Math(vlatex(expr)))"
   ]
  },
  {
   "cell_type": "code",
   "execution_count": 4,
   "metadata": {},
   "outputs": [],
   "source": [
    "# first example, single link arm"
   ]
  },
  {
   "cell_type": "code",
   "execution_count": 5,
   "metadata": {},
   "outputs": [
    {
     "data": {
      "image/png": "[encoded data removed]",
      "text/latex": [
       "$\\displaystyle \\theta{\\left(t \\right)}$"
      ],
      "text/plain": [
       "\\theta(t)"
      ]
     },
     "execution_count": 5,
     "metadata": {},
     "output_type": "execute_result"
    }
   ],
   "source": [
    "t = symbols('t')\n",
    "theta = symbols('\\\\theta', cls=Function)\n",
    "theta = theta(t)\n",
    "theta"
   ]
  },
  {
   "cell_type": "code",
   "execution_count": 6,
   "metadata": {},
   "outputs": [
    {
     "data": {
      "image/png": "[encoded data removed]",
      "text/latex": [
       "$\\displaystyle \\frac{d}{d t} \\theta{\\left(t \\right)}$"
      ],
      "text/plain": [
       "d            \n",
       "──(\\theta(t))\n",
       "dt           "
      ]
     },
     "execution_count": 6,
     "metadata": {},
     "output_type": "execute_result"
    }
   ],
   "source": [
    "theta_dot = theta.diff(t)\n",
    "theta_dot"
   ]
  },
  {
   "cell_type": "code",
   "execution_count": 7,
   "metadata": {},
   "outputs": [],
   "source": [
    "el, m , g, P_0, tau, b = symbols(\" \\\\ell, m, g, P_0, \\\\tau, b\")"
   ]
  },
  {
   "cell_type": "code",
   "execution_count": 8,
   "metadata": {},
   "outputs": [
    {
     "data": {
      "image/png": "[encoded data removed]",
      "text/latex": [
       "$\\displaystyle 0.166666666666667 \\ell^{2} m \\left(\\frac{d}{d t} \\theta{\\left(t \\right)}\\right)^{2}$"
      ],
      "text/plain": [
       "                                         2\n",
       "                      2   ⎛d            ⎞ \n",
       "0.166666666666667⋅\\ell ⋅m⋅⎜──(\\theta(t))⎟ \n",
       "                          ⎝dt           ⎠ "
      ]
     },
     "execution_count": 8,
     "metadata": {},
     "output_type": "execute_result"
    }
   ],
   "source": [
    "# kinetic\n",
    "k = (1/6)*m*el**2*theta_dot**2\n",
    "k"
   ]
  },
  {
   "cell_type": "code",
   "execution_count": 9,
   "metadata": {},
   "outputs": [
    {
     "data": {
      "image/png": "[encoded data removed]",
      "text/latex": [
       "$\\displaystyle P_{0} + 0.5 \\ell g m \\sin{\\left(\\theta{\\left(t \\right)} \\right)}$"
      ],
      "text/plain": [
       "P₀ + 0.5⋅\\ell⋅g⋅m⋅sin(\\theta(t))"
      ]
     },
     "execution_count": 9,
     "metadata": {},
     "output_type": "execute_result"
    }
   ],
   "source": [
    "# potential\n",
    "p = P_0 + m*g*(1/2)*el*sin(theta)\n",
    "p"
   ]
  },
  {
   "cell_type": "code",
   "execution_count": 10,
   "metadata": {},
   "outputs": [
    {
     "data": {
      "image/png": "[encoded data removed]",
      "text/latex": [
       "$\\displaystyle - b \\frac{d}{d t} \\theta{\\left(t \\right)}$"
      ],
      "text/plain": [
       "   d            \n",
       "-b⋅──(\\theta(t))\n",
       "   dt           "
      ]
     },
     "execution_count": 10,
     "metadata": {},
     "output_type": "execute_result"
    }
   ],
   "source": [
    "# dampening\n",
    "GD = -b*theta_dot\n",
    "GD"
   ]
  },
  {
   "cell_type": "code",
   "execution_count": 11,
   "metadata": {},
   "outputs": [
    {
     "data": {
      "image/png": "[encoded data removed]",
      "text/latex": [
       "$\\displaystyle - P_{0} + 0.166666666666667 \\ell^{2} m \\left(\\frac{d}{d t} \\theta{\\left(t \\right)}\\right)^{2} - 0.5 \\ell g m \\sin{\\left(\\theta{\\left(t \\right)} \\right)}$"
      ],
      "text/plain": [
       "                                               2                              \n",
       "                            2   ⎛d            ⎞                               \n",
       "-P₀ + 0.166666666666667⋅\\ell ⋅m⋅⎜──(\\theta(t))⎟  - 0.5⋅\\ell⋅g⋅m⋅sin(\\theta(t))\n",
       "                                ⎝dt           ⎠                               "
      ]
     },
     "execution_count": 11,
     "metadata": {},
     "output_type": "execute_result"
    }
   ],
   "source": [
    "L = k - p\n",
    "L.simplify()"
   ]
  },
  {
   "cell_type": "code",
   "execution_count": 12,
   "metadata": {},
   "outputs": [],
   "source": [
    "def derive_lagrangian(L, q, q_dot):\n",
    "    term_1 = (L.diff(q_dot).diff(t))\n",
    "    term_2 = (L.diff(q))\n",
    "    return term_1 - term_2"
   ]
  },
  {
   "cell_type": "code",
   "execution_count": 13,
   "metadata": {},
   "outputs": [
    {
     "data": {
      "image/png": "[encoded data removed]",
      "text/latex": [
       "$\\displaystyle 0.333333333333333 \\ell^{2} m \\frac{d^{2}}{d t^{2}} \\theta{\\left(t \\right)} + 0.5 \\ell g m \\cos{\\left(\\theta{\\left(t \\right)} \\right)}$"
      ],
      "text/plain": [
       "                           2                                          \n",
       "                      2   d                                           \n",
       "0.333333333333333⋅\\ell ⋅m⋅───(\\theta(t)) + 0.5⋅\\ell⋅g⋅m⋅cos(\\theta(t))\n",
       "                            2                                         \n",
       "                          dt                                          "
      ]
     },
     "execution_count": 13,
     "metadata": {},
     "output_type": "execute_result"
    }
   ],
   "source": [
    "derive_lagrangian(L, theta, theta_dot)"
   ]
  },
  {
   "cell_type": "code",
   "execution_count": 14,
   "metadata": {},
   "outputs": [
    {
     "data": {
      "image/png": "[encoded data removed]",
      "text/latex": [
       "$\\displaystyle 0.333333333333333 \\ell^{2} m \\frac{d^{2}}{d t^{2}} \\theta{\\left(t \\right)} + 0.5 \\ell g m \\cos{\\left(\\theta{\\left(t \\right)} \\right)} = \\tau - b \\frac{d}{d t} \\theta{\\left(t \\right)}$"
      ],
      "text/plain": [
       "                           2                                                   ↪\n",
       "                      2   d                                                    ↪\n",
       "0.333333333333333⋅\\ell ⋅m⋅───(\\theta(t)) + 0.5⋅\\ell⋅g⋅m⋅cos(\\theta(t)) = \\tau  ↪\n",
       "                            2                                                  ↪\n",
       "                          dt                                                   ↪\n",
       "\n",
       "↪                  \n",
       "↪     d            \n",
       "↪ - b⋅──(\\theta(t))\n",
       "↪     dt           \n",
       "↪                  "
      ]
     },
     "execution_count": 14,
     "metadata": {},
     "output_type": "execute_result"
    }
   ],
   "source": [
    "Euler_lagrange = Eq(derive_lagrangian(L, theta, theta_dot), tau - b*theta_dot)\n",
    "Euler_lagrange"
   ]
  },
  {
   "cell_type": "code",
   "execution_count": 15,
   "metadata": {},
   "outputs": [],
   "source": [
    "# second example, pendulum on cart"
   ]
  },
  {
   "cell_type": "code",
   "execution_count": 16,
   "metadata": {},
   "outputs": [],
   "source": [
    "t = symbols('t')\n",
    "theta = symbols(\"\\\\theta\", cls=Function)\n",
    "z = symbols(\"z\", cls=Function)\n",
    "theta = theta(t)\n",
    "z = z(t)"
   ]
  },
  {
   "cell_type": "code",
   "execution_count": 17,
   "metadata": {},
   "outputs": [],
   "source": [
    "theta_dot = theta.diff(t)\n",
    "z_dot = z.diff(t)"
   ]
  },
  {
   "cell_type": "code",
   "execution_count": 18,
   "metadata": {},
   "outputs": [],
   "source": [
    "el, m1, m2, g, y, P_0, P, F, b = symbols(\"\\\\ell, m_1, m_2, g, y, P_0, P, F, b\")"
   ]
  },
  {
   "cell_type": "code",
   "execution_count": 43,
   "metadata": {},
   "outputs": [],
   "source": [
    "# linear + rotational\n",
    "k = (1/2)*(m1 + m2)*z_dot**2 + 1/2*m1*(el**2)/3*theta_dot**2 + 1/2*m1*el*z_dot*theta_dot*cos(theta)"
   ]
  },
  {
   "cell_type": "code",
   "execution_count": 44,
   "metadata": {},
   "outputs": [],
   "source": [
    "# potential\n",
    "p = P_0 + m1*g*(el/2)*(cos(theta) - 1)"
   ]
  },
  {
   "cell_type": "code",
   "execution_count": null,
   "metadata": {},
   "outputs": [
    {
     "ename": "AttributeError",
     "evalue": "'Symbol' object has no attribute 'T'",
     "output_type": "error",
     "traceback": [
      "\u001b[1;31m---------------------------------------------------------------------------\u001b[0m",
      "\u001b[1;31mAttributeError\u001b[0m                            Traceback (most recent call last)",
      "Cell \u001b[1;32mIn[21], line 2\u001b[0m\n\u001b[0;32m      1\u001b[0m \u001b[38;5;66;03m# generalized force\u001b[39;00m\n\u001b[1;32m----> 2\u001b[0m tau \u001b[38;5;241m=\u001b[39m \u001b[43mF\u001b[49m\u001b[38;5;241;43m.\u001b[39;49m\u001b[43mT\u001b[49m\n",
      "\u001b[1;31mAttributeError\u001b[0m: 'Symbol' object has no attribute 'T'"
     ]
    }
   ],
   "source": [
    "# generalized force\n",
    "tau = F.T"
   ]
  },
  {
   "cell_type": "code",
   "execution_count": null,
   "metadata": {},
   "outputs": [],
   "source": [
    "# generalized dampening\n",
    "GD = -b*theta_dot"
   ]
  },
  {
   "cell_type": "code",
   "execution_count": null,
   "metadata": {},
   "outputs": [],
   "source": [
    "# langrangian\n",
    "L = k + p"
   ]
  },
  {
   "cell_type": "code",
   "execution_count": null,
   "metadata": {},
   "outputs": [],
   "source": [
    "# euler lagrangian fcn\n",
    "def derive_lagrangian(L, q, q_dot):\n",
    "    term_1 = (sympy.tensor.derive_by_array(L, q_dot)).diff(t)\n",
    "    term_2 = sympy.tensor.derive_by_array(L,q)\n",
    "    return term_1 - term_2"
   ]
  },
  {
   "cell_type": "code",
   "execution_count": null,
   "metadata": {},
   "outputs": [],
   "source": [
    "derive_lagrangian(L, (z,theta), (z_dot,theta_dot))"
   ]
  },
  {
   "cell_type": "code",
   "execution_count": null,
   "metadata": {},
   "outputs": [],
   "source": [
    "Euler_lagrange = Eq(derive_lagrangian(L, (z,theta), (z_dot,theta_dot)), tau-"
   ]
  }
 ],
 "metadata": {
  "kernelspec": {
   "display_name": ".venv",
   "language": "python",
   "name": "python3"
  },
  "language_info": {
   "codemirror_mode": {
    "name": "ipython",
    "version": 3
   },
   "file_extension": ".py",
   "mimetype": "text/x-python",
   "name": "python",
   "nbconvert_exporter": "python",
   "pygments_lexer": "ipython3",
   "version": "3.12.5"
  }
 },
 "nbformat": 4,
 "nbformat_minor": 2
}
