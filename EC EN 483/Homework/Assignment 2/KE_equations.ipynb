{
 "cells": [
  {
   "cell_type": "code",
   "execution_count": 1,
   "metadata": {},
   "outputs": [],
   "source": [
    "import sympy\n",
    "import numpy as np\n",
    "from sympy import *"
   ]
  },
  {
   "cell_type": "code",
   "execution_count": 2,
   "metadata": {},
   "outputs": [],
   "source": [
    "sympy.init_printing()"
   ]
  },
  {
   "cell_type": "markdown",
   "metadata": {},
   "source": [
    "# D.2 Calculations"
   ]
  },
  {
   "cell_type": "code",
   "execution_count": 3,
   "metadata": {},
   "outputs": [],
   "source": [
    "\n",
    "z, z_dot, m, t = symbols(\"z, \\\\dot{z}, m, t\")"
   ]
  },
  {
   "cell_type": "code",
   "execution_count": 4,
   "metadata": {},
   "outputs": [],
   "source": [
    "p = Matrix([z, 0, 0])"
   ]
  },
  {
   "cell_type": "code",
   "execution_count": 5,
   "metadata": {},
   "outputs": [
    {
     "data": {
      "text/latex": [
       "$\\displaystyle \\left[\\begin{matrix}\\dot{z}\\\\0\\\\0\\end{matrix}\\right]$"
      ],
      "text/plain": [
       "⎡\\dot{z}⎤\n",
       "⎢       ⎥\n",
       "⎢   0   ⎥\n",
       "⎢       ⎥\n",
       "⎣   0   ⎦"
      ]
     },
     "execution_count": 5,
     "metadata": {},
     "output_type": "execute_result"
    }
   ],
   "source": [
    "v = p.diff(z)*z_dot\n",
    "v"
   ]
  },
  {
   "cell_type": "code",
   "execution_count": 6,
   "metadata": {},
   "outputs": [
    {
     "data": {
      "text/latex": [
       "$\\displaystyle \\left[\\begin{matrix}0.5 \\dot{z}^{2} m\\end{matrix}\\right]$"
      ],
      "text/plain": [
       "⎡           2  ⎤\n",
       "⎣0.5⋅\\dot{z} ⋅m⎦"
      ]
     },
     "execution_count": 6,
     "metadata": {},
     "output_type": "execute_result"
    }
   ],
   "source": [
    "K = (1/2)*m*(v.T @ v)\n",
    "K"
   ]
  },
  {
   "cell_type": "markdown",
   "metadata": {},
   "source": [
    "# E.2 Calculations"
   ]
  },
  {
   "cell_type": "code",
   "execution_count": 3,
   "metadata": {},
   "outputs": [],
   "source": [
    "# E.2 calculations\n",
    "m1, m2, el = symbols(\"m_1, m_2, \\\\ell\") "
   ]
  },
  {
   "cell_type": "code",
   "execution_count": 4,
   "metadata": {},
   "outputs": [],
   "source": [
    "t = symbols('t')\n",
    "z = symbols('z', cls=Function)\n",
    "z = z(t)\n",
    "theta = symbols('theta', cls=Function)\n",
    "theta = theta(t)\n"
   ]
  },
  {
   "cell_type": "code",
   "execution_count": 5,
   "metadata": {},
   "outputs": [],
   "source": [
    "z_dot = z.diff(t)\n",
    "theta_dot = theta.diff(t)"
   ]
  },
  {
   "cell_type": "code",
   "execution_count": 6,
   "metadata": {},
   "outputs": [
    {
     "data": {
      "text/latex": [
       "$\\displaystyle \\left[\\begin{matrix}z{\\left(t \\right)} \\cos{\\left(\\theta{\\left(t \\right)} \\right)}\\\\z{\\left(t \\right)} \\sin{\\left(\\theta{\\left(t \\right)} \\right)}\\\\0\\end{matrix}\\right]$"
      ],
      "text/plain": [
       "⎡z(t)⋅cos(θ(t))⎤\n",
       "⎢              ⎥\n",
       "⎢z(t)⋅sin(θ(t))⎥\n",
       "⎢              ⎥\n",
       "⎣      0       ⎦"
      ]
     },
     "execution_count": 6,
     "metadata": {},
     "output_type": "execute_result"
    }
   ],
   "source": [
    "# block stuff\n",
    "p1 = Matrix([z*cos(theta), z*sin(theta), 0])\n",
    "p1 "
   ]
  },
  {
   "cell_type": "code",
   "execution_count": 7,
   "metadata": {},
   "outputs": [
    {
     "data": {
      "text/latex": [
       "$\\displaystyle \\left[\\begin{matrix}- z{\\left(t \\right)} \\sin{\\left(\\theta{\\left(t \\right)} \\right)} \\frac{d}{d t} \\theta{\\left(t \\right)} + \\cos{\\left(\\theta{\\left(t \\right)} \\right)} \\frac{d}{d t} z{\\left(t \\right)}\\\\z{\\left(t \\right)} \\cos{\\left(\\theta{\\left(t \\right)} \\right)} \\frac{d}{d t} \\theta{\\left(t \\right)} + \\sin{\\left(\\theta{\\left(t \\right)} \\right)} \\frac{d}{d t} z{\\left(t \\right)}\\\\0\\end{matrix}\\right]$"
      ],
      "text/plain": [
       "⎡                 d                    d       ⎤\n",
       "⎢- z(t)⋅sin(θ(t))⋅──(θ(t)) + cos(θ(t))⋅──(z(t))⎥\n",
       "⎢                 dt                   dt      ⎥\n",
       "⎢                                              ⎥\n",
       "⎢                d                    d        ⎥\n",
       "⎢ z(t)⋅cos(θ(t))⋅──(θ(t)) + sin(θ(t))⋅──(z(t)) ⎥\n",
       "⎢                dt                   dt       ⎥\n",
       "⎢                                              ⎥\n",
       "⎣                      0                       ⎦"
      ]
     },
     "execution_count": 7,
     "metadata": {},
     "output_type": "execute_result"
    }
   ],
   "source": [
    "v1 = p1.diff(t)\n",
    "v1"
   ]
  },
  {
   "cell_type": "code",
   "execution_count": 8,
   "metadata": {},
   "outputs": [
    {
     "data": {
      "text/latex": [
       "$\\displaystyle \\left[\\begin{matrix}0.5 m_{1} \\left(z^{2}{\\left(t \\right)} \\left(\\frac{d}{d t} \\theta{\\left(t \\right)}\\right)^{2} + \\left(\\frac{d}{d t} z{\\left(t \\right)}\\right)^{2}\\right)\\end{matrix}\\right]$"
      ],
      "text/plain": [
       "⎡       ⎛                2             2⎞⎤\n",
       "⎢       ⎜ 2    ⎛d       ⎞    ⎛d       ⎞ ⎟⎥\n",
       "⎢0.5⋅m₁⋅⎜z (t)⋅⎜──(θ(t))⎟  + ⎜──(z(t))⎟ ⎟⎥\n",
       "⎣       ⎝      ⎝dt      ⎠    ⎝dt      ⎠ ⎠⎦"
      ]
     },
     "execution_count": 8,
     "metadata": {},
     "output_type": "execute_result"
    }
   ],
   "source": [
    "k1 = 1/2 * m1 * (v1.T @ v1)\n",
    "simplify(k1)"
   ]
  },
  {
   "cell_type": "code",
   "execution_count": 9,
   "metadata": {},
   "outputs": [],
   "source": [
    "# arm stuff\n",
    "p2 = Matrix([el/2*cos(theta), el/2*sin(theta), 0])\n"
   ]
  },
  {
   "cell_type": "code",
   "execution_count": 10,
   "metadata": {},
   "outputs": [
    {
     "data": {
      "text/latex": [
       "$\\displaystyle \\left[\\begin{matrix}- \\frac{\\ell \\sin{\\left(\\theta{\\left(t \\right)} \\right)} \\frac{d}{d t} \\theta{\\left(t \\right)}}{2}\\\\\\frac{\\ell \\cos{\\left(\\theta{\\left(t \\right)} \\right)} \\frac{d}{d t} \\theta{\\left(t \\right)}}{2}\\\\0\\end{matrix}\\right]$"
      ],
      "text/plain": [
       "⎡                d        ⎤\n",
       "⎢-\\ell⋅sin(θ(t))⋅──(θ(t)) ⎥\n",
       "⎢                dt       ⎥\n",
       "⎢─────────────────────────⎥\n",
       "⎢            2            ⎥\n",
       "⎢                         ⎥\n",
       "⎢                d        ⎥\n",
       "⎢ \\ell⋅cos(θ(t))⋅──(θ(t)) ⎥\n",
       "⎢                dt       ⎥\n",
       "⎢ ─────────────────────── ⎥\n",
       "⎢            2            ⎥\n",
       "⎢                         ⎥\n",
       "⎣            0            ⎦"
      ]
     },
     "execution_count": 10,
     "metadata": {},
     "output_type": "execute_result"
    }
   ],
   "source": [
    "# translational arm velocity\n",
    "v2t = p2.diff(theta)*theta_dot\n",
    "v2t"
   ]
  },
  {
   "cell_type": "code",
   "execution_count": 11,
   "metadata": {},
   "outputs": [
    {
     "data": {
      "text/latex": [
       "$\\displaystyle \\left[\\begin{matrix}0.125 \\ell^{2} m_{2} \\left(\\frac{d}{d t} \\theta{\\left(t \\right)}\\right)^{2}\\end{matrix}\\right]$"
      ],
      "text/plain": [
       "⎡                         2⎤\n",
       "⎢          2    ⎛d       ⎞ ⎥\n",
       "⎢0.125⋅\\ell ⋅m₂⋅⎜──(θ(t))⎟ ⎥\n",
       "⎣               ⎝dt      ⎠ ⎦"
      ]
     },
     "execution_count": 11,
     "metadata": {},
     "output_type": "execute_result"
    }
   ],
   "source": [
    "# translational kinetic\n",
    "k2t = 1/2 * m2 * (v2t.T @ v2t)\n",
    "simplify(k2t)"
   ]
  },
  {
   "cell_type": "code",
   "execution_count": 12,
   "metadata": {},
   "outputs": [
    {
     "data": {
      "text/latex": [
       "$\\displaystyle \\left[\\begin{matrix}0 & 0 & 0\\\\0 & \\frac{\\ell^{2} m_{2}}{12} & 0\\\\0 & 0 & \\frac{\\ell^{2} m_{2}}{12}\\end{matrix}\\right]$"
      ],
      "text/plain": [
       "⎡0     0         0    ⎤\n",
       "⎢                     ⎥\n",
       "⎢       2             ⎥\n",
       "⎢   \\ell ⋅m₂          ⎥\n",
       "⎢0  ────────     0    ⎥\n",
       "⎢      12             ⎥\n",
       "⎢                     ⎥\n",
       "⎢                 2   ⎥\n",
       "⎢             \\ell ⋅m₂⎥\n",
       "⎢0     0      ────────⎥\n",
       "⎣                12   ⎦"
      ]
     },
     "execution_count": 12,
     "metadata": {},
     "output_type": "execute_result"
    }
   ],
   "source": [
    "J = Matrix([[0, 0, 0], [0, m2*el**2/12, 0], [0, 0, m2*el**2/12]])\n",
    "J"
   ]
  },
  {
   "cell_type": "code",
   "execution_count": 13,
   "metadata": {},
   "outputs": [],
   "source": [
    "w = Matrix([0, 0, theta_dot])"
   ]
  },
  {
   "cell_type": "code",
   "execution_count": 14,
   "metadata": {},
   "outputs": [
    {
     "data": {
      "text/latex": [
       "$\\displaystyle \\left[\\begin{matrix}0.0416666666666667 \\ell^{2} m_{2} \\left(\\frac{d}{d t} \\theta{\\left(t \\right)}\\right)^{2}\\end{matrix}\\right]$"
      ],
      "text/plain": [
       "⎡                                      2⎤\n",
       "⎢                       2    ⎛d       ⎞ ⎥\n",
       "⎢0.0416666666666667⋅\\ell ⋅m₂⋅⎜──(θ(t))⎟ ⎥\n",
       "⎣                            ⎝dt      ⎠ ⎦"
      ]
     },
     "execution_count": 14,
     "metadata": {},
     "output_type": "execute_result"
    }
   ],
   "source": [
    "k2r = 1/2*(w.T @ J @ w)\n",
    "simplify(k2r)"
   ]
  },
  {
   "cell_type": "code",
   "execution_count": 15,
   "metadata": {},
   "outputs": [
    {
     "data": {
      "text/latex": [
       "$\\displaystyle \\left[\\begin{matrix}0.166666666666667 \\ell^{2} m_{2} \\left(\\frac{d}{d t} \\theta{\\left(t \\right)}\\right)^{2} + 0.5 m_{1} \\left(z^{2}{\\left(t \\right)} \\left(\\frac{d}{d t} \\theta{\\left(t \\right)}\\right)^{2} + \\left(\\frac{d}{d t} z{\\left(t \\right)}\\right)^{2}\\right)\\end{matrix}\\right]$"
      ],
      "text/plain": [
       "⎡                                     2          ⎛                2            ↪\n",
       "⎢                      2    ⎛d       ⎞           ⎜ 2    ⎛d       ⎞    ⎛d       ↪\n",
       "⎢0.166666666666667⋅\\ell ⋅m₂⋅⎜──(θ(t))⎟  + 0.5⋅m₁⋅⎜z (t)⋅⎜──(θ(t))⎟  + ⎜──(z(t) ↪\n",
       "⎣                           ⎝dt      ⎠           ⎝      ⎝dt      ⎠    ⎝dt      ↪\n",
       "\n",
       "↪   2⎞⎤\n",
       "↪  ⎞ ⎟⎥\n",
       "↪ )⎟ ⎟⎥\n",
       "↪  ⎠ ⎠⎦"
      ]
     },
     "execution_count": 15,
     "metadata": {},
     "output_type": "execute_result"
    }
   ],
   "source": [
    "# total kinetic energy\n",
    "kt = k2r + k2t + k1\n",
    "simplify(kt)"
   ]
  },
  {
   "cell_type": "markdown",
   "metadata": {},
   "source": [
    "# F.2 Calculations"
   ]
  },
  {
   "cell_type": "code",
   "execution_count": 3,
   "metadata": {},
   "outputs": [],
   "source": [
    "\n",
    "t = symbols('t')\n",
    "z = symbols('z', cls=Function)\n",
    "z = z(t)\n",
    "theta = symbols('\\\\theta', cls=Function)\n",
    "theta = theta(t)\n",
    "h = symbols('h', cls=Function)\n",
    "h = h(t)"
   ]
  },
  {
   "cell_type": "code",
   "execution_count": 4,
   "metadata": {},
   "outputs": [],
   "source": [
    "z_dot = z.diff(t)\n",
    "theta_dot = theta.diff(t)"
   ]
  },
  {
   "cell_type": "code",
   "execution_count": 5,
   "metadata": {},
   "outputs": [],
   "source": [
    "m, mc, d, Jc = symbols('m, m_c, d, J_c')"
   ]
  },
  {
   "cell_type": "code",
   "execution_count": 6,
   "metadata": {},
   "outputs": [],
   "source": [
    "# position matrices...\n",
    "pl = Matrix([z - d*cos(theta), h - d*sin(theta), 0])\n",
    "pc = Matrix([z, h, 0])\n",
    "pr = Matrix([z + d*cos(theta), h + d*sin(theta), 0])"
   ]
  },
  {
   "cell_type": "code",
   "execution_count": 7,
   "metadata": {},
   "outputs": [
    {
     "data": {
      "text/latex": [
       "$\\displaystyle \\left[\\begin{matrix}d \\sin{\\left(\\theta{\\left(t \\right)} \\right)} \\frac{d}{d t} \\theta{\\left(t \\right)} + \\frac{d}{d t} z{\\left(t \\right)}\\\\- d \\cos{\\left(\\theta{\\left(t \\right)} \\right)} \\frac{d}{d t} \\theta{\\left(t \\right)} + \\frac{d}{d t} h{\\left(t \\right)}\\\\0\\end{matrix}\\right]$"
      ],
      "text/plain": [
       "⎡                  d               d        ⎤\n",
       "⎢ d⋅sin(\\theta(t))⋅──(\\theta(t)) + ──(z(t)) ⎥\n",
       "⎢                  dt              dt       ⎥\n",
       "⎢                                           ⎥\n",
       "⎢                   d               d       ⎥\n",
       "⎢- d⋅cos(\\theta(t))⋅──(\\theta(t)) + ──(h(t))⎥\n",
       "⎢                   dt              dt      ⎥\n",
       "⎢                                           ⎥\n",
       "⎣                     0                     ⎦"
      ]
     },
     "execution_count": 7,
     "metadata": {},
     "output_type": "execute_result"
    }
   ],
   "source": [
    "# translational velocity matrices\n",
    "vlt = pl.diff(t)\n",
    "vct = pc.diff(t)\n",
    "vrt = pr.diff(t)\n",
    "vlt"
   ]
  },
  {
   "cell_type": "code",
   "execution_count": 8,
   "metadata": {},
   "outputs": [],
   "source": [
    "# translational kinectic energies\n",
    "kt = 1/2*m*(vlt.T @ vlt) + 1/2*mc*(vct.T @ vct) + 1/2*m*(vrt.T @ vrt)"
   ]
  },
  {
   "cell_type": "code",
   "execution_count": 12,
   "metadata": {},
   "outputs": [
    {
     "data": {
      "text/latex": [
       "$\\displaystyle \\left[\\begin{matrix}0.5 J_{c} \\left(\\frac{d}{d t} \\theta{\\left(t \\right)}\\right)^{2}\\end{matrix}\\right]$"
      ],
      "text/plain": [
       "⎡                       2⎤\n",
       "⎢        ⎛d            ⎞ ⎥\n",
       "⎢0.5⋅J_c⋅⎜──(\\theta(t))⎟ ⎥\n",
       "⎣        ⎝dt           ⎠ ⎦"
      ]
     },
     "execution_count": 12,
     "metadata": {},
     "output_type": "execute_result"
    }
   ],
   "source": [
    "# rotational stuff\n",
    "w = Matrix([0, 0, theta_dot])\n",
    "\n",
    "J = Matrix([[0, 0, 0], [0, 0, 0], [0, 0, Jc]])\n",
    "\n",
    "kr = 1/2 * (w.T @ J @ w)\n",
    "kr"
   ]
  },
  {
   "cell_type": "code",
   "execution_count": 13,
   "metadata": {},
   "outputs": [
    {
     "data": {
      "text/latex": [
       "$\\displaystyle \\left[\\begin{matrix}0.5 J_{c} \\left(\\frac{d}{d t} \\theta{\\left(t \\right)}\\right)^{2} + 1.0 d^{2} m \\left(\\frac{d}{d t} \\theta{\\left(t \\right)}\\right)^{2} + 1.0 m \\left(\\frac{d}{d t} h{\\left(t \\right)}\\right)^{2} + 1.0 m \\left(\\frac{d}{d t} z{\\left(t \\right)}\\right)^{2} + 0.5 m_{c} \\left(\\frac{d}{d t} h{\\left(t \\right)}\\right)^{2} + 0.5 m_{c} \\left(\\frac{d}{d t} z{\\left(t \\right)}\\right)^{2}\\end{matrix}\\right]$"
      ],
      "text/plain": [
       "⎡                       2                           2                   2      ↪\n",
       "⎢        ⎛d            ⎞         2   ⎛d            ⎞          ⎛d       ⎞       ↪\n",
       "⎢0.5⋅J_c⋅⎜──(\\theta(t))⎟  + 1.0⋅d ⋅m⋅⎜──(\\theta(t))⎟  + 1.0⋅m⋅⎜──(h(t))⎟  + 1. ↪\n",
       "⎣        ⎝dt           ⎠             ⎝dt           ⎠          ⎝dt      ⎠       ↪\n",
       "\n",
       "↪               2                     2                     2⎤\n",
       "↪     ⎛d       ⎞            ⎛d       ⎞            ⎛d       ⎞ ⎥\n",
       "↪ 0⋅m⋅⎜──(z(t))⎟  + 0.5⋅m_c⋅⎜──(h(t))⎟  + 0.5⋅m_c⋅⎜──(z(t))⎟ ⎥\n",
       "↪     ⎝dt      ⎠            ⎝dt      ⎠            ⎝dt      ⎠ ⎦"
      ]
     },
     "execution_count": 13,
     "metadata": {},
     "output_type": "execute_result"
    }
   ],
   "source": [
    "# total kinetic energy\n",
    "\n",
    "K_total = kt + kr\n",
    "\n",
    "simplify(K_total)"
   ]
  }
 ],
 "metadata": {
  "kernelspec": {
   "display_name": ".venv",
   "language": "python",
   "name": "python3"
  },
  "language_info": {
   "codemirror_mode": {
    "name": "ipython",
    "version": 3
   },
   "file_extension": ".py",
   "mimetype": "text/x-python",
   "name": "python",
   "nbconvert_exporter": "python",
   "pygments_lexer": "ipython3",
   "version": "3.12.5"
  }
 },
 "nbformat": 4,
 "nbformat_minor": 2
}
