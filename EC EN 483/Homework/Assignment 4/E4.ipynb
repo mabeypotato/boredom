{
 "cells": [
  {
   "cell_type": "markdown",
   "metadata": {},
   "source": [
    "# E.4 Calculations"
   ]
  },
  {
   "cell_type": "code",
   "execution_count": 25,
   "metadata": {},
   "outputs": [],
   "source": [
    "import sympy\n",
    "from sympy import *\n",
    "from sympy.physics.vector.printing import vlatex\n",
    "from IPython.display import Math, display\n",
    "\n",
    "init_printing()\n",
    "\n",
    "def dotprint(expr):\n",
    "    display(Math(vlatex(expr)))"
   ]
  },
  {
   "cell_type": "markdown",
   "metadata": {},
   "source": [
    "### Define Symbols and Configuration Variables"
   ]
  },
  {
   "cell_type": "code",
   "execution_count": 26,
   "metadata": {},
   "outputs": [],
   "source": [
    "# Time symbol\n",
    "t = symbols('t')"
   ]
  },
  {
   "cell_type": "code",
   "execution_count": 27,
   "metadata": {},
   "outputs": [],
   "source": [
    "# Generalized coordinates\n",
    "\n",
    "# TODO: Change this!\n",
    "z = symbols('z', cls=Function)\n",
    "z = z(t)\n",
    "theta = symbols('\\\\theta', cls=Function)\n",
    "theta = theta(t)"
   ]
  },
  {
   "cell_type": "code",
   "execution_count": 28,
   "metadata": {},
   "outputs": [],
   "source": [
    "# Derivatives of Generalized Coordinates\n",
    "\n",
    "# TODO: Change this!\n",
    "z_dot = z.diff(t)\n",
    "z_ddot = z_dot.diff(t)\n",
    "theta_dot = theta.diff(t)\n",
    "theta_ddot = theta_dot.diff(t)"
   ]
  },
  {
   "cell_type": "code",
   "execution_count": 29,
   "metadata": {},
   "outputs": [],
   "source": [
    "# Other symbols (mass, forces, damping coefficients, torques...)\n",
    "\n",
    "# TODO: Change this!\n",
    "m1, m2, F, el, g, ze, j = symbols('m_1, m_2, F, \\\\ell, g, z_e, j')"
   ]
  },
  {
   "cell_type": "markdown",
   "metadata": {},
   "source": [
    "### Kinetic Energy\n",
    "\n",
    "#### Translational Kinetic Energy"
   ]
  },
  {
   "cell_type": "code",
   "execution_count": 30,
   "metadata": {},
   "outputs": [
    {
     "data": {
      "text/latex": [
       "$\\displaystyle 0.166666666666667 \\ell^{2} m_{2} \\dot{\\theta}^{2} + 0.5 m_{1} z^{2} \\dot{\\theta}^{2} + 0.5 m_{1} \\dot{z}^{2}$"
      ],
      "text/plain": [
       "<IPython.core.display.Math object>"
      ]
     },
     "metadata": {},
     "output_type": "display_data"
    }
   ],
   "source": [
    "# TODO: Change this!\n",
    "K_T = 1/6*el**2*m2*theta_dot**2 + 1/2*m1*z**2*theta_dot**2 + 1/2*m1*z_dot**2\n",
    "\n",
    "dotprint(K_T)"
   ]
  },
  {
   "cell_type": "markdown",
   "metadata": {},
   "source": [
    "#### Rotational Kinetic Energy (ignore)"
   ]
  },
  {
   "cell_type": "code",
   "execution_count": 31,
   "metadata": {},
   "outputs": [
    {
     "data": {
      "text/latex": [
       "$\\displaystyle 0$"
      ],
      "text/plain": [
       "<IPython.core.display.Math object>"
      ]
     },
     "metadata": {},
     "output_type": "display_data"
    }
   ],
   "source": [
    "# TODO: Change this!\n",
    "K_R = 0\n",
    "\n",
    "dotprint(K_R)"
   ]
  },
  {
   "cell_type": "markdown",
   "metadata": {},
   "source": [
    "#### Total Kinetic Energy"
   ]
  },
  {
   "cell_type": "code",
   "execution_count": 32,
   "metadata": {},
   "outputs": [
    {
     "data": {
      "text/latex": [
       "$\\displaystyle 0.166666666666667 \\ell^{2} m_{2} \\dot{\\theta}^{2} + 0.5 m_{1} z^{2} \\dot{\\theta}^{2} + 0.5 m_{1} \\dot{z}^{2}$"
      ],
      "text/plain": [
       "<IPython.core.display.Math object>"
      ]
     },
     "metadata": {},
     "output_type": "display_data"
    }
   ],
   "source": [
    "K = K_T #+ K_R\n",
    "\n",
    "dotprint(K)"
   ]
  },
  {
   "cell_type": "markdown",
   "metadata": {},
   "source": [
    "### Potential Energy"
   ]
  },
  {
   "cell_type": "code",
   "execution_count": 33,
   "metadata": {},
   "outputs": [
    {
     "data": {
      "text/latex": [
       "$\\displaystyle \\ell g m_{2} \\sin{\\left(\\theta \\right)} + g m_{1} z \\sin{\\left(\\theta \\right)}$"
      ],
      "text/plain": [
       "<IPython.core.display.Math object>"
      ]
     },
     "metadata": {},
     "output_type": "display_data"
    }
   ],
   "source": [
    "# TODO: Change this!\n",
    "P = m1*g*z*sin(theta) + m2*g*el*sin(theta)\n",
    "\n",
    "dotprint(P)"
   ]
  },
  {
   "cell_type": "markdown",
   "metadata": {},
   "source": [
    "### Define the Lagrangian\n",
    "\n",
    "For this class, the Lagrangian will in general be a scalar value equal to the difference between kinetic and potential energy."
   ]
  },
  {
   "cell_type": "code",
   "execution_count": 34,
   "metadata": {},
   "outputs": [
    {
     "data": {
      "text/latex": [
       "$\\displaystyle 0.166666666666667 \\ell^{2} m_{2} \\dot{\\theta}^{2} - \\ell g m_{2} \\sin{\\left(\\theta \\right)} - g m_{1} z \\sin{\\left(\\theta \\right)} + 0.5 m_{1} z^{2} \\dot{\\theta}^{2} + 0.5 m_{1} \\dot{z}^{2}$"
      ],
      "text/plain": [
       "<IPython.core.display.Math object>"
      ]
     },
     "metadata": {},
     "output_type": "display_data"
    }
   ],
   "source": [
    "L = K - P\n",
    "\n",
    "dotprint(L)"
   ]
  },
  {
   "cell_type": "markdown",
   "metadata": {},
   "source": [
    "### Define the Forces\n",
    "\n",
    "#### Generalized Forces\n",
    "\n",
    "The forces will form a vector with the same length as the number of configuration variables. \n",
    "\n",
    "The first entry corresponds to the first configuration variable, the second entry to the second, etc.\n",
    "\n",
    "Each entry should contain the generalized forces acting on the corresponding configuration variable."
   ]
  },
  {
   "cell_type": "code",
   "execution_count": 35,
   "metadata": {},
   "outputs": [
    {
     "data": {
      "text/latex": [
       "$\\displaystyle \\left[\\begin{matrix}0\\\\F \\ell \\cos{\\left(\\theta \\right)}\\end{matrix}\\right]$"
      ],
      "text/plain": [
       "<IPython.core.display.Math object>"
      ]
     },
     "metadata": {},
     "output_type": "display_data"
    }
   ],
   "source": [
    "# TODO: Change this!\n",
    "tau = Matrix([0, F*el*cos(theta)])\n",
    "\n",
    "dotprint(tau)"
   ]
  },
  {
   "cell_type": "markdown",
   "metadata": {},
   "source": [
    "#### Non-conservative Forces (e.g. Damping)\n",
    "\n",
    "Similar to the generalized forces, this will be a vector with the same length as the number of configuration variables.\n",
    "\n",
    "Each entry should contain the nonconservative forces acting on the corresponding configuration variable."
   ]
  },
  {
   "cell_type": "code",
   "execution_count": 36,
   "metadata": {},
   "outputs": [
    {
     "data": {
      "text/latex": [
       "$\\displaystyle \\left[\\begin{matrix}0\\\\0\\end{matrix}\\right]$"
      ],
      "text/plain": [
       "<IPython.core.display.Math object>"
      ]
     },
     "metadata": {},
     "output_type": "display_data"
    }
   ],
   "source": [
    "# TODO: Change this!\n",
    "B = Matrix([0, 0])\n",
    "q_dot = Matrix([0])\n",
    "\n",
    "Bqdot = B @ q_dot\n",
    "\n",
    "dotprint(Bqdot)"
   ]
  },
  {
   "cell_type": "code",
   "execution_count": 37,
   "metadata": {},
   "outputs": [
    {
     "data": {
      "text/latex": [
       "$\\displaystyle \\left[\\begin{matrix}0\\\\F \\ell \\cos{\\left(\\theta \\right)}\\end{matrix}\\right]$"
      ],
      "text/plain": [
       "<IPython.core.display.Math object>"
      ]
     },
     "metadata": {},
     "output_type": "display_data"
    }
   ],
   "source": [
    "F_total = tau + Bqdot\n",
    "\n",
    "dotprint(F_total)"
   ]
  },
  {
   "cell_type": "markdown",
   "metadata": {},
   "source": [
    "### Compute the Lagrangian Derivatives / Partial Derivatives\n",
    "\n",
    "The following function computes these two terms:\n",
    "\n",
    "* $\\frac{d}{dt} \\left(\\frac{\\partial L(q, \\dot{q})}{\\partial \\dot{q}} \\right)$\n",
    "* $\\frac{\\partial L(q,\\dot{q})}{\\partial q}$\n",
    "\n",
    "Things to note:\n",
    "\n",
    "* `q` and `q_dot` should be Python tuples containing your configuration variables (e.g. `(x, theta)`)\n",
    "* The function returns a Python list. You probably want to wrap the output in a Sympy `Matrix()`. For example,\n",
    "\n",
    "```python\n",
    "out = derive_Lagrangian(...)\n",
    "out = Matrix(out)\n",
    "```"
   ]
  },
  {
   "cell_type": "code",
   "execution_count": 38,
   "metadata": {},
   "outputs": [],
   "source": [
    "def derive_Lagrangian(L, z, theta, z_dot, theta_dot):\n",
    "    term_1 = (sympy.tensor.derive_by_array(L, z_dot)).diff(t)\n",
    "    term_2 = sympy.tensor.derive_by_array(L, z)\n",
    "    term_3 = (sympy.tensor.derive_by_array(L, theta_dot)).diff(t)\n",
    "    term_4 = sympy.tensor.derive_by_array(L, theta)\n",
    "    ans = Matrix([term_1 - term_2, term_3 - term_4])\n",
    "    return ans"
   ]
  },
  {
   "cell_type": "markdown",
   "metadata": {},
   "source": [
    "### Get the final Euler Lagrange Equations of Motion\n",
    "\n",
    "Remember that the Euler Lagrange Equations used in class are:\n",
    "\n",
    "$$\n",
    "\\underbrace{\\frac{d}{dt} \\left(\\frac{\\partial L(q, \\dot{q})}{\\partial \\dot{q}} \\right) - \\frac{\\partial L(q,\\dot{q})}{\\partial q}}_\\text{Left Hand Side (LHS)} = \\underbrace{\\tau - B \\dot{q}}_\\text{Right Hand Side (RHS)}.\n",
    "$$\n",
    "\n",
    "In Sympy, we use the `Eq(LHS, RHS)` class to get a symbolic equation $\\text{LHS} = \\text{RHS}$.\n",
    "\n",
    "Both the left and right expressions should be Sympy vectors (i.e. Matrices with 1 column). \n",
    "\n",
    "The length of the left and right vectors must both be equal to the number of configuration variables."
   ]
  },
  {
   "cell_type": "code",
   "execution_count": 39,
   "metadata": {},
   "outputs": [
    {
     "data": {
      "text/latex": [
       "$\\displaystyle \\left[\\begin{matrix}0\\\\F \\ell \\cos{\\left(\\theta \\right)}\\end{matrix}\\right] = \\left[\\begin{matrix}1.0 m_{1} \\left(g \\sin{\\left(\\theta \\right)} - z \\dot{\\theta}^{2} + \\ddot{z}\\right)\\\\0.333333333333333 \\ell^{2} m_{2} \\ddot{\\theta} + \\ell g m_{2} \\cos{\\left(\\theta \\right)} + g m_{1} z \\cos{\\left(\\theta \\right)} + 1.0 m_{1} z^{2} \\ddot{\\theta} + 2.0 m_{1} z \\dot{\\theta} \\dot{z}\\end{matrix}\\right]$"
      ],
      "text/plain": [
       "<IPython.core.display.Math object>"
      ]
     },
     "metadata": {},
     "output_type": "display_data"
    }
   ],
   "source": [
    "# TODO: Change this!\n",
    "LHS = derive_Lagrangian(L, z, theta, z_dot, theta_dot)\n",
    "RHS = F_total\n",
    "\n",
    "Euler_Lagrange = Eq(LHS, RHS)\n",
    "\n",
    "dotprint(simplify(Euler_Lagrange))"
   ]
  },
  {
   "cell_type": "markdown",
   "metadata": {},
   "source": [
    "# Linearizing stuff..."
   ]
  },
  {
   "cell_type": "code",
   "execution_count": 40,
   "metadata": {},
   "outputs": [
    {
     "data": {
      "text/latex": [
       "$\\displaystyle \\left\\{ \\ddot{\\theta} : \\frac{3.0 \\left(F \\ell \\cos{\\left(\\theta \\right)} - \\ell g m_{2} \\cos{\\left(\\theta \\right)} - g m_{1} z \\cos{\\left(\\theta \\right)} - 2.0 m_{1} z \\dot{\\theta} \\dot{z}\\right)}{\\ell^{2} m_{2} + 3.0 m_{1} z^{2}}, \\  \\ddot{z} : - g \\sin{\\left(\\theta \\right)} + z \\dot{\\theta}^{2}\\right\\}$"
      ],
      "text/plain": [
       "<IPython.core.display.Math object>"
      ]
     },
     "metadata": {},
     "output_type": "display_data"
    }
   ],
   "source": [
    "solve_dict = solve(Euler_Lagrange, (z_ddot, theta_ddot), simplify = True, dict = True)[0]\n",
    "dotprint(solve_dict)"
   ]
  },
  {
   "cell_type": "code",
   "execution_count": 41,
   "metadata": {},
   "outputs": [],
   "source": [
    "state = Matrix([z, theta, z_dot, theta_dot])"
   ]
  },
  {
   "cell_type": "code",
   "execution_count": 42,
   "metadata": {},
   "outputs": [
    {
     "data": {
      "text/latex": [
       "$\\displaystyle \\left[\\begin{matrix}\\dot{z}\\\\\\dot{\\theta}\\\\- g \\sin{\\left(\\theta \\right)} + z \\dot{\\theta}^{2}\\\\\\frac{3.0 \\left(F \\ell \\cos{\\left(\\theta \\right)} - \\ell g m_{2} \\cos{\\left(\\theta \\right)} - g m_{1} z \\cos{\\left(\\theta \\right)} - 2.0 m_{1} z \\dot{\\theta} \\dot{z}\\right)}{\\ell^{2} m_{2} + 3.0 m_{1} z^{2}}\\end{matrix}\\right]$"
      ],
      "text/plain": [
       "<IPython.core.display.Math object>"
      ]
     },
     "metadata": {},
     "output_type": "display_data"
    }
   ],
   "source": [
    "z_ddot_expr = solve_dict[z_ddot]\n",
    "theta_ddot_expr = solve_dict[theta_ddot]\n",
    "state_derive = Matrix([z_dot, theta_dot, z_ddot_expr, theta_ddot_expr])\n",
    "dotprint(state_derive)"
   ]
  },
  {
   "cell_type": "code",
   "execution_count": 43,
   "metadata": {},
   "outputs": [
    {
     "data": {
      "text/latex": [
       "$\\displaystyle \\left[\\begin{matrix}0 & 0 & 1 & 0\\\\0 & 0 & 0 & 1\\\\\\dot{\\theta}^{2} & - g \\cos{\\left(\\theta \\right)} & 0 & 2 z \\dot{\\theta}\\\\- \\frac{2.0 m_{1} \\left(F \\ell \\cos{\\left(\\theta \\right)} - \\ell g m_{2} \\cos{\\left(\\theta \\right)} - g m_{1} z \\cos{\\left(\\theta \\right)} - 2.0 m_{1} z \\dot{\\theta} \\dot{z}\\right) z}{\\left(0.333333333333333 \\ell^{2} m_{2} + m_{1} z^{2}\\right)^{2}} + \\frac{3.0 \\left(- g m_{1} \\cos{\\left(\\theta \\right)} - 2.0 m_{1} \\dot{\\theta} \\dot{z}\\right)}{\\ell^{2} m_{2} + 3.0 m_{1} z^{2}} & \\frac{3.0 \\left(- F \\ell \\sin{\\left(\\theta \\right)} + \\ell g m_{2} \\sin{\\left(\\theta \\right)} + g m_{1} z \\sin{\\left(\\theta \\right)}\\right)}{\\ell^{2} m_{2} + 3.0 m_{1} z^{2}} & - \\frac{6.0 m_{1} z \\dot{\\theta}}{\\ell^{2} m_{2} + 3.0 m_{1} z^{2}} & - \\frac{6.0 m_{1} z \\dot{z}}{\\ell^{2} m_{2} + 3.0 m_{1} z^{2}}\\end{matrix}\\right]$"
      ],
      "text/plain": [
       "<IPython.core.display.Math object>"
      ]
     },
     "metadata": {},
     "output_type": "display_data"
    }
   ],
   "source": [
    "A = state_derive.jacobian(state)\n",
    "dotprint(A)"
   ]
  },
  {
   "cell_type": "code",
   "execution_count": 44,
   "metadata": {},
   "outputs": [],
   "source": [
    "inputs = Matrix([[F]])"
   ]
  },
  {
   "cell_type": "code",
   "execution_count": 45,
   "metadata": {},
   "outputs": [
    {
     "data": {
      "text/latex": [
       "$\\displaystyle \\left[\\begin{matrix}0\\\\0\\\\0\\\\\\frac{3.0 \\ell \\cos{\\left(\\theta \\right)}}{\\ell^{2} m_{2} + 3.0 m_{1} z^{2}}\\end{matrix}\\right]$"
      ],
      "text/plain": [
       "<IPython.core.display.Math object>"
      ]
     },
     "metadata": {},
     "output_type": "display_data"
    }
   ],
   "source": [
    "B = state_derive.jacobian(inputs)\n",
    "dotprint(B)"
   ]
  },
  {
   "cell_type": "code",
   "execution_count": 46,
   "metadata": {},
   "outputs": [],
   "source": [
    "subs_dict = {\n",
    "    z: state[0],\n",
    "    theta: state[1],\n",
    "    z_dot: state[2],\n",
    "    theta_dot: state[3]\n",
    "}"
   ]
  },
  {
   "cell_type": "code",
   "execution_count": 47,
   "metadata": {},
   "outputs": [
    {
     "data": {
      "text/latex": [
       "$\\displaystyle \\left[\\begin{matrix}\\dot{z}\\\\\\dot{\\theta}\\\\- g \\sin{\\left(\\theta \\right)} + z \\dot{\\theta}^{2}\\\\\\frac{3.0 \\left(F \\ell \\cos{\\left(\\theta \\right)} - \\ell g m_{2} \\cos{\\left(\\theta \\right)} - g m_{1} z \\cos{\\left(\\theta \\right)} - 2.0 m_{1} z \\dot{\\theta} \\dot{z}\\right)}{\\ell^{2} m_{2} + 3.0 m_{1} z^{2}}\\end{matrix}\\right]$"
      ],
      "text/plain": [
       "<IPython.core.display.Math object>"
      ]
     },
     "metadata": {},
     "output_type": "display_data"
    }
   ],
   "source": [
    "f_expr = state_derive.subs(subs_dict)\n",
    "dotprint(f_expr)"
   ]
  },
  {
   "cell_type": "markdown",
   "metadata": {},
   "source": [
    "this is for substitutions into the A matrix"
   ]
  },
  {
   "cell_type": "code",
   "execution_count": 48,
   "metadata": {},
   "outputs": [
    {
     "data": {
      "text/latex": [
       "$\\displaystyle \\left\\{ \\theta : 0.0, \\  z : \\frac{\\ell \\left(F - g m_{2}\\right)}{g m_{1}}, \\  \\dot{\\theta} : 0.0, \\  \\dot{z} : 0.0\\right\\}$"
      ],
      "text/plain": [
       "<IPython.core.display.Math object>"
      ]
     },
     "metadata": {},
     "output_type": "display_data"
    }
   ],
   "source": [
    "equilib_eq = Eq(f_expr, Matrix([0,0,0,0]))\n",
    "\n",
    "eq_solve_dict = solve(equilib_eq, (state[0], state[1], state[2], state[3], tau), simplify=True, dict=True)[0]\n",
    "dotprint(eq_solve_dict)"
   ]
  },
  {
   "cell_type": "code",
   "execution_count": 49,
   "metadata": {},
   "outputs": [
    {
     "data": {
      "text/latex": [
       "$\\displaystyle \\left[\\begin{matrix}0 & 0 & 1 & 0\\\\0 & 0 & 0 & 1\\\\0 & - g & 0 & 0\\\\- \\frac{3.0 g m_{1}}{\\ell^{2} m_{2} + 3.0 m_{1} z_{e}^{2}} - \\frac{2.0 m_{1} z_{e} \\left(- \\ell g m_{2} + \\ell \\left(g m_{2} + \\frac{g m_{1} z_{e}}{\\ell}\\right) - g m_{1} z_{e}\\right)}{\\left(0.333333333333333 \\ell^{2} m_{2} + m_{1} z_{e}^{2}\\right)^{2}} & 0 & 0 & 0\\end{matrix}\\right]$"
      ],
      "text/plain": [
       "⎡                                        0                                     ↪\n",
       "⎢                                                                              ↪\n",
       "⎢                                        0                                     ↪\n",
       "⎢                                                                              ↪\n",
       "⎢                                        0                                     ↪\n",
       "⎢                                                                              ↪\n",
       "⎢                                    ⎛                  ⎛       g⋅m₁⋅zₑ⎞       ↪\n",
       "⎢                          2.0⋅m₁⋅zₑ⋅⎜-\\ell⋅g⋅m₂ + \\ell⋅⎜g⋅m₂ + ───────⎟ - g⋅m ↪\n",
       "⎢        3.0⋅g⋅m₁                    ⎝                  ⎝        \\ell  ⎠       ↪\n",
       "⎢- ───────────────────── - ─────────────────────────────────────────────────── ↪\n",
       "⎢      2               2                                                 2     ↪\n",
       "⎢  \\ell ⋅m₂ + 3.0⋅m₁⋅zₑ             ⎛                      2           2⎞      ↪\n",
       "⎣                                   ⎝0.333333333333333⋅\\ell ⋅m₂ + m₁⋅zₑ ⎠      ↪\n",
       "\n",
       "↪        0   1  0⎤\n",
       "↪                ⎥\n",
       "↪        0   0  1⎥\n",
       "↪                ⎥\n",
       "↪        -g  0  0⎥\n",
       "↪                ⎥\n",
       "↪     ⎞          ⎥\n",
       "↪ ₁⋅zₑ⎟          ⎥\n",
       "↪     ⎠          ⎥\n",
       "↪ ─────  0   0  0⎥\n",
       "↪                ⎥\n",
       "↪                ⎥\n",
       "↪                ⎦"
      ]
     },
     "execution_count": 49,
     "metadata": {},
     "output_type": "execute_result"
    }
   ],
   "source": [
    "\n",
    "A_lin = A.subs({z: ze, theta: 0, z_dot: 0, theta_dot: 0, F: (g*m1*ze)/el + g*m2})\n",
    "A_lin"
   ]
  },
  {
   "cell_type": "code",
   "execution_count": 50,
   "metadata": {},
   "outputs": [
    {
     "data": {
      "text/latex": [
       "$\\displaystyle \\left[\\begin{matrix}0\\\\0\\\\0\\\\\\frac{3.0 \\ell}{\\ell^{2} m_{2} + 3.0 m_{1} z_{e}^{2}}\\end{matrix}\\right]$"
      ],
      "text/plain": [
       "⎡          0          ⎤\n",
       "⎢                     ⎥\n",
       "⎢          0          ⎥\n",
       "⎢                     ⎥\n",
       "⎢          0          ⎥\n",
       "⎢                     ⎥\n",
       "⎢      3.0⋅\\ell       ⎥\n",
       "⎢─────────────────────⎥\n",
       "⎢    2               2⎥\n",
       "⎣\\ell ⋅m₂ + 3.0⋅m₁⋅zₑ ⎦"
      ]
     },
     "execution_count": 50,
     "metadata": {},
     "output_type": "execute_result"
    }
   ],
   "source": [
    "\n",
    "B_lin = B.subs({z: ze, theta: 0, z_dot: 0, theta_dot: 0, F: (g*m1*ze)/el + g*m2})\n",
    "B_lin"
   ]
  }
 ],
 "metadata": {
  "kernelspec": {
   "display_name": ".venv",
   "language": "python",
   "name": "python3"
  },
  "language_info": {
   "codemirror_mode": {
    "name": "ipython",
    "version": 3
   },
   "file_extension": ".py",
   "mimetype": "text/x-python",
   "name": "python",
   "nbconvert_exporter": "python",
   "pygments_lexer": "ipython3",
   "version": "3.12.5"
  }
 },
 "nbformat": 4,
 "nbformat_minor": 2
}
