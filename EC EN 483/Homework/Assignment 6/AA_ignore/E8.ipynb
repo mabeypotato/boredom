{
 "cells": [
  {
   "cell_type": "code",
   "execution_count": 1,
   "metadata": {},
   "outputs": [],
   "source": [
    "import sympy\n",
    "from sympy import *\n",
    "from sympy.physics.vector.printing import vlatex\n",
    "from IPython.display import Math, display\n",
    "\n",
    "init_printing()\n",
    "\n",
    "def dotprint(expr):\n",
    "    display(Math(vlatex(expr)))"
   ]
  },
  {
   "cell_type": "code",
   "execution_count": 2,
   "metadata": {},
   "outputs": [],
   "source": [
    "A, kp_t, A_t, s_t, kd_t, m2, el, m1, ze, theta, theta_r = symbols('A, k_p_\\\\theta, A_\\\\theta, s_\\\\theta, k_D_\\\\theta, m_2, ell, m_1, z_e, \\\\theta, \\\\theta_r')"
   ]
  },
  {
   "cell_type": "markdown",
   "metadata": {},
   "source": [
    "# inner loop"
   ]
  },
  {
   "cell_type": "code",
   "execution_count": 3,
   "metadata": {},
   "outputs": [
    {
     "data": {
      "image/png": "[encoded data removed]",
      "text/latex": [
       "$\\displaystyle \\frac{A_{\\theta} k_{p \\theta}}{A_{\\theta} k_{D \\theta} s_{\\theta} + A_{\\theta} k_{p \\theta} + s_{\\theta}^{2}}$"
      ],
      "text/plain": [
       "                     A_\\theta⋅k_p_\\theta                      \n",
       "──────────────────────────────────────────────────────────────\n",
       "                                                             2\n",
       "A_\\theta⋅k_D_\\theta⋅s_\\theta + A_\\theta⋅k_p_\\theta + s_\\theta "
      ]
     },
     "execution_count": 3,
     "metadata": {},
     "output_type": "execute_result"
    }
   ],
   "source": [
    "sym_eq = (kp_t*A_t)/(s_t**2 + kd_t*A_t*s_t + kp_t*A_t)\n",
    "sym_eq"
   ]
  },
  {
   "cell_type": "code",
   "execution_count": 4,
   "metadata": {},
   "outputs": [
    {
     "data": {
      "image/png": "[encoded data removed]",
      "text/latex": [
       "$\\displaystyle A = \\frac{\\ell}{\\frac{\\ell^{2} m_{2}}{3} + m_{1} z_{e}^{2}}$"
      ],
      "text/plain": [
       "          ell       \n",
       "A = ────────────────\n",
       "       2            \n",
       "    ell ⋅m₂        2\n",
       "    ─────── + m₁⋅zₑ \n",
       "       3            "
      ]
     },
     "execution_count": 4,
     "metadata": {},
     "output_type": "execute_result"
    }
   ],
   "source": [
    "RHS = el/(m2*el**2/3 + m1*ze**2)\n",
    "LHS = A\n",
    "\n",
    "A_eq = Eq(LHS,RHS)\n",
    "A_eq"
   ]
  },
  {
   "cell_type": "code",
   "execution_count": 5,
   "metadata": {},
   "outputs": [],
   "source": [
    "m_1 = 0.35\n",
    "m_2 = 2\n",
    "L = 0.5\n",
    "z_e = L/2\n",
    "k_d_t = 1.173\n",
    "k_p_t = 1.83"
   ]
  },
  {
   "cell_type": "code",
   "execution_count": 11,
   "metadata": {},
   "outputs": [],
   "source": [
    "A_val = A_eq.subs({m1: m_1, m2: m_2, el: L, ze: z_e})\n",
    "A_val\n",
    "A_sub = 2.65"
   ]
  },
  {
   "cell_type": "code",
   "execution_count": 7,
   "metadata": {},
   "outputs": [
    {
     "data": {
      "image/png": "[encoded data removed]",
      "text/latex": [
       "$\\displaystyle \\theta = \\frac{A_{\\theta} \\theta_{r} k_{p \\theta}}{A_{\\theta} k_{D \\theta} s_{\\theta} + A_{\\theta} k_{p \\theta} + s_{\\theta}^{2}}$"
      ],
      "text/plain": [
       "                          A_\\theta⋅\\thetaᵣ⋅k_p_\\theta                  \n",
       "\\theta = ──────────────────────────────────────────────────────────────\n",
       "                                                                      2\n",
       "         A_\\theta⋅k_D_\\theta⋅s_\\theta + A_\\theta⋅k_p_\\theta + s_\\theta "
      ]
     },
     "execution_count": 7,
     "metadata": {},
     "output_type": "execute_result"
    }
   ],
   "source": [
    "LHS = theta\n",
    "RHS = theta_r*sym_eq\n",
    "\n",
    "trans_fcn = Eq(LHS, RHS)\n",
    "trans_fcn"
   ]
  },
  {
   "cell_type": "code",
   "execution_count": 12,
   "metadata": {},
   "outputs": [
    {
     "data": {
      "image/png": "[encoded data removed]",
      "text/latex": [
       "$\\displaystyle \\theta = \\frac{4.8495 \\theta_{r}}{s_{\\theta}^{2} + 3.10845 s_{\\theta} + 4.8495}$"
      ],
      "text/plain": [
       "                    4.8495⋅\\thetaᵣ            \n",
       "\\theta = ─────────────────────────────────────\n",
       "                 2                            \n",
       "         s_\\theta  + 3.10845⋅s_\\theta + 4.8495"
      ]
     },
     "execution_count": 12,
     "metadata": {},
     "output_type": "execute_result"
    }
   ],
   "source": [
    "trans_fcn_vals = trans_fcn.subs({A_t: A_sub, kd_t: k_d_t, kp_t: k_p_t})\n",
    "trans_fcn_vals"
   ]
  },
  {
   "cell_type": "markdown",
   "metadata": {},
   "source": [
    "# outer loop"
   ]
  },
  {
   "cell_type": "code",
   "execution_count": 19,
   "metadata": {},
   "outputs": [],
   "source": [
    "kp_z, kd_z, A_z, s_z, Z, Zr = symbols('kp_z, k_D_z, A_z, s_z, Z, Z_r')"
   ]
  },
  {
   "cell_type": "code",
   "execution_count": 17,
   "metadata": {},
   "outputs": [
    {
     "data": {
      "image/png": "[encoded data removed]",
      "text/latex": [
       "$\\displaystyle \\frac{A_{z} kp_{z}}{A_{z} k_{D z} s_{z} + A_{z} kp_{z} + s_{z}^{2}}$"
      ],
      "text/plain": [
       "           A_z⋅kp_z            \n",
       "───────────────────────────────\n",
       "                              2\n",
       "A_z⋅k_D_z⋅s_z + A_z⋅kp_z + s_z "
      ]
     },
     "execution_count": 17,
     "metadata": {},
     "output_type": "execute_result"
    }
   ],
   "source": [
    "sym_eq_z = (kp_z*A_z)/(s_z**2 + kd_z*A_z*s_z + kp_z*A_z)\n",
    "sym_eq_z"
   ]
  },
  {
   "cell_type": "code",
   "execution_count": 24,
   "metadata": {},
   "outputs": [],
   "source": [
    "A = -9.8\n",
    "k_d_z = -0.032\n",
    "k_p_z = -0.005"
   ]
  },
  {
   "cell_type": "code",
   "execution_count": 22,
   "metadata": {},
   "outputs": [],
   "source": [
    "LHS = Z\n",
    "RHS = sym_eq_z * Zr\n",
    "\n",
    "outer_loop = Eq(LHS, RHS)"
   ]
  },
  {
   "cell_type": "code",
   "execution_count": 25,
   "metadata": {},
   "outputs": [
    {
     "data": {
      "image/png": "[encoded data removed]",
      "text/latex": [
       "$\\displaystyle Z = \\frac{0.049 Z_{r}}{s_{z}^{2} + 0.3136 s_{z} + 0.049}$"
      ],
      "text/plain": [
       "            0.049⋅Zᵣ         \n",
       "Z = ─────────────────────────\n",
       "       2                     \n",
       "    s_z  + 0.3136⋅s_z + 0.049"
      ]
     },
     "execution_count": 25,
     "metadata": {},
     "output_type": "execute_result"
    }
   ],
   "source": [
    "out_loop_sub = outer_loop.subs({A_z: A, kd_z: k_d_z, kp_z: k_p_z})\n",
    "out_loop_sub"
   ]
  }
 ],
 "metadata": {
  "kernelspec": {
   "display_name": ".venv",
   "language": "python",
   "name": "python3"
  },
  "language_info": {
   "codemirror_mode": {
    "name": "ipython",
    "version": 3
   },
   "file_extension": ".py",
   "mimetype": "text/x-python",
   "name": "python",
   "nbconvert_exporter": "python",
   "pygments_lexer": "ipython3",
   "version": "3.12.5"
  }
 },
 "nbformat": 4,
 "nbformat_minor": 2
}
