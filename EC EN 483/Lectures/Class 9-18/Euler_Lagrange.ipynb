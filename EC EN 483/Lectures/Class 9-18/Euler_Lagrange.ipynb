{
 "cells": [
  {
   "cell_type": "markdown",
   "metadata": {},
   "source": [
    "# Euler Lagrange Template File"
   ]
  },
  {
   "cell_type": "code",
   "execution_count": 1,
   "metadata": {},
   "outputs": [],
   "source": [
    "import sympy\n",
    "from sympy import *\n",
    "from sympy.physics.vector.printing import vlatex\n",
    "from IPython.display import Math, display\n",
    "\n",
    "init_printing()\n",
    "\n",
    "def dotprint(expr):\n",
    "    display(Math(vlatex(expr)))"
   ]
  },
  {
   "cell_type": "markdown",
   "metadata": {},
   "source": [
    "### Define Symbols and Configuration Variables"
   ]
  },
  {
   "cell_type": "code",
   "execution_count": 2,
   "metadata": {},
   "outputs": [],
   "source": [
    "# Time symbol\n",
    "t = symbols('t')"
   ]
  },
  {
   "cell_type": "code",
   "execution_count": 3,
   "metadata": {},
   "outputs": [],
   "source": [
    "# Generalized coordinates\n",
    "\n",
    "# TODO: Change this!\n",
    "q = symbols(r'q', cls=Function)\n",
    "q = q(t)"
   ]
  },
  {
   "cell_type": "code",
   "execution_count": 4,
   "metadata": {},
   "outputs": [],
   "source": [
    "# Derivatives of Generalized Coordinates\n",
    "\n",
    "# TODO: Change this!\n",
    "q_dot = q.diff(t)"
   ]
  },
  {
   "cell_type": "code",
   "execution_count": 14,
   "metadata": {},
   "outputs": [],
   "source": [
    "# Other symbols (mass, forces, damping coefficients, torques...)\n",
    "\n",
    "# TODO: Change this!\n",
    "remove, before, flight  = symbols(r'', real=True)"
   ]
  },
  {
   "cell_type": "markdown",
   "metadata": {},
   "source": [
    "### Kinetic Energy\n",
    "\n",
    "#### Translational Kinetic Energy"
   ]
  },
  {
   "cell_type": "code",
   "execution_count": null,
   "metadata": {},
   "outputs": [],
   "source": [
    "# TODO: Change this!\n",
    "K_T = ...\n",
    "\n",
    "dotprint(K_T)"
   ]
  },
  {
   "cell_type": "markdown",
   "metadata": {},
   "source": [
    "#### Rotational Kinetic Energy"
   ]
  },
  {
   "cell_type": "code",
   "execution_count": null,
   "metadata": {},
   "outputs": [],
   "source": [
    "# TODO: Change this!\n",
    "K_R = ...\n",
    "\n",
    "dotprint(K_R)"
   ]
  },
  {
   "cell_type": "markdown",
   "metadata": {},
   "source": [
    "#### Total Kinetic Energy"
   ]
  },
  {
   "cell_type": "code",
   "execution_count": null,
   "metadata": {},
   "outputs": [],
   "source": [
    "K = K_T + K_R\n",
    "\n",
    "dotprint(K)"
   ]
  },
  {
   "cell_type": "markdown",
   "metadata": {},
   "source": [
    "### Potential Energy"
   ]
  },
  {
   "cell_type": "code",
   "execution_count": null,
   "metadata": {},
   "outputs": [],
   "source": [
    "# TODO: Change this!\n",
    "P = ...\n",
    "\n",
    "dotprint(P)"
   ]
  },
  {
   "cell_type": "markdown",
   "metadata": {},
   "source": [
    "### Define the Lagrangian\n",
    "\n",
    "For this class, the Lagrangian will in general be a scalar value equal to the difference between kinetic and potential energy."
   ]
  },
  {
   "cell_type": "code",
   "execution_count": null,
   "metadata": {},
   "outputs": [],
   "source": [
    "L = K - P\n",
    "\n",
    "dotprint(L)"
   ]
  },
  {
   "cell_type": "markdown",
   "metadata": {},
   "source": [
    "### Define the Forces\n",
    "\n",
    "#### Generalized Forces\n",
    "\n",
    "The forces will form a vector with the same length as the number of configuration variables. \n",
    "\n",
    "The first entry corresponds to the first configuration variable, the second entry to the second, etc.\n",
    "\n",
    "Each entry should contain the generalized forces acting on the corresponding configuration variable."
   ]
  },
  {
   "cell_type": "code",
   "execution_count": null,
   "metadata": {},
   "outputs": [],
   "source": [
    "# TODO: Change this!\n",
    "tau = Matrix([...])\n",
    "\n",
    "dotprint(tau)"
   ]
  },
  {
   "cell_type": "markdown",
   "metadata": {},
   "source": [
    "#### Non-conservative Forces (e.g. Damping)\n",
    "\n",
    "Similar to the generalized forces, this will be a vector with the same length as the number of configuration variables.\n",
    "\n",
    "Each entry should contain the nonconservative forces acting on the corresponding configuration variable."
   ]
  },
  {
   "cell_type": "code",
   "execution_count": null,
   "metadata": {},
   "outputs": [],
   "source": [
    "# TODO: Change this!\n",
    "B = Matrix([[...], [...], ...])\n",
    "q_dot = Matrix([...])\n",
    "\n",
    "Bqdot = B @ q_dot\n",
    "\n",
    "dotprint(Bqdot)"
   ]
  },
  {
   "cell_type": "code",
   "execution_count": null,
   "metadata": {},
   "outputs": [],
   "source": [
    "F_total = tau + Bqdot\n",
    "\n",
    "dotprint(F_total)"
   ]
  },
  {
   "cell_type": "markdown",
   "metadata": {},
   "source": [
    "### Compute the Lagrangian Derivatives / Partial Derivatives\n",
    "\n",
    "The following function computes these two terms:\n",
    "\n",
    "* $\\frac{d}{dt} \\left(\\frac{\\partial L(q, \\dot{q})}{\\partial \\dot{q}} \\right)$\n",
    "* $\\frac{\\partial L(q,\\dot{q})}{\\partial q}$\n",
    "\n",
    "Things to note:\n",
    "\n",
    "* `q` and `q_dot` should be Python tuples containing your configuration variables (e.g. `(x, theta)`)\n",
    "* The function returns a Python list. You probably want to wrap the output in a Sympy `Matrix()`. For example,\n",
    "\n",
    "```python\n",
    "out = derive_Lagrangian(...)\n",
    "out = Matrix(out)\n",
    "```"
   ]
  },
  {
   "cell_type": "code",
   "execution_count": 9,
   "metadata": {},
   "outputs": [],
   "source": [
    "def derive_Lagrangian(L, q, q_dot):\n",
    "    term_1 = (sympy.tensor.derive_by_array(L, q_dot)).diff(t)\n",
    "    term_2 = sympy.tensor.derive_by_array(L, q)\n",
    "    return term_1 - term_2"
   ]
  },
  {
   "cell_type": "markdown",
   "metadata": {},
   "source": [
    "### Get the final Euler Lagrange Equations of Motion\n",
    "\n",
    "Remember that the Euler Lagrange Equations used in class are:\n",
    "\n",
    "$$\n",
    "\\underbrace{\\frac{d}{dt} \\left(\\frac{\\partial L(q, \\dot{q})}{\\partial \\dot{q}} \\right) - \\frac{\\partial L(q,\\dot{q})}{\\partial q}}_\\text{Left Hand Side (LHS)} = \\underbrace{\\tau - B \\dot{q}}_\\text{Right Hand Side (RHS)}.\n",
    "$$\n",
    "\n",
    "In Sympy, we use the `Eq(LHS, RHS)` class to get a symbolic equation $\\text{LHS} = \\text{RHS}$.\n",
    "\n",
    "Both the left and right expressions should be Sympy vectors (i.e. Matrices with 1 column). \n",
    "\n",
    "The length of the left and right vectors must both be equal to the number of configuration variables."
   ]
  },
  {
   "cell_type": "code",
   "execution_count": null,
   "metadata": {},
   "outputs": [],
   "source": [
    "# TODO: Change this!\n",
    "LHS = ...\n",
    "RHS = ...\n",
    "\n",
    "Euler_Lagrange = Eq(LHS, RHS)\n",
    "\n",
    "dotprint(simplify(Euler_Lagrange))"
   ]
  }
 ],
 "metadata": {
  "kernelspec": {
   "display_name": "controls",
   "language": "python",
   "name": "python3"
  },
  "language_info": {
   "codemirror_mode": {
    "name": "ipython",
    "version": 3
   },
   "file_extension": ".py",
   "mimetype": "text/x-python",
   "name": "python",
   "nbconvert_exporter": "python",
   "pygments_lexer": "ipython3",
   "version": "3.12.5"
  }
 },
 "nbformat": 4,
 "nbformat_minor": 2
}
