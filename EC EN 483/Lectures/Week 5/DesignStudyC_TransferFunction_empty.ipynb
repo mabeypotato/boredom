{
 "cells": [
  {
   "cell_type": "markdown",
   "metadata": {},
   "source": [
    "# Linearization: Design Study C"
   ]
  },
  {
   "cell_type": "code",
   "execution_count": 2,
   "metadata": {},
   "outputs": [],
   "source": [
    "import sympy\n",
    "from sympy import *\n",
    "from sympy.physics.vector.printing import vlatex\n",
    "from IPython.display import Math, display\n",
    "\n",
    "init_printing()\n",
    "\n",
    "def dotprint(expr):\n",
    "    display(Math(vlatex(expr)))"
   ]
  },
  {
   "cell_type": "code",
   "execution_count": 3,
   "metadata": {},
   "outputs": [],
   "source": [
    "t = symbols('t')\n",
    "\n",
    "# Generalized Coordinates\n",
    "theta, phi = symbols(r'theta, phi', cls=Function)\n",
    "theta = theta(t)\n",
    "phi = phi(t)\n",
    "\n",
    "theta_dot = theta.diff(t)\n",
    "phi_dot = phi.diff(t)\n",
    "\n",
    "theta_ddot = theta.diff(t,2)\n",
    "phi_ddot = phi.diff(t,2)\n",
    "\n",
    "Js, Jp, k, tau_theta, b  = symbols(r'J_s, J_p, k, tau_\\theta, b', real=True)"
   ]
  },
  {
   "cell_type": "code",
   "execution_count": 4,
   "metadata": {},
   "outputs": [
    {
     "data": {
      "text/latex": [
       "$\\displaystyle \\left[\\begin{matrix}J_{s} \\ddot{\\theta} + b \\left(- \\dot{\\phi} + \\dot{\\theta}\\right) + k \\left(- \\phi + \\theta\\right)\\\\J_{p} \\ddot{\\phi} + b \\left(\\dot{\\phi} - \\dot{\\theta}\\right) + k \\left(\\phi - \\theta\\right)\\end{matrix}\\right] = \\left[\\begin{matrix}\\tau_{\\theta}\\\\0\\end{matrix}\\right]$"
      ],
      "text/plain": [
       "<IPython.core.display.Math object>"
      ]
     },
     "metadata": {},
     "output_type": "display_data"
    }
   ],
   "source": [
    "LHS = Matrix([\n",
    "    Js*theta_ddot+b*(theta_dot-phi_dot)+k*(theta-phi),\n",
    "    Jp*phi_ddot+b*(phi_dot-theta_dot)+k*(phi-theta)\n",
    "])\n",
    "RHS = Matrix([\n",
    "    tau_theta,\n",
    "    0\n",
    "])\n",
    "\n",
    "dynamics = Eq(LHS, RHS)\n",
    "dotprint(dynamics)"
   ]
  },
  {
   "cell_type": "markdown",
   "metadata": {},
   "source": [
    "## Deriving Nonlinear State Space Equations\n",
    "\n",
    "Solve for our highest derivatives, $\\ddot{\\phi}, \\ddot{\\theta}$:"
   ]
  },
  {
   "cell_type": "code",
   "execution_count": 5,
   "metadata": {},
   "outputs": [
    {
     "data": {
      "text/latex": [
       "$\\displaystyle \\left\\{ \\ddot{\\phi} : \\frac{- b \\dot{\\phi} + b \\dot{\\theta} - k \\phi + k \\theta}{J_{p}}, \\  \\ddot{\\theta} : \\frac{b \\dot{\\phi} - b \\dot{\\theta} + k \\phi - k \\theta + \\tau_{\\theta}}{J_{s}}\\right\\}$"
      ],
      "text/plain": [
       "<IPython.core.display.Math object>"
      ]
     },
     "metadata": {},
     "output_type": "display_data"
    }
   ],
   "source": [
    "solve_dict = solve(dynamics, (theta_ddot, phi_ddot), simplify=True, dict=True)[0]\n",
    "dotprint(solve_dict)"
   ]
  },
  {
   "cell_type": "markdown",
   "metadata": {},
   "source": [
    "Create our state vector $x = [x_1, x_2, x_3, x_4]$:"
   ]
  },
  {
   "cell_type": "code",
   "execution_count": 6,
   "metadata": {},
   "outputs": [
    {
     "data": {
      "text/latex": [
       "$\\displaystyle x$"
      ],
      "text/plain": [
       "<IPython.core.display.Math object>"
      ]
     },
     "metadata": {},
     "output_type": "display_data"
    }
   ],
   "source": [
    "state = MatrixSymbol('x', 4,1)\n",
    "dotprint(state)"
   ]
  },
  {
   "cell_type": "markdown",
   "metadata": {},
   "source": [
    "We have $x = [x_1, x_2,x_3,x_4] = [\\theta, \\phi, \\dot{\\theta}, \\dot{\\phi}]$, so $\\dot{x} = [\\dot{\\theta}, \\dot{\\phi}, \\ddot{\\theta}, \\ddot{\\phi}]$. Let's put that in a vector:"
   ]
  },
  {
   "cell_type": "code",
   "execution_count": 7,
   "metadata": {},
   "outputs": [
    {
     "data": {
      "text/latex": [
       "$\\displaystyle \\left[\\begin{matrix}\\dot{\\theta}\\\\\\dot{\\phi}\\\\\\frac{b \\dot{\\phi} - b \\dot{\\theta} + k \\phi - k \\theta + \\tau_{\\theta}}{J_{s}}\\\\\\frac{- b \\dot{\\phi} + b \\dot{\\theta} - k \\phi + k \\theta}{J_{p}}\\end{matrix}\\right]$"
      ],
      "text/plain": [
       "<IPython.core.display.Math object>"
      ]
     },
     "metadata": {},
     "output_type": "display_data"
    }
   ],
   "source": [
    "theta_ddot_expr = solve_dict[theta_ddot]\n",
    "phi_ddot_expr = solve_dict[phi_ddot]\n",
    "state_deriv = Matrix([theta_dot, phi_dot, theta_ddot_expr, phi_ddot_expr])\n",
    "dotprint(state_deriv)"
   ]
  },
  {
   "cell_type": "markdown",
   "metadata": {},
   "source": [
    "Now we can substitute in our $x_1, x_2$ values in!"
   ]
  },
  {
   "cell_type": "code",
   "execution_count": 8,
   "metadata": {},
   "outputs": [
    {
     "data": {
      "text/latex": [
       "$\\displaystyle \\left[\\begin{matrix}{x}_{2,0}\\\\{x}_{3,0}\\\\\\frac{- b {x}_{2,0} + b {x}_{3,0} - k {x}_{0,0} + k {x}_{1,0} + \\tau_{\\theta}}{J_{s}}\\\\\\frac{b {x}_{2,0} - b {x}_{3,0} + k {x}_{0,0} - k {x}_{1,0}}{J_{p}}\\end{matrix}\\right]$"
      ],
      "text/plain": [
       "<IPython.core.display.Math object>"
      ]
     },
     "metadata": {},
     "output_type": "display_data"
    }
   ],
   "source": [
    "# Dictionary for substitutions\n",
    "subs_dict = {\n",
    "    theta: state[0],\n",
    "    phi: state[1],\n",
    "    theta_dot: state[2],\n",
    "    phi_dot: state[3]\n",
    "}\n",
    "\n",
    "f_expr = state_deriv.subs(subs_dict)\n",
    "dotprint(f_expr)"
   ]
  },
  {
   "cell_type": "markdown",
   "metadata": {},
   "source": [
    "We now have our state space equations!\n",
    "\n",
    "## Linearization\n",
    "\n",
    "The system is already linear, so no linearization is needed.\n",
    "\n",
    "However, if we want to get the $A,B$ matrices for our linear system in a clean form we can still use Sympy's `jacobian` function."
   ]
  },
  {
   "cell_type": "code",
   "execution_count": 9,
   "metadata": {},
   "outputs": [
    {
     "data": {
      "text/latex": [
       "$\\displaystyle \\left[\\begin{matrix}0 & 0 & 1 & 0\\\\0 & 0 & 0 & 1\\\\- \\frac{k}{J_{s}} & \\frac{k}{J_{s}} & - \\frac{b}{J_{s}} & \\frac{b}{J_{s}}\\\\\\frac{k}{J_{p}} & - \\frac{k}{J_{p}} & \\frac{b}{J_{p}} & - \\frac{b}{J_{p}}\\end{matrix}\\right]$"
      ],
      "text/plain": [
       "<IPython.core.display.Math object>"
      ]
     },
     "metadata": {},
     "output_type": "display_data"
    }
   ],
   "source": [
    "A = f_expr.jacobian(state)\n",
    "dotprint(A)"
   ]
  },
  {
   "cell_type": "code",
   "execution_count": 10,
   "metadata": {},
   "outputs": [
    {
     "data": {
      "text/latex": [
       "$\\displaystyle \\left[\\begin{matrix}0\\\\0\\\\\\frac{1}{J_{s}}\\\\0\\end{matrix}\\right]$"
      ],
      "text/plain": [
       "<IPython.core.display.Math object>"
      ]
     },
     "metadata": {},
     "output_type": "display_data"
    }
   ],
   "source": [
    "B = f_expr.jacobian([tau_theta])\n",
    "dotprint(B)"
   ]
  },
  {
   "cell_type": "markdown",
   "metadata": {},
   "source": [
    "# Transfer Function\n",
    "\n",
    "Suppose our outputs are $y = [\\theta, \\phi]$. What are our $C$ and $D$ matrices?"
   ]
  },
  {
   "cell_type": "code",
   "execution_count": 17,
   "metadata": {},
   "outputs": [],
   "source": [
    "C = Matrix([[1, 0, 0, 0], [0, 1, 0, 0]])\n",
    "\n",
    "D = Matrix([[0],[0]])"
   ]
  },
  {
   "cell_type": "markdown",
   "metadata": {},
   "source": [
    "Next we create our $s$ variable"
   ]
  },
  {
   "cell_type": "code",
   "execution_count": 11,
   "metadata": {},
   "outputs": [],
   "source": [
    "s = symbols('s')"
   ]
  },
  {
   "cell_type": "markdown",
   "metadata": {},
   "source": [
    "Now we can create the transfer function."
   ]
  },
  {
   "cell_type": "code",
   "execution_count": 18,
   "metadata": {},
   "outputs": [
    {
     "data": {
      "text/latex": [
       "$\\displaystyle \\left[\\begin{matrix}\\frac{J_{p} J_{s} s^{2} + J_{s} b s + J_{s} k}{J_{s} \\left(J_{p} J_{s} s^{4} + J_{p} b s^{3} + J_{p} k s^{2} + J_{s} b s^{3} + J_{s} k s^{2}\\right)}\\\\\\frac{J_{s} b s + J_{s} k}{J_{s} \\left(J_{p} J_{s} s^{4} + J_{p} b s^{3} + J_{p} k s^{2} + J_{s} b s^{3} + J_{s} k s^{2}\\right)}\\end{matrix}\\right]$"
      ],
      "text/plain": [
       "⎡                     2                               ⎤\n",
       "⎢              Jₚ⋅Jₛ⋅s  + Jₛ⋅b⋅s + Jₛ⋅k               ⎥\n",
       "⎢─────────────────────────────────────────────────────⎥\n",
       "⎢   ⎛       4         3         2         3         2⎞⎥\n",
       "⎢Jₛ⋅⎝Jₚ⋅Jₛ⋅s  + Jₚ⋅b⋅s  + Jₚ⋅k⋅s  + Jₛ⋅b⋅s  + Jₛ⋅k⋅s ⎠⎥\n",
       "⎢                                                     ⎥\n",
       "⎢                    Jₛ⋅b⋅s + Jₛ⋅k                    ⎥\n",
       "⎢─────────────────────────────────────────────────────⎥\n",
       "⎢   ⎛       4         3         2         3         2⎞⎥\n",
       "⎣Jₛ⋅⎝Jₚ⋅Jₛ⋅s  + Jₚ⋅b⋅s  + Jₚ⋅k⋅s  + Jₛ⋅b⋅s  + Jₛ⋅k⋅s ⎠⎦"
      ]
     },
     "execution_count": 18,
     "metadata": {},
     "output_type": "execute_result"
    }
   ],
   "source": [
    "I = eye(4)\n",
    "H = (C @ (s*I - A).inv() @ B + D)\n",
    "H"
   ]
  }
 ],
 "metadata": {
  "kernelspec": {
   "display_name": ".venv",
   "language": "python",
   "name": "python3"
  },
  "language_info": {
   "codemirror_mode": {
    "name": "ipython",
    "version": 3
   },
   "file_extension": ".py",
   "mimetype": "text/x-python",
   "name": "python",
   "nbconvert_exporter": "python",
   "pygments_lexer": "ipython3",
   "version": "3.12.5"
  }
 },
 "nbformat": 4,
 "nbformat_minor": 2
}
