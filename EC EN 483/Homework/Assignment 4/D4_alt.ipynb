{
 "cells": [
  {
   "cell_type": "markdown",
   "metadata": {},
   "source": [
    "# Linearization: Design Study B"
   ]
  },
  {
   "cell_type": "code",
   "execution_count": 1,
   "metadata": {},
   "outputs": [],
   "source": [
    "import sympy\n",
    "from sympy import *\n",
    "from sympy.physics.vector.printing import vlatex\n",
    "from IPython.display import Math, display\n",
    "\n",
    "init_printing()\n",
    "\n",
    "def dotprint(expr):\n",
    "    display(Math(vlatex(expr)))"
   ]
  },
  {
   "cell_type": "code",
   "execution_count": 2,
   "metadata": {},
   "outputs": [],
   "source": [
    "t = symbols('t')\n",
    "# Generalized coordinates\n",
    "z = symbols('z', cls=Function)\n",
    "\n",
    "z = z(t)\n",
    "z_dot = z.diff(t)\n",
    "\n",
    "m, k, b, F = symbols('m, k, b, F')"
   ]
  },
  {
   "cell_type": "code",
   "execution_count": 3,
   "metadata": {},
   "outputs": [
    {
     "data": {
      "text/latex": [
       "$\\displaystyle \\left[\\begin{matrix}\\frac{\\ell m_{1} \\cos{\\left(\\theta \\right)} \\ddot{\\theta}}{2} + \\left(m_{1} + m_{2}\\right) \\ddot{z}\\\\\\frac{\\ell^{2} m_{1} \\ddot{\\theta}}{3} + \\frac{\\ell m_{1} \\cos{\\left(\\theta \\right)} \\ddot{z}}{2}\\end{matrix}\\right] = \\left[\\begin{matrix}F + \\frac{\\ell m_{1} \\sin{\\left(\\theta \\right)} \\dot{\\theta}^{2}}{2} - b \\dot{z}\\\\\\frac{\\ell g m_{1} \\sin{\\left(\\theta \\right)}}{2}\\end{matrix}\\right]$"
      ],
      "text/plain": [
       "<IPython.core.display.Math object>"
      ]
     },
     "metadata": {},
     "output_type": "display_data"
    }
   ],
   "source": [
    "LHS = Matrix([\n",
    "    (m1 + m2)*z_ddot + Rational(1,2)*m1*ell*theta_ddot*cos(theta),\n",
    "    Rational(1,2)*m1*ell*z_ddot*cos(theta) + Rational(1,3)*m1*ell**2*theta_ddot,\n",
    "])\n",
    "RHS = Matrix([\n",
    "    Rational(1,2)*m1*ell*theta_dot**2*sin(theta) - b*z_dot + F,\n",
    "    Rational(1,2)*m1*g*ell*sin(theta)\n",
    "])\n",
    "\n",
    "dynamics = Eq(LHS, RHS)\n",
    "dotprint(dynamics)"
   ]
  },
  {
   "cell_type": "markdown",
   "metadata": {},
   "source": [
    "## Deriving Nonlinear State Space Equations\n",
    "\n",
    "Solve for our highest derivatives, $\\ddot{z}, \\ddot{\\theta}$:"
   ]
  },
  {
   "cell_type": "code",
   "execution_count": 4,
   "metadata": {},
   "outputs": [
    {
     "data": {
      "text/latex": [
       "$\\displaystyle \\left\\{ \\ddot{\\theta} : \\frac{3 \\left(- 2 F \\cos{\\left(\\theta \\right)} - \\frac{\\ell m_{1} \\sin{\\left(2 \\theta \\right)} \\dot{\\theta}^{2}}{2} + 2 b \\cos{\\left(\\theta \\right)} \\dot{z} + 2 g m_{1} \\sin{\\left(\\theta \\right)} + 2 g m_{2} \\sin{\\left(\\theta \\right)}\\right)}{\\ell \\left(3 m_{1} \\sin^{2}{\\left(\\theta \\right)} + m_{1} + 4 m_{2}\\right)}, \\  \\ddot{z} : \\frac{4 F + 2 \\ell m_{1} \\sin{\\left(\\theta \\right)} \\dot{\\theta}^{2} - 4 b \\dot{z} - \\frac{3 g m_{1} \\sin{\\left(2 \\theta \\right)}}{2}}{3 m_{1} \\sin^{2}{\\left(\\theta \\right)} + m_{1} + 4 m_{2}}\\right\\}$"
      ],
      "text/plain": [
       "<IPython.core.display.Math object>"
      ]
     },
     "metadata": {},
     "output_type": "display_data"
    }
   ],
   "source": [
    "# TODO: Change this!\n",
    "solve_dict = solve(dynamics, (z_ddot, theta_ddot), simplify=True, dict=True)[0]\n",
    "dotprint(solve_dict)"
   ]
  },
  {
   "cell_type": "markdown",
   "metadata": {},
   "source": [
    "Create our state vector $x = [x_1, x_2, x_3, x_4]$:"
   ]
  },
  {
   "cell_type": "code",
   "execution_count": 8,
   "metadata": {},
   "outputs": [
    {
     "data": {
      "text/latex": [
       "$\\displaystyle x$"
      ],
      "text/plain": [
       "<IPython.core.display.Math object>"
      ]
     },
     "metadata": {},
     "output_type": "display_data"
    }
   ],
   "source": [
    "# TODO: Change this!\n",
    "state = MatrixSymbol('x', 4,1)\n",
    "dotprint(state)"
   ]
  },
  {
   "cell_type": "markdown",
   "metadata": {},
   "source": [
    "We have $x = [x_1, x_2,x_3,x_4] = [z, \\theta, \\dot{z}, \\dot{\\theta}]$, so $\\dot{x} = [\\dot{z}, \\dot{\\theta}, \\ddot{z}, \\ddot{\\theta}]$. Let's put that in a vector:"
   ]
  },
  {
   "cell_type": "code",
   "execution_count": 10,
   "metadata": {},
   "outputs": [
    {
     "data": {
      "text/latex": [
       "$\\displaystyle \\left[\\begin{matrix}\\dot{z}\\\\\\dot{\\theta}\\\\\\frac{4 F + 2 \\ell m_{1} \\sin{\\left(\\theta \\right)} \\dot{\\theta}^{2} - 4 b \\dot{z} - \\frac{3 g m_{1} \\sin{\\left(2 \\theta \\right)}}{2}}{3 m_{1} \\sin^{2}{\\left(\\theta \\right)} + m_{1} + 4 m_{2}}\\\\\\frac{3 \\left(- 2 F \\cos{\\left(\\theta \\right)} - \\frac{\\ell m_{1} \\sin{\\left(2 \\theta \\right)} \\dot{\\theta}^{2}}{2} + 2 b \\cos{\\left(\\theta \\right)} \\dot{z} + 2 g m_{1} \\sin{\\left(\\theta \\right)} + 2 g m_{2} \\sin{\\left(\\theta \\right)}\\right)}{\\ell \\left(3 m_{1} \\sin^{2}{\\left(\\theta \\right)} + m_{1} + 4 m_{2}\\right)}\\end{matrix}\\right]$"
      ],
      "text/plain": [
       "<IPython.core.display.Math object>"
      ]
     },
     "metadata": {},
     "output_type": "display_data"
    }
   ],
   "source": [
    "# TODO: Change this!\n",
    "z_ddot_expr = solve_dict[z_ddot]\n",
    "theta_ddot_expr = solve_dict[theta_ddot]\n",
    "state_deriv = Matrix([z_dot, theta_dot, z_ddot_expr, theta_ddot_expr])\n",
    "dotprint(state_deriv)"
   ]
  },
  {
   "cell_type": "markdown",
   "metadata": {},
   "source": [
    "Now we can substitute in our $x_1, x_2$ values in!"
   ]
  },
  {
   "cell_type": "code",
   "execution_count": 18,
   "metadata": {},
   "outputs": [
    {
     "data": {
      "text/latex": [
       "$\\displaystyle \\left[\\begin{matrix}{x}_{2,0}\\\\{x}_{3,0}\\\\\\frac{4 F + 2 \\ell m_{1} \\sin{\\left({x}_{1,0} \\right)} {x}_{3,0}^{2} - 4 b {x}_{2,0} - \\frac{3 g m_{1} \\sin{\\left(2 {x}_{1,0} \\right)}}{2}}{3 m_{1} \\sin^{2}{\\left({x}_{1,0} \\right)} + m_{1} + 4 m_{2}}\\\\\\frac{3 \\left(- 2 F \\cos{\\left({x}_{1,0} \\right)} - \\frac{\\ell m_{1} \\sin{\\left(2 {x}_{1,0} \\right)} {x}_{3,0}^{2}}{2} + 2 b \\cos{\\left({x}_{1,0} \\right)} {x}_{2,0} + 2 g m_{1} \\sin{\\left({x}_{1,0} \\right)} + 2 g m_{2} \\sin{\\left({x}_{1,0} \\right)}\\right)}{\\ell \\left(3 m_{1} \\sin^{2}{\\left({x}_{1,0} \\right)} + m_{1} + 4 m_{2}\\right)}\\end{matrix}\\right]$"
      ],
      "text/plain": [
       "<IPython.core.display.Math object>"
      ]
     },
     "metadata": {},
     "output_type": "display_data"
    }
   ],
   "source": [
    "# Dictionary for substitutions\n",
    "subs_dict = {\n",
    "    z: state[0],\n",
    "    theta: state[1],\n",
    "    z_dot: state[2],\n",
    "    theta_dot: state[3]\n",
    "\n",
    "}\n",
    "\n",
    "f_expr = state_deriv.subs(subs_dict)\n",
    "dotprint(f_expr)"
   ]
  },
  {
   "cell_type": "markdown",
   "metadata": {},
   "source": [
    "We now have our nonlinear state space equations!\n",
    "\n",
    "## Linearization\n",
    "\n",
    "First, we need to find an equilibrium point. We can either do this by hand or use Sympy's `solve` function to do this.\n",
    "\n",
    "**Note:** It's a good idea to practice doing this by hand in addition to using Sympy!"
   ]
  },
  {
   "cell_type": "code",
   "execution_count": 25,
   "metadata": {},
   "outputs": [
    {
     "data": {
      "text/latex": [
       "$\\displaystyle \\left\\{ F : 0, \\  {x}_{1,0} : 0, \\  {x}_{2,0} : 0, \\  {x}_{3,0} : 0\\right\\}$"
      ],
      "text/plain": [
       "<IPython.core.display.Math object>"
      ]
     },
     "metadata": {},
     "output_type": "display_data"
    }
   ],
   "source": [
    "# TODO: Change this!\n",
    "# This equation represents f(x,u) = 0\n",
    "equilibrium_equation = Eq(f_expr, Matrix([0,0,0,0]))\n",
    "\n",
    "eq_solve_dict = solve(equilibrium_equation, (state[0], state[1], state[2], state[3], F), simplify=True, dict=True)[0]\n",
    "dotprint(eq_solve_dict)"
   ]
  },
  {
   "cell_type": "markdown",
   "metadata": {},
   "source": [
    "As a sanity check, let's inspect this solution. We know that $x_2, x_3$ have to be zero from the form of $f(x,u)$ above. Let's substitute those values into `f_expr` and see what we get:"
   ]
  },
  {
   "cell_type": "code",
   "execution_count": 27,
   "metadata": {},
   "outputs": [
    {
     "data": {
      "text/latex": [
       "$\\displaystyle \\left[\\begin{matrix}0\\\\0\\\\\\frac{4 F - \\frac{3 g m_{1} \\sin{\\left(2 {x}_{1,0} \\right)}}{2}}{3 m_{1} \\sin^{2}{\\left({x}_{1,0} \\right)} + m_{1} + 4 m_{2}}\\\\\\frac{3 \\left(- 2 F \\cos{\\left({x}_{1,0} \\right)} + 2 g m_{1} \\sin{\\left({x}_{1,0} \\right)} + 2 g m_{2} \\sin{\\left({x}_{1,0} \\right)}\\right)}{\\ell \\left(3 m_{1} \\sin^{2}{\\left({x}_{1,0} \\right)} + m_{1} + 4 m_{2}\\right)}\\end{matrix}\\right]$"
      ],
      "text/plain": [
       "<IPython.core.display.Math object>"
      ]
     },
     "metadata": {},
     "output_type": "display_data"
    }
   ],
   "source": [
    "dotprint(f_expr.subs({state[2]: 0, state[3]: 0}))"
   ]
  },
  {
   "cell_type": "markdown",
   "metadata": {},
   "source": [
    "We can see that setting $F = 0$ and $x_1 = 0$ causes all numerator terms to go to zero. However, there is another equilibrium solution for $x_1$ that Sympy may not have found. Can you figure out what it is?\n",
    "\n",
    "(Hint: At what points does $\\sin(x_1) = 0$?)\n",
    "\n",
    "---\n",
    "\n",
    "Below we define our equilibrium points $x_e = [-, \\theta_e, \\dot{z}_e, \\dot{\\theta}_e]$ and $u_e = F_e$. \n",
    "\n",
    "_Think for a minute: Why don't we have a $z_e$ equilibrium point?_"
   ]
  },
  {
   "cell_type": "code",
   "execution_count": 23,
   "metadata": {},
   "outputs": [],
   "source": [
    "#u_eq = eq_solve_dict[]\n",
    "theta_dot_eq = eq_solve_dict[state[2]]\n",
    "z_dot_eq = eq_solve_dict[state[3]]"
   ]
  },
  {
   "cell_type": "markdown",
   "metadata": {},
   "source": [
    "#### Define A, B Jacobians\n",
    "\n",
    "We can use Sympy's `jacobian` function to find the jacobians of `f(x,u)`.\n",
    "\n",
    "First we find $A = \\frac{\\partial f}{\\partial x}$:"
   ]
  },
  {
   "cell_type": "code",
   "execution_count": 24,
   "metadata": {},
   "outputs": [
    {
     "data": {
      "text/latex": [
       "$\\displaystyle \\left[\\begin{matrix}0 & 0 & 1 & 0\\\\0 & 0 & 0 & 1\\\\0 & - \\frac{6 m_{1} \\left(4 F + 2 \\ell m_{1} \\sin{\\left({x}_{1,0} \\right)} {x}_{3,0}^{2} - 4 b {x}_{2,0} - \\frac{3 g m_{1} \\sin{\\left(2 {x}_{1,0} \\right)}}{2}\\right) \\sin{\\left({x}_{1,0} \\right)} \\cos{\\left({x}_{1,0} \\right)}}{\\left(3 m_{1} \\sin^{2}{\\left({x}_{1,0} \\right)} + m_{1} + 4 m_{2}\\right)^{2}} + \\frac{2 \\ell m_{1} \\cos{\\left({x}_{1,0} \\right)} {x}_{3,0}^{2} - 3 g m_{1} \\cos{\\left(2 {x}_{1,0} \\right)}}{3 m_{1} \\sin^{2}{\\left({x}_{1,0} \\right)} + m_{1} + 4 m_{2}} & - \\frac{4 b}{3 m_{1} \\sin^{2}{\\left({x}_{1,0} \\right)} + m_{1} + 4 m_{2}} & \\frac{4 \\ell m_{1} \\sin{\\left({x}_{1,0} \\right)} {x}_{3,0}}{3 m_{1} \\sin^{2}{\\left({x}_{1,0} \\right)} + m_{1} + 4 m_{2}}\\\\0 & - \\frac{18 m_{1} \\left(- 2 F \\cos{\\left({x}_{1,0} \\right)} - \\frac{\\ell m_{1} \\sin{\\left(2 {x}_{1,0} \\right)} {x}_{3,0}^{2}}{2} + 2 b \\cos{\\left({x}_{1,0} \\right)} {x}_{2,0} + 2 g m_{1} \\sin{\\left({x}_{1,0} \\right)} + 2 g m_{2} \\sin{\\left({x}_{1,0} \\right)}\\right) \\sin{\\left({x}_{1,0} \\right)} \\cos{\\left({x}_{1,0} \\right)}}{\\ell \\left(3 m_{1} \\sin^{2}{\\left({x}_{1,0} \\right)} + m_{1} + 4 m_{2}\\right)^{2}} + \\frac{3 \\left(2 F \\sin{\\left({x}_{1,0} \\right)} - \\ell m_{1} \\cos{\\left(2 {x}_{1,0} \\right)} {x}_{3,0}^{2} - 2 b \\sin{\\left({x}_{1,0} \\right)} {x}_{2,0} + 2 g m_{1} \\cos{\\left({x}_{1,0} \\right)} + 2 g m_{2} \\cos{\\left({x}_{1,0} \\right)}\\right)}{\\ell \\left(3 m_{1} \\sin^{2}{\\left({x}_{1,0} \\right)} + m_{1} + 4 m_{2}\\right)} & \\frac{6 b \\cos{\\left({x}_{1,0} \\right)}}{\\ell \\left(3 m_{1} \\sin^{2}{\\left({x}_{1,0} \\right)} + m_{1} + 4 m_{2}\\right)} & - \\frac{3 m_{1} \\sin{\\left(2 {x}_{1,0} \\right)} {x}_{3,0}}{3 m_{1} \\sin^{2}{\\left({x}_{1,0} \\right)} + m_{1} + 4 m_{2}}\\end{matrix}\\right]$"
      ],
      "text/plain": [
       "<IPython.core.display.Math object>"
      ]
     },
     "metadata": {},
     "output_type": "display_data"
    }
   ],
   "source": [
    "A = f_expr.jacobian(state)\n",
    "dotprint(A)"
   ]
  },
  {
   "cell_type": "markdown",
   "metadata": {},
   "source": [
    "We can evaluate at our specific $(x_e, u_e)$ point using `subs`."
   ]
  },
  {
   "cell_type": "code",
   "execution_count": null,
   "metadata": {},
   "outputs": [],
   "source": [
    "A_subs = { \n",
    "\n",
    "    \n",
    "}\n",
    "\n",
    "A_eq = A.subs(A_subs)\n",
    "dotprint(A_eq)"
   ]
  },
  {
   "cell_type": "markdown",
   "metadata": {},
   "source": [
    "Now we do a similar process to find $B = \\frac{\\partial f}{\\partial u}$"
   ]
  },
  {
   "cell_type": "code",
   "execution_count": null,
   "metadata": {},
   "outputs": [],
   "source": [
    "B = ...\n",
    "dotprint(B)"
   ]
  },
  {
   "cell_type": "markdown",
   "metadata": {},
   "source": [
    "Like for the $A$ matrix, we need to substitute in our equilibrium values."
   ]
  },
  {
   "cell_type": "code",
   "execution_count": null,
   "metadata": {},
   "outputs": [],
   "source": [
    "B_subs = {\n",
    "    ...\n",
    "}\n",
    "\n",
    "B_eq = B.subs(B_subs)\n",
    "dotprint(B_eq)"
   ]
  },
  {
   "cell_type": "markdown",
   "metadata": {},
   "source": [
    "### Final Equations\n",
    "\n",
    "To obtain our final equations of motion, we define new variables measuring our offset from the equilibrium:\n",
    "\n",
    "$$\n",
    "\\begin{align*}\n",
    "\\tilde{x} &= x - x_e \\\\\n",
    "\\tilde{u} &= u - u_e\n",
    "\\end{align*}\n",
    "$$\n",
    "\n",
    "Our final equations of motion are:\n",
    "\n",
    "$$\n",
    "\\dot{\\tilde{x}} = A\\tilde{x} - B\\tilde{u}\n",
    "$$"
   ]
  }
 ],
 "metadata": {
  "kernelspec": {
   "display_name": "controls",
   "language": "python",
   "name": "python3"
  },
  "language_info": {
   "codemirror_mode": {
    "name": "ipython",
    "version": 3
   },
   "file_extension": ".py",
   "mimetype": "text/x-python",
   "name": "python",
   "nbconvert_exporter": "python",
   "pygments_lexer": "ipython3",
   "version": "3.12.5"
  }
 },
 "nbformat": 4,
 "nbformat_minor": 2
}
