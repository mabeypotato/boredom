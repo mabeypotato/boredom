{
 "cells": [
  {
   "cell_type": "code",
   "execution_count": 1,
   "metadata": {},
   "outputs": [],
   "source": [
    "import sympy\n",
    "from sympy import *\n",
    "from sympy.physics.vector.printing import vlatex\n",
    "from IPython.display import Math, display\n",
    "\n",
    "init_printing()\n",
    "\n",
    "def dotprint(expr):\n",
    "    display(Math(vlatex(expr)))"
   ]
  },
  {
   "cell_type": "code",
   "execution_count": 8,
   "metadata": {},
   "outputs": [],
   "source": [
    "b0, a0, a1, wn, zeta, s, kp, kd, Z, Zr = symbols('b_0, a_0, a_1, \\\\omega_n, \\\\zeta, s, k_p, k_D, Z, Z_r')"
   ]
  },
  {
   "cell_type": "code",
   "execution_count": 14,
   "metadata": {},
   "outputs": [],
   "source": [
    "char_eq = s**2 + 1.54*s + 1.21"
   ]
  },
  {
   "cell_type": "code",
   "execution_count": 17,
   "metadata": {},
   "outputs": [],
   "source": [
    "m = 5\n",
    "k = 3\n",
    "b = 0.5"
   ]
  },
  {
   "cell_type": "code",
   "execution_count": 15,
   "metadata": {},
   "outputs": [
    {
     "data": {
      "image/png": "[encoded data removed]",
      "text/latex": [
       "$\\displaystyle \\frac{b_{0} k_{p}}{a_{0} + b_{0} k_{p} + s^{2} + s \\left(a_{1} + b_{0} k_{D}\\right)}$"
      ],
      "text/plain": [
       "              b₀⋅kₚ              \n",
       "─────────────────────────────────\n",
       "              2                  \n",
       "a₀ + b₀⋅kₚ + s  + s⋅(a₁ + b₀⋅k_D)"
      ]
     },
     "execution_count": 15,
     "metadata": {},
     "output_type": "execute_result"
    }
   ],
   "source": [
    "trans_fcn = (b0*kp)/(s**2 + s*(a1 + b0*kd) + b0*kp + a0)\n",
    "\n",
    "simplify(trans_fcn)"
   ]
  },
  {
   "cell_type": "code",
   "execution_count": 16,
   "metadata": {},
   "outputs": [
    {
     "data": {
      "image/png": "[encoded data removed]",
      "text/latex": [
       "$\\displaystyle Z = \\frac{Z_{r} b_{0} k_{p}}{a_{0} + b_{0} k_{p} + s^{2} + s \\left(a_{1} + b_{0} k_{D}\\right)}$"
      ],
      "text/plain": [
       "                Zᵣ⋅b₀⋅kₚ             \n",
       "Z = ─────────────────────────────────\n",
       "                  2                  \n",
       "    a₀ + b₀⋅kₚ + s  + s⋅(a₁ + b₀⋅k_D)"
      ]
     },
     "execution_count": 16,
     "metadata": {},
     "output_type": "execute_result"
    }
   ],
   "source": [
    "LHS = Z\n",
    "RHS = Zr * trans_fcn\n",
    "\n",
    "PD_eq = Eq(LHS, RHS)\n",
    "\n",
    "PD_eq"
   ]
  },
  {
   "cell_type": "code",
   "execution_count": 19,
   "metadata": {},
   "outputs": [
    {
     "data": {
      "image/png": "[encoded data removed]",
      "text/latex": [
       "$\\displaystyle Z = \\frac{0.61 Z_{r}}{s^{2} + 1.54 s + 1.21}$"
      ],
      "text/plain": [
       "         0.61⋅Zᵣ      \n",
       "Z = ──────────────────\n",
       "     2                \n",
       "    s  + 1.54⋅s + 1.21"
      ]
     },
     "execution_count": 19,
     "metadata": {},
     "output_type": "execute_result"
    }
   ],
   "source": [
    "PD_eq_vals = PD_eq.subs({b0: 1/m, a0: k/m, a1: b/m, kp: 3.05, kd: 7.2})\n",
    "PD_eq_vals"
   ]
  }
 ],
 "metadata": {
  "kernelspec": {
   "display_name": ".venv",
   "language": "python",
   "name": "python3"
  },
  "language_info": {
   "codemirror_mode": {
    "name": "ipython",
    "version": 3
   },
   "file_extension": ".py",
   "mimetype": "text/x-python",
   "name": "python",
   "nbconvert_exporter": "python",
   "pygments_lexer": "ipython3",
   "version": "3.12.5"
  }
 },
 "nbformat": 4,
 "nbformat_minor": 2
}
