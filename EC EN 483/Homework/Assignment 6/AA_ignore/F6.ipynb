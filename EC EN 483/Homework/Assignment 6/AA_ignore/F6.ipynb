{
 "cells": [
  {
   "cell_type": "code",
   "execution_count": 17,
   "metadata": {},
   "outputs": [],
   "source": [
    "import sympy\n",
    "from sympy import *\n",
    "from sympy.physics.vector.printing import vlatex\n",
    "from IPython.display import Math, display\n",
    "\n",
    "init_printing()\n",
    "\n",
    "def dotprint(expr):\n",
    "    display(Math(vlatex(expr)))"
   ]
  },
  {
   "cell_type": "code",
   "execution_count": 18,
   "metadata": {},
   "outputs": [],
   "source": [
    "t = symbols('t')"
   ]
  },
  {
   "cell_type": "code",
   "execution_count": 19,
   "metadata": {},
   "outputs": [],
   "source": [
    "theta = symbols('\\\\theta', cls=Function)\n",
    "z = symbols('z', cls=Function)\n",
    "h = symbols('h', cls=Function)\n",
    "theta = theta(t)\n",
    "z = z(t)\n",
    "h = h(t)\n",
    "\n",
    "theta_dot = theta.diff(t)\n",
    "z_dot = z.diff(t)\n",
    "h_dot = h.diff(t)\n",
    "\n",
    "theta_ddot = theta_dot.diff(t)\n",
    "z_ddot = z_dot.diff(t)\n",
    "h_ddot = h_dot.diff(t)"
   ]
  },
  {
   "cell_type": "code",
   "execution_count": 20,
   "metadata": {},
   "outputs": [],
   "source": [
    "Fe, mc, mr, mu, Jc, d, tau, F = symbols('F_e, m_c, m_r, \\\\mu, J_c, d, \\\\tau, F')"
   ]
  },
  {
   "cell_type": "code",
   "execution_count": 21,
   "metadata": {},
   "outputs": [
    {
     "data": {
      "text/latex": [
       "$\\displaystyle \\left[\\begin{matrix}\\mu \\dot{z} + \\left(m_{c} + 2 m_{r}\\right) \\ddot{z}\\\\\\left(m_{c} + 2 m_{r}\\right) \\ddot{h}\\\\\\left(J_{c} + 2 d^{2} m_{r}\\right) \\ddot{\\theta}\\end{matrix}\\right] = \\left[\\begin{matrix}- F_{e} \\ddot{\\theta}\\\\F\\\\\\tau\\end{matrix}\\right]$"
      ],
      "text/plain": [
       "<IPython.core.display.Math object>"
      ]
     },
     "metadata": {},
     "output_type": "display_data"
    }
   ],
   "source": [
    "theta_t = (z_ddot*(mc + 2*mr) + mu*z_dot)\n",
    "\n",
    "F_t = h_ddot*(mc + 2*mr)\n",
    "\n",
    "tau_t = theta_ddot*(Jc + 2*mr*d**2)\n",
    "\n",
    "LHS = Matrix([theta_t, F_t, tau_t])\n",
    "\n",
    "RHS = Matrix([-1*Fe*theta_ddot, F, tau])\n",
    "\n",
    "lin_eqs = Eq(LHS, RHS)\n",
    "dotprint(lin_eqs)"
   ]
  },
  {
   "cell_type": "code",
   "execution_count": 24,
   "metadata": {},
   "outputs": [
    {
     "data": {
      "text/latex": [
       "$\\displaystyle \\left\\{ \\ddot{\\theta} : \\frac{\\tau}{J_{c} + 2 d^{2} m_{r}}, \\  \\ddot{h} : \\frac{F}{m_{c} + 2 m_{r}}, \\  \\ddot{z} : \\frac{- F_{e} \\tau - J_{c} \\mu \\dot{z} - 2 \\mu d^{2} m_{r} \\dot{z}}{J_{c} m_{c} + 2 J_{c} m_{r} + 2 d^{2} m_{c} m_{r} + 4 d^{2} m_{r}^{2}}\\right\\}$"
      ],
      "text/plain": [
       "<IPython.core.display.Math object>"
      ]
     },
     "metadata": {},
     "output_type": "display_data"
    }
   ],
   "source": [
    "solve_lin = solve(lin_eqs, (theta_ddot, z_ddot, h_ddot), simplify = True, dict = True)[0]\n",
    "dotprint(solve_lin)"
   ]
  },
  {
   "cell_type": "code",
   "execution_count": 27,
   "metadata": {},
   "outputs": [
    {
     "data": {
      "text/latex": [
       "$\\displaystyle \\left[\\begin{matrix}\\dot{\\theta}\\\\\\dot{z}\\\\\\dot{h}\\\\\\frac{\\tau}{J_{c} + 2 d^{2} m_{r}}\\\\\\frac{- F_{e} \\tau - J_{c} \\mu \\dot{z} - 2 \\mu d^{2} m_{r} \\dot{z}}{J_{c} m_{c} + 2 J_{c} m_{r} + 2 d^{2} m_{c} m_{r} + 4 d^{2} m_{r}^{2}}\\\\\\frac{F}{m_{c} + 2 m_{r}}\\end{matrix}\\right]$"
      ],
      "text/plain": [
       "<IPython.core.display.Math object>"
      ]
     },
     "metadata": {},
     "output_type": "display_data"
    }
   ],
   "source": [
    "theta_ddot_expr = solve_lin[theta_ddot]\n",
    "z_ddot_expr = solve_lin[z_ddot]\n",
    "h_ddot_expr = solve_lin[h_ddot]\n",
    "\n",
    "state_derive = Matrix([theta_dot, z_dot, h_dot, theta_ddot_expr, z_ddot_expr, h_ddot_expr])\n",
    "dotprint(state_derive)"
   ]
  },
  {
   "cell_type": "code",
   "execution_count": 26,
   "metadata": {},
   "outputs": [],
   "source": [
    "state = Matrix([z, z_dot, h, h_dot, theta, theta_dot])"
   ]
  }
 ],
 "metadata": {
  "kernelspec": {
   "display_name": ".venv",
   "language": "python",
   "name": "python3"
  },
  "language_info": {
   "codemirror_mode": {
    "name": "ipython",
    "version": 3
   },
   "file_extension": ".py",
   "mimetype": "text/x-python",
   "name": "python",
   "nbconvert_exporter": "python",
   "pygments_lexer": "ipython3",
   "version": "3.12.5"
  }
 },
 "nbformat": 4,
 "nbformat_minor": 2
}
