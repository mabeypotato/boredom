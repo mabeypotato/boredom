{
 "cells": [
  {
   "cell_type": "markdown",
   "metadata": {},
   "source": [
    "# Transfer Function: Design Study A"
   ]
  },
  {
   "cell_type": "code",
   "execution_count": 1,
   "metadata": {},
   "outputs": [],
   "source": [
    "import sympy\n",
    "from sympy import *\n",
    "from sympy.physics.vector.printing import vlatex\n",
    "from IPython.display import Math, display\n",
    "\n",
    "init_printing()\n",
    "\n",
    "def dotprint(expr):\n",
    "    display(Math(vlatex(expr)))"
   ]
  },
  {
   "cell_type": "code",
   "execution_count": 2,
   "metadata": {},
   "outputs": [],
   "source": [
    "t = symbols('t', real=True)\n",
    "theta = symbols(r'\\theta', cls=Function)\n",
    "theta = theta(t)\n",
    "theta\n",
    "\n",
    "theta_dot = theta.diff(t)\n",
    "theta_ddot = theta.diff(t,2)\n",
    "\n",
    "ell, m, g, P_0, tau, b = symbols(r'\\ell, m, g, P_0, \\tau, b', real=True)\n",
    "\n",
    "state = MatrixSymbol('x',2,1)"
   ]
  },
  {
   "cell_type": "code",
   "execution_count": 3,
   "metadata": {},
   "outputs": [
    {
     "data": {
      "text/latex": [
       "$\\displaystyle \\frac{\\ell^{2} m \\frac{d^{2}}{d t^{2}} \\theta{\\left(t \\right)}}{3} + \\frac{\\ell g m \\cos{\\left(\\theta{\\left(t \\right)} \\right)}}{2} = \\tau - b \\frac{d}{d t} \\theta{\\left(t \\right)}$"
      ],
      "text/plain": [
       "<IPython.core.display.Math object>"
      ]
     },
     "metadata": {},
     "output_type": "display_data"
    }
   ],
   "source": [
    "LHS = Rational(1,3)*m*ell**2*theta_ddot + Rational(1,2)*m*g*ell*cos(theta)\n",
    "RHS = tau - b*theta_dot\n",
    "\n",
    "dynamics = Eq(LHS, RHS)\n",
    "dotprint(dynamics)"
   ]
  },
  {
   "cell_type": "code",
   "execution_count": 4,
   "metadata": {},
   "outputs": [
    {
     "data": {
      "text/latex": [
       "$\\displaystyle \\left[\\begin{matrix}0 & 1\\\\\\frac{3 g \\sin{\\left({x}_{0,0} \\right)}}{2 \\ell} & - \\frac{3 b}{\\ell^{2} m}\\end{matrix}\\right]$"
      ],
      "text/plain": [
       "⎡     0           1   ⎤\n",
       "⎢                     ⎥\n",
       "⎢3⋅g⋅sin(x₀₀)   -3⋅b  ⎥\n",
       "⎢────────────  ───────⎥\n",
       "⎢   2⋅\\ell         2  ⎥\n",
       "⎣              \\ell ⋅m⎦"
      ]
     },
     "execution_count": 4,
     "metadata": {},
     "output_type": "execute_result"
    }
   ],
   "source": [
    "A = Matrix([\n",
    "    [0, 1],\n",
    "    [Rational(3,2)*g*sin(state[0])/ell, -3*b/(ell**2*m)]\n",
    "])\n",
    "A"
   ]
  },
  {
   "cell_type": "code",
   "execution_count": 5,
   "metadata": {},
   "outputs": [
    {
     "data": {
      "text/latex": [
       "$\\displaystyle \\left[\\begin{matrix}0\\\\\\frac{3}{\\ell^{2} m}\\end{matrix}\\right]$"
      ],
      "text/plain": [
       "⎡   0   ⎤\n",
       "⎢       ⎥\n",
       "⎢   3   ⎥\n",
       "⎢───────⎥\n",
       "⎢    2  ⎥\n",
       "⎣\\ell ⋅m⎦"
      ]
     },
     "execution_count": 5,
     "metadata": {},
     "output_type": "execute_result"
    }
   ],
   "source": [
    "B = Matrix([\n",
    "    [0],\n",
    "    [3/(ell**2*m)]\n",
    "])\n",
    "B"
   ]
  },
  {
   "cell_type": "markdown",
   "metadata": {},
   "source": [
    "For Design Study A, our output is typically $x_0 = \\theta$. This means that \n",
    "\n",
    "$$\n",
    "y = h(x,u) = [1,0] x = Cx\n",
    "$$\n",
    "\n",
    "where $C = [1,0]$.\n",
    "\n",
    "(Our typical linear output equation is $y = Cx+Du$, but here we have $D=0$.)"
   ]
  },
  {
   "cell_type": "code",
   "execution_count": 6,
   "metadata": {},
   "outputs": [],
   "source": [
    "C = Matrix([[1,0]])\n",
    "D = Matrix([[0]])"
   ]
  },
  {
   "cell_type": "markdown",
   "metadata": {},
   "source": [
    "## Deriving Transfer Function from State Space Equations\n",
    "\n",
    "First, we create a variable corresponding to $s$ in the Laplace domain."
   ]
  },
  {
   "cell_type": "code",
   "execution_count": 7,
   "metadata": {},
   "outputs": [],
   "source": [
    "#i = symbols('i')\n",
    "s = symbols('s')"
   ]
  },
  {
   "cell_type": "markdown",
   "metadata": {},
   "source": [
    "Next, we use the following equation to derive a transfer function representation from our state space equations:\n",
    "\n",
    "$$\n",
    "H(s) = C(sI-A)^{-1}B+D\n",
    "$$\n",
    "\n",
    "The polynomial $H(s)$ is the transfer function in the frequency domain."
   ]
  },
  {
   "cell_type": "code",
   "execution_count": 8,
   "metadata": {},
   "outputs": [
    {
     "data": {
      "image/png": "[encoded data removed]",
      "text/latex": [
       "$\\displaystyle \\frac{6}{2 \\ell^{2} m s^{2} - 3 \\ell g m \\sin{\\left({x}_{0,0} \\right)} + 6 b s}$"
      ],
      "text/plain": [
       "                    6                     \n",
       "──────────────────────────────────────────\n",
       "      2    2                              \n",
       "2⋅\\ell ⋅m⋅s  - 3⋅\\ell⋅g⋅m⋅sin(x₀₀) + 6⋅b⋅s"
      ]
     },
     "execution_count": 8,
     "metadata": {},
     "output_type": "execute_result"
    }
   ],
   "source": [
    "I = eye(2)\n",
    "\n",
    "H = (C @ (s*I - A).inv() @ B)[0]\n",
    "H"
   ]
  }
 ],
 "metadata": {
  "kernelspec": {
   "display_name": ".venv",
   "language": "python",
   "name": "python3"
  },
  "language_info": {
   "codemirror_mode": {
    "name": "ipython",
    "version": 3
   },
   "file_extension": ".py",
   "mimetype": "text/x-python",
   "name": "python",
   "nbconvert_exporter": "python",
   "pygments_lexer": "ipython3",
   "version": "3.12.5"
  }
 },
 "nbformat": 4,
 "nbformat_minor": 2
}
